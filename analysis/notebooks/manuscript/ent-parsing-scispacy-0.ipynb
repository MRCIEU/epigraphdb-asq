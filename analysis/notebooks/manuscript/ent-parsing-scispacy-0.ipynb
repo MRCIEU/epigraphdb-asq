{
 "cells": [
  {
   "cell_type": "markdown",
   "id": "b9e7e013-acbe-4ea7-ab68-f1aadba6a7c7",
   "metadata": {},
   "source": [
    "# Assessment of UMLS ent parsing using scispacy"
   ]
  },
  {
   "cell_type": "markdown",
   "id": "cd7d50d8-3249-4bee-a1c8-05f268a9087c",
   "metadata": {},
   "source": [
    "----"
   ]
  },
  {
   "cell_type": "code",
   "execution_count": 2,
   "id": "8606da56-5f3b-4fd0-95c5-dc13aafa8cd1",
   "metadata": {
    "execution": {
     "iopub.execute_input": "2024-07-22T16:38:23.181750Z",
     "iopub.status.busy": "2024-07-22T16:38:23.180635Z",
     "iopub.status.idle": "2024-07-22T16:38:23.360860Z",
     "shell.execute_reply": "2024-07-22T16:38:23.357935Z",
     "shell.execute_reply.started": "2024-07-22T16:38:23.181690Z"
    },
    "tags": []
   },
   "outputs": [],
   "source": [
    "%load_ext autoreload\n",
    "%load_ext lab_black\n",
    "\n",
    "%autoreload 2"
   ]
  },
  {
   "cell_type": "code",
   "execution_count": 1,
   "id": "fc29eb68-3380-4b49-bb87-a0ed19c6f45e",
   "metadata": {
    "execution": {
     "iopub.execute_input": "2024-07-22T16:38:17.614844Z",
     "iopub.status.busy": "2024-07-22T16:38:17.614184Z",
     "iopub.status.idle": "2024-07-22T16:38:19.486592Z",
     "shell.execute_reply": "2024-07-22T16:38:19.485557Z",
     "shell.execute_reply.started": "2024-07-22T16:38:17.614784Z"
    }
   },
   "outputs": [],
   "source": [
    "import json\n",
    "\n",
    "import numpy as np\n",
    "import pandas as pd\n",
    "from pydash import py_\n",
    "import altair as alt\n",
    "\n",
    "from analysis import utils\n",
    "from analysis.settings import config\n",
    "from analysis.funcs.generic import interval_str"
   ]
  },
  {
   "cell_type": "code",
   "execution_count": 10,
   "id": "5762411c-72b2-4d20-838c-9317755f4f87",
   "metadata": {
    "execution": {
     "iopub.execute_input": "2024-07-23T09:28:05.592842Z",
     "iopub.status.busy": "2024-07-23T09:28:05.592076Z",
     "iopub.status.idle": "2024-07-23T09:28:06.502202Z",
     "shell.execute_reply": "2024-07-23T09:28:06.501444Z",
     "shell.execute_reply.started": "2024-07-23T09:28:05.592787Z"
    }
   },
   "outputs": [
    {
     "name": "stderr",
     "output_type": "stream",
     "text": [
      "Your CPU supports instructions that this binary was not compiled to use: SSE3 SSE4.1 SSE4.2 AVX AVX2\n",
      "For maximum performance, you can install NMSLIB from sources \n",
      "pip install --no-binary :all: nmslib\n"
     ]
    }
   ],
   "source": [
    "import spacy\n",
    "import scispacy\n",
    "\n",
    "from scispacy.linking import EntityLinker"
   ]
  },
  {
   "cell_type": "markdown",
   "id": "aac998df-6b22-4f96-ae7b-93ac7249199a",
   "metadata": {},
   "source": [
    "----"
   ]
  },
  {
   "cell_type": "code",
   "execution_count": 6,
   "id": "585d3e59-fcc4-4b49-b191-dec14d98b456",
   "metadata": {
    "execution": {
     "iopub.execute_input": "2024-07-22T16:49:33.488425Z",
     "iopub.status.busy": "2024-07-22T16:49:33.487640Z",
     "iopub.status.idle": "2024-07-22T16:49:33.522010Z",
     "shell.execute_reply": "2024-07-22T16:49:33.521006Z",
     "shell.execute_reply.started": "2024-07-22T16:49:33.488341Z"
    }
   },
   "outputs": [],
   "source": [
    "INTERVAL = \"2020-01-01/2021-12-31\"\n",
    "interval_fmt = interval_str(INTERVAL)\n",
    "DATA_ROOT = utils.find_data_root()\n",
    "\n",
    "data_dir = DATA_ROOT / \"medrxiv_experiments\" / interval_fmt\n",
    "assert data_dir.exists(), print(data_dir)\n",
    "\n",
    "model_dir = DATA_ROOT / \"models\"\n",
    "assert model_dir.exists(), print(model_dir)\n",
    "\n",
    "analysis_dir = DATA_ROOT / \"analysis\"\n",
    "assert analysis_dir.exists(), print(analysis_dir)\n",
    "\n",
    "analysis_assets_dir = utils.find_analysis_artifacts_dir()\n",
    "assert analysis_assets_dir.exists(), print(analysis_assets_dir)"
   ]
  },
  {
   "cell_type": "code",
   "execution_count": 12,
   "id": "4d41e81c-64b5-4260-9234-40faecd17c92",
   "metadata": {
    "execution": {
     "iopub.execute_input": "2024-07-23T09:31:24.422571Z",
     "iopub.status.busy": "2024-07-23T09:31:24.421913Z",
     "iopub.status.idle": "2024-07-23T09:31:40.925420Z",
     "shell.execute_reply": "2024-07-23T09:31:40.924333Z",
     "shell.execute_reply.started": "2024-07-23T09:31:24.422513Z"
    }
   },
   "outputs": [
    {
     "name": "stderr",
     "output_type": "stream",
     "text": [
      "/home/ik18445/miniforge3/envs/asq-analysis/lib/python3.8/site-packages/spacy/language.py:2195: FutureWarning: Possible set union at position 6328\n",
      "  deserializers[\"tokenizer\"] = lambda p: self.tokenizer.from_disk(  # type: ignore[union-attr]\n"
     ]
    }
   ],
   "source": [
    "model_path = (\n",
    "    model_dir / \"en_core_sci_lg-0.5.4\" / \"en_core_sci_lg\" / \"en_core_sci_lg-0.5.4\"\n",
    ")\n",
    "assert model_path.exists(), print(model_path)\n",
    "assert (model_path / \"config.cfg\").exists()\n",
    "\n",
    "nlp = spacy.load(model_path)"
   ]
  },
  {
   "cell_type": "markdown",
   "id": "540e5430-9f72-4d2b-b190-d47375b628dc",
   "metadata": {},
   "source": [
    "----"
   ]
  },
  {
   "cell_type": "code",
   "execution_count": 13,
   "id": "20bb02a3-683e-4e8f-9cf8-2c69f5c70c3c",
   "metadata": {
    "execution": {
     "iopub.execute_input": "2024-07-23T09:37:01.305483Z",
     "iopub.status.busy": "2024-07-23T09:37:01.304243Z",
     "iopub.status.idle": "2024-07-23T09:52:02.412994Z",
     "shell.execute_reply": "2024-07-23T09:52:02.411511Z",
     "shell.execute_reply.started": "2024-07-23T09:37:01.305421Z"
    },
    "scrolled": true
   },
   "outputs": [
    {
     "name": "stdout",
     "output_type": "stream",
     "text": [
      "https://s3-us-west-2.amazonaws.com/ai2-s2-scispacy/data/linkers/2023-04-23/umls/tfidf_vectors_sparse.npz not found in cache, downloading to /tmp/tmpz11_nfkv\n"
     ]
    },
    {
     "name": "stderr",
     "output_type": "stream",
     "text": [
      "100%|████████████████████████████████████████████████████████████████████| 492M/492M [00:55<00:00, 9.36MiB/s]\n"
     ]
    },
    {
     "name": "stdout",
     "output_type": "stream",
     "text": [
      "Finished download, copying /tmp/tmpz11_nfkv to cache at /home/ik18445/.scispacy/datasets/2b79923846fb52e62d686f2db846392575c8eb5b732d9d26cd3ca9378c622d40.87bd52d0f0ee055c1e455ef54ba45149d188552f07991b765da256a1b512ca0b.tfidf_vectors_sparse.npz\n",
      "https://s3-us-west-2.amazonaws.com/ai2-s2-scispacy/data/linkers/2023-04-23/umls/nmslib_index.bin not found in cache, downloading to /tmp/tmp9hy6rcmz\n"
     ]
    },
    {
     "name": "stderr",
     "output_type": "stream",
     "text": [
      "100%|████████████████████████████████████████████████████████████████████| 724M/724M [01:52<00:00, 6.74MiB/s]\n"
     ]
    },
    {
     "name": "stdout",
     "output_type": "stream",
     "text": [
      "Finished download, copying /tmp/tmp9hy6rcmz to cache at /home/ik18445/.scispacy/datasets/7e8e091ec80370b87b1652f461eae9d926e543a403a69c1f0968f71157322c25.6d801a1e14867953e36258b0e19a23723ae84b0abd2a723bdd3574c3e0c873b4.nmslib_index.bin\n",
      "https://s3-us-west-2.amazonaws.com/ai2-s2-scispacy/data/linkers/2023-04-23/umls/tfidf_vectorizer.joblib not found in cache, downloading to /tmp/tmprnunyq5t\n"
     ]
    },
    {
     "name": "stderr",
     "output_type": "stream",
     "text": [
      "100%|██████████████████████████████████████████████████████████████████| 1.32M/1.32M [00:01<00:00, 1.38MiB/s]\n",
      "/home/ik18445/miniforge3/envs/asq-analysis/lib/python3.8/site-packages/sklearn/base.py:348: InconsistentVersionWarning: Trying to unpickle estimator TfidfTransformer from version 1.1.2 when using version 1.3.2. This might lead to breaking code or invalid results. Use at your own risk. For more info please refer to:\n",
      "https://scikit-learn.org/stable/model_persistence.html#security-maintainability-limitations\n",
      "  warnings.warn(\n"
     ]
    },
    {
     "name": "stdout",
     "output_type": "stream",
     "text": [
      "Finished download, copying /tmp/tmprnunyq5t to cache at /home/ik18445/.scispacy/datasets/37bc06bb7ce30de7251db5f5cbac788998e33b3984410caed2d0083187e01d38.f0994c1b61cc70d0eb96dea4947dddcb37460fb5ae60975013711228c8fe3fba.tfidf_vectorizer.joblib\n"
     ]
    },
    {
     "name": "stderr",
     "output_type": "stream",
     "text": [
      "/home/ik18445/miniforge3/envs/asq-analysis/lib/python3.8/site-packages/sklearn/base.py:348: InconsistentVersionWarning: Trying to unpickle estimator TfidfVectorizer from version 1.1.2 when using version 1.3.2. This might lead to breaking code or invalid results. Use at your own risk. For more info please refer to:\n",
      "https://scikit-learn.org/stable/model_persistence.html#security-maintainability-limitations\n",
      "  warnings.warn(\n"
     ]
    },
    {
     "name": "stdout",
     "output_type": "stream",
     "text": [
      "https://s3-us-west-2.amazonaws.com/ai2-s2-scispacy/data/linkers/2023-04-23/umls/concept_aliases.json not found in cache, downloading to /tmp/tmpa4vjb2m6\n"
     ]
    },
    {
     "name": "stderr",
     "output_type": "stream",
     "text": [
      "100%|█████████████████████████████████████████████████████████████████████| 264M/264M [09:30<00:00, 485kiB/s]\n"
     ]
    },
    {
     "name": "stdout",
     "output_type": "stream",
     "text": [
      "Finished download, copying /tmp/tmpa4vjb2m6 to cache at /home/ik18445/.scispacy/datasets/6238f505f56aca33290aab44097f67dd1b88880e3be6d6dcce65e56e9255b7d4.d7f77b1629001b40f1b1bc951f3a890ff2d516fb8fbae3111b236b31b33d6dcf.concept_aliases.json\n",
      "https://s3-us-west-2.amazonaws.com/ai2-s2-scispacy/data/kbs/2023-04-23/umls_2022_ab_cat0129.jsonl not found in cache, downloading to /tmp/tmpr779rfyq\n"
     ]
    },
    {
     "name": "stderr",
     "output_type": "stream",
     "text": [
      "100%|████████████████████████████████████████████████████████████████████| 628M/628M [00:42<00:00, 15.4MiB/s]\n"
     ]
    },
    {
     "name": "stdout",
     "output_type": "stream",
     "text": [
      "Finished download, copying /tmp/tmpr779rfyq to cache at /home/ik18445/.scispacy/datasets/d5e593bc2d8adeee7754be423cd64f5d331ebf26272074a2575616be55697632.0660f30a60ad00fffd8bbf084a18eb3f462fd192ac5563bf50940fc32a850a3c.umls_2022_ab_cat0129.jsonl\n"
     ]
    },
    {
     "data": {
      "text/plain": [
       "<scispacy.linking.EntityLinker at 0x7f478c364760>"
      ]
     },
     "execution_count": 13,
     "metadata": {},
     "output_type": "execute_result"
    }
   ],
   "source": [
    "nlp.add_pipe(\n",
    "    \"scispacy_linker\", config={\"resolve_abbreviations\": True, \"linker_name\": \"umls\"}\n",
    ")"
   ]
  },
  {
   "cell_type": "code",
   "execution_count": 14,
   "id": "9e1b9517-d7a2-48ea-bffe-45a45b804baf",
   "metadata": {
    "execution": {
     "iopub.execute_input": "2024-07-23T09:52:40.176935Z",
     "iopub.status.busy": "2024-07-23T09:52:40.176257Z",
     "iopub.status.idle": "2024-07-23T09:52:40.292225Z",
     "shell.execute_reply": "2024-07-23T09:52:40.291199Z",
     "shell.execute_reply.started": "2024-07-23T09:52:40.176879Z"
    }
   },
   "outputs": [],
   "source": [
    "doc = nlp(\n",
    "    \"Spinal and bulbar muscular atrophy (SBMA) is an \\\n",
    "           inherited motor neuron disease caused by the expansion \\\n",
    "           of a polyglutamine tract within the androgen receptor (AR). \\\n",
    "           SBMA can be caused by this easily.\"\n",
    ")"
   ]
  },
  {
   "cell_type": "code",
   "execution_count": 16,
   "id": "5105c872-58dc-4857-8f0c-45dffc05270b",
   "metadata": {
    "execution": {
     "iopub.execute_input": "2024-07-23T09:53:08.004608Z",
     "iopub.status.busy": "2024-07-23T09:53:08.003599Z",
     "iopub.status.idle": "2024-07-23T09:53:08.041475Z",
     "shell.execute_reply": "2024-07-23T09:53:08.039883Z",
     "shell.execute_reply.started": "2024-07-23T09:53:08.004559Z"
    }
   },
   "outputs": [
    {
     "name": "stdout",
     "output_type": "stream",
     "text": [
      "bulbar muscular atrophy\n"
     ]
    }
   ],
   "source": [
    "entity = doc.ents[1]\n",
    "print(entity)"
   ]
  },
  {
   "cell_type": "code",
   "execution_count": 35,
   "id": "9e6bfda9-204d-448a-9a62-d5a839ec2c07",
   "metadata": {
    "execution": {
     "iopub.execute_input": "2024-07-23T11:02:20.871700Z",
     "iopub.status.busy": "2024-07-23T11:02:20.871074Z",
     "iopub.status.idle": "2024-07-23T11:02:20.903324Z",
     "shell.execute_reply": "2024-07-23T11:02:20.902467Z",
     "shell.execute_reply.started": "2024-07-23T11:02:20.871643Z"
    }
   },
   "outputs": [
    {
     "name": "stdout",
     "output_type": "stream",
     "text": [
      "10\n",
      "\n",
      "\n",
      "Spinal\n",
      "bulbar muscular atrophy\n",
      "SBMA\n",
      "inherited\n",
      "motor neuron disease\n",
      "expansion\n",
      "polyglutamine tract\n",
      "androgen receptor (\n",
      "AR\n",
      "SBMA\n"
     ]
    }
   ],
   "source": [
    "print(len(doc.ents))\n",
    "print(\"\\n\")\n",
    "for _ in doc.ents:\n",
    "    print(_)"
   ]
  },
  {
   "cell_type": "code",
   "execution_count": 26,
   "id": "b40b0215-8123-444f-b464-bc1f1c0cead2",
   "metadata": {
    "execution": {
     "iopub.execute_input": "2024-07-23T10:18:34.942378Z",
     "iopub.status.busy": "2024-07-23T10:18:34.941752Z",
     "iopub.status.idle": "2024-07-23T10:18:35.270841Z",
     "shell.execute_reply": "2024-07-23T10:18:35.269935Z",
     "shell.execute_reply.started": "2024-07-23T10:18:34.942322Z"
    }
   },
   "outputs": [
    {
     "name": "stdout",
     "output_type": "stream",
     "text": [
      "0\n",
      "umls_ent ('C1367578', 0.9090511202812195)\n",
      "cui to entity CUI: C1367578, Name: AR gene\n",
      "Definition: This gene plays a role in the transcriptional activation of androgen responsive genes.\n",
      "TUI(s): T028\n",
      "Aliases (abbreviated, total: 19): \n",
      "\t NUCLEAR RECEPTOR SUBFAMILY 3, GROUP C, MEMBER 4, AR, Androgen Receptor Gene, AR Gene, spinal and bulbar muscular atrophy, SMAX1, ANDROGEN RECEPTOR, Androgen Receptor (Dihydrotestosterone Receptor; Testicular Feminization; Spinal and Bulbar Muscular Atrophy; Kennedy Disease) Gene, testicular feminization, androgen receptor\n",
      "\n",
      "\n",
      "1\n",
      "umls_ent ('C1839259', 0.9090511202812195)\n",
      "cui to entity CUI: C1839259, Name: Bulbo-Spinal Atrophy, X-Linked\n",
      "Definition: An X-linked recessive form of spinal muscular atrophy. It is due to a mutation of the gene encoding the ANDROGEN RECEPTOR.\n",
      "TUI(s): T047\n",
      "Aliases (abbreviated, total: 44): \n",
      "\t X-linked bulbospinal atrophy, Bulbo-Spinal Atrophy, X-Linked, KD, Atrophy, Spinobulbar Muscular, X-Linked Bulbo-Spinal Atrophy, Atrophy, X-Linked Bulbo-Spinal, X-linked spinal and bulbar muscular atrophy, Spinobulbar Muscular Atrophies, X-linked BSMA, Spinal And Bulbar Muscular Atrophy, X-Linked 1\n",
      "\n",
      "\n",
      "2\n",
      "umls_ent ('C0026846', 0.7969385385513306)\n",
      "cui to entity CUI: C0026846, Name: Muscular Atrophy\n",
      "Definition: Derangement in size and number of muscle fibers occurring with aging, reduction in blood supply, or following immobilization, prolonged weightlessness, malnutrition, and particularly in denervation.\n",
      "TUI(s): T046\n",
      "Aliases (abbreviated, total: 34): \n",
      "\t Atrophy, Muscular, muscular atrophies, Muscle atrophy, ATROPHY MUSCLE, Muscle Atrophies, muscle atrophy, amyotrophia, Amyotrophia, MUSCLE WASTING, Muscular Atrophy\n",
      "\n",
      "\n",
      "3\n",
      "umls_ent ('C0541794', 0.7969385385513306)\n",
      "cui to entity CUI: C0541794, Name: Skeletal muscle atrophy\n",
      "Definition: A process, occurring in skeletal muscle, that is characterized by a decrease in protein content, fiber diameter, force production and fatigue resistance in response to different conditions such as starvation, aging and disuse. [GOC:mtg_muscle]\n",
      "TUI(s): T046\n",
      "Aliases: (total: 10): \n",
      "\t Muscle hypotrophy, Muscle wasting, Muscular atrophy, ATROPHY SKELETAL MUSCLE, skeletal muscle atrophy, Skeletal muscle atrophy, Muscle atrophy, Amyotrophy involving the extremities, Amyotrophy, Atrophy of the skeletal muscles\n",
      "\n",
      "\n",
      "4\n",
      "umls_ent ('C1447749', 0.7941256761550903)\n",
      "cui to entity CUI: C1447749, Name: AR protein, human\n",
      "Definition: Androgen receptor (919 aa, ~99 kDa) is encoded by the human AR gene. This protein plays a role in the modulation of steroid-dependent gene transcription.\n",
      "TUI(s): T116, T192\n",
      "Aliases (abbreviated, total: 13): \n",
      "\t HUMARA protein, human, Androgen Receptor, Kennedy disease protein, human, DHTR protein, human, testicular feminization protein, human, Dihydrotestosterone Receptor, polymorphic X-linked androgen receptor, human, AR (androgen receptor (dihydrotestosterone receptor; testicular feminization; spinal and bulbar muscular atrophy; Kennedy disease)) protein, human, androgen receptor, human, dihydrotestosterone receptor, human\n",
      "\n",
      "\n"
     ]
    }
   ],
   "source": [
    "linker = nlp.get_pipe(\"scispacy_linker\")\n",
    "for idx, umls_ent in enumerate(entity._.kb_ents):\n",
    "    print(f\"{idx}\")\n",
    "    print(\"umls_ent\", umls_ent)\n",
    "    print(\"cui to entity\", linker.kb.cui_to_entity[umls_ent[0]])\n",
    "    print(\"\\n\")"
   ]
  },
  {
   "cell_type": "code",
   "execution_count": 34,
   "id": "f61f9450-f89d-42b6-a546-e5b2bdb8295f",
   "metadata": {
    "execution": {
     "iopub.execute_input": "2024-07-23T10:43:24.234015Z",
     "iopub.status.busy": "2024-07-23T10:43:24.233259Z",
     "iopub.status.idle": "2024-07-23T10:43:24.273369Z",
     "shell.execute_reply": "2024-07-23T10:43:24.272495Z",
     "shell.execute_reply.started": "2024-07-23T10:43:24.233956Z"
    }
   },
   "outputs": [
    {
     "name": "stdout",
     "output_type": "stream",
     "text": [
      "\n",
      "---- ent_idx 0 start ----\n",
      "\n",
      "ent_idx: 0\n",
      "entity: Spinal\n",
      "len kb_ents 5\n",
      "\n",
      "\n",
      "ent_idx 0, kb_ent_idx 0\n",
      "umls_ent ('C0521329', 1.0)\n",
      "cui to entity CUI: C0521329, Name: Spinal\n",
      "Definition: Of or relating to the spine or spinal cord.\n",
      "TUI(s): T082\n",
      "Aliases: (total: 2): \n",
      "\t spinal, Spinal\n",
      "\n",
      "\n",
      "ent_idx 0, kb_ent_idx 1\n",
      "umls_ent ('C0037922', 0.8047173619270325)\n",
      "cui to entity CUI: C0037922, Name: Spinal Canal\n",
      "Definition: The cavity within the SPINAL COLUMN through which the SPINAL CORD passes.\n",
      "TUI(s): T030\n",
      "Aliases (abbreviated, total: 17): \n",
      "\t Canalis vertebralis, Vertebral Canals, Spinal Canals, Vertebral Canal, Spinal canal, NOS, Vertebral canal, Vertebral canal, NOS, Spinal canal structure, canal spinal, Spinal Canal\n",
      "\n",
      "\n",
      "ent_idx 0, kb_ent_idx 2\n",
      "umls_ent ('C3887662', 0.7629552483558655)\n",
      "cui to entity CUI: C3887662, Name: Intraspinal Neoplasm\n",
      "Definition: A neoplasm that occurs within the spinal canal including the spinal cord and surrounding paraspinal spaces.\n",
      "TUI(s): T191\n",
      "Aliases (abbreviated, total: 16): \n",
      "\t Neoplasm of the Spinal Canal and Spinal Cord, spinal neoplasms, Spinal Canal and Spinal Cord Tumor, Intraspinal Neoplasms, Spinal Neoplasms, Neoplasm of Spinal Canal and Spinal Cord, Spinal Tumors, Intraspinal Neoplasm, Tumor of the Spinal Canal and Spinal Cord, Spinal Canal and Spinal Cord Neoplasm\n",
      "\n",
      "\n",
      "ent_idx 0, kb_ent_idx 3\n",
      "umls_ent ('C1334264', 0.7205283641815186)\n",
      "cui to entity CUI: C1334264, Name: Spinal Meningioma\n",
      "Definition: A meningioma that arises from the spinal meninges.\n",
      "TUI(s): T191\n",
      "Aliases: (total: 5): \n",
      "\t Spinal Canal and Spinal Cord Meningioma, Meningioma of Spinal Canal and Spinal Cord, Spinal Meningioma, Meningioma of the Spinal Canal and Spinal Cord, Intraspinal Meningioma\n",
      "\n",
      "\n",
      "ent_idx 0, kb_ent_idx 4\n",
      "umls_ent ('C0037925', 0.7158474922180176)\n",
      "cui to entity CUI: C0037925, Name: Spinal Cord\n",
      "Definition: A cylindrical column of tissue that lies within the vertebral canal. It is composed of WHITE MATTER and GRAY MATTER.\n",
      "TUI(s): T023\n",
      "Aliases (abbreviated, total: 20): \n",
      "\t Medulla Spinali, Spinal cord, NOS, Cords, Spinal, SPINAL CORD, spinal cord, spinal cords, Medulla Spinalis, Medulla spinalis, Spinali, Medulla, Cord, Spinal\n",
      "\n",
      "\n",
      "\n",
      "---- ent_idx 0 done ----\n",
      "\n",
      "\n",
      "---- ent_idx 1 start ----\n",
      "\n",
      "ent_idx: 1\n",
      "entity: bulbar muscular atrophy\n",
      "len kb_ents 5\n",
      "\n",
      "\n",
      "ent_idx 1, kb_ent_idx 0\n",
      "umls_ent ('C1367578', 0.9090511202812195)\n",
      "cui to entity CUI: C1367578, Name: AR gene\n",
      "Definition: This gene plays a role in the transcriptional activation of androgen responsive genes.\n",
      "TUI(s): T028\n",
      "Aliases (abbreviated, total: 19): \n",
      "\t NUCLEAR RECEPTOR SUBFAMILY 3, GROUP C, MEMBER 4, AR, Androgen Receptor Gene, AR Gene, spinal and bulbar muscular atrophy, SMAX1, ANDROGEN RECEPTOR, Androgen Receptor (Dihydrotestosterone Receptor; Testicular Feminization; Spinal and Bulbar Muscular Atrophy; Kennedy Disease) Gene, testicular feminization, androgen receptor\n",
      "\n",
      "\n",
      "ent_idx 1, kb_ent_idx 1\n",
      "umls_ent ('C1839259', 0.9090511202812195)\n",
      "cui to entity CUI: C1839259, Name: Bulbo-Spinal Atrophy, X-Linked\n",
      "Definition: An X-linked recessive form of spinal muscular atrophy. It is due to a mutation of the gene encoding the ANDROGEN RECEPTOR.\n",
      "TUI(s): T047\n",
      "Aliases (abbreviated, total: 44): \n",
      "\t X-linked bulbospinal atrophy, Bulbo-Spinal Atrophy, X-Linked, KD, Atrophy, Spinobulbar Muscular, X-Linked Bulbo-Spinal Atrophy, Atrophy, X-Linked Bulbo-Spinal, X-linked spinal and bulbar muscular atrophy, Spinobulbar Muscular Atrophies, X-linked BSMA, Spinal And Bulbar Muscular Atrophy, X-Linked 1\n",
      "\n",
      "\n",
      "ent_idx 1, kb_ent_idx 2\n",
      "umls_ent ('C0026846', 0.7969385385513306)\n",
      "cui to entity CUI: C0026846, Name: Muscular Atrophy\n",
      "Definition: Derangement in size and number of muscle fibers occurring with aging, reduction in blood supply, or following immobilization, prolonged weightlessness, malnutrition, and particularly in denervation.\n",
      "TUI(s): T046\n",
      "Aliases (abbreviated, total: 34): \n",
      "\t Atrophy, Muscular, muscular atrophies, Muscle atrophy, ATROPHY MUSCLE, Muscle Atrophies, muscle atrophy, amyotrophia, Amyotrophia, MUSCLE WASTING, Muscular Atrophy\n",
      "\n",
      "\n",
      "ent_idx 1, kb_ent_idx 3\n",
      "umls_ent ('C0541794', 0.7969385385513306)\n",
      "cui to entity CUI: C0541794, Name: Skeletal muscle atrophy\n",
      "Definition: A process, occurring in skeletal muscle, that is characterized by a decrease in protein content, fiber diameter, force production and fatigue resistance in response to different conditions such as starvation, aging and disuse. [GOC:mtg_muscle]\n",
      "TUI(s): T046\n",
      "Aliases: (total: 10): \n",
      "\t Muscle hypotrophy, Muscle wasting, Muscular atrophy, ATROPHY SKELETAL MUSCLE, skeletal muscle atrophy, Skeletal muscle atrophy, Muscle atrophy, Amyotrophy involving the extremities, Amyotrophy, Atrophy of the skeletal muscles\n",
      "\n",
      "\n",
      "ent_idx 1, kb_ent_idx 4\n",
      "umls_ent ('C1447749', 0.7941256761550903)\n",
      "cui to entity CUI: C1447749, Name: AR protein, human\n",
      "Definition: Androgen receptor (919 aa, ~99 kDa) is encoded by the human AR gene. This protein plays a role in the modulation of steroid-dependent gene transcription.\n",
      "TUI(s): T116, T192\n",
      "Aliases (abbreviated, total: 13): \n",
      "\t HUMARA protein, human, Androgen Receptor, Kennedy disease protein, human, DHTR protein, human, testicular feminization protein, human, Dihydrotestosterone Receptor, polymorphic X-linked androgen receptor, human, AR (androgen receptor (dihydrotestosterone receptor; testicular feminization; spinal and bulbar muscular atrophy; Kennedy disease)) protein, human, androgen receptor, human, dihydrotestosterone receptor, human\n",
      "\n",
      "\n",
      "\n",
      "---- ent_idx 1 done ----\n",
      "\n",
      "\n",
      "---- ent_idx 2 start ----\n",
      "\n",
      "ent_idx: 2\n",
      "entity: SBMA\n",
      "len kb_ents 3\n",
      "\n",
      "\n",
      "ent_idx 2, kb_ent_idx 0\n",
      "umls_ent ('C1367578', 1.0)\n",
      "cui to entity CUI: C1367578, Name: AR gene\n",
      "Definition: This gene plays a role in the transcriptional activation of androgen responsive genes.\n",
      "TUI(s): T028\n",
      "Aliases (abbreviated, total: 19): \n",
      "\t NUCLEAR RECEPTOR SUBFAMILY 3, GROUP C, MEMBER 4, AR, Androgen Receptor Gene, AR Gene, spinal and bulbar muscular atrophy, SMAX1, ANDROGEN RECEPTOR, Androgen Receptor (Dihydrotestosterone Receptor; Testicular Feminization; Spinal and Bulbar Muscular Atrophy; Kennedy Disease) Gene, testicular feminization, androgen receptor\n",
      "\n",
      "\n",
      "ent_idx 2, kb_ent_idx 1\n",
      "umls_ent ('C1705240', 1.0)\n",
      "cui to entity CUI: C1705240, Name: AR wt Allele\n",
      "Definition: Human AR wild-type allele is located within Xq11.2-q12 and is approximately 180 kb in length. This allele, which encodes androgen receptor protein, is involved in steroid-hormone activated transcriptional regulation. Mutations in the gene are associated with complete androgen insensitivity syndrome.\n",
      "TUI(s): T028\n",
      "Aliases (abbreviated, total: 11): \n",
      "\t KD, SMAX1, NR3C4, Androgen Receptor (Dihydrotestosterone Receptor; Testicular Feminization; Spinal and Bulbar Muscular Atrophy; Kennedy Disease) wt Allele, TFM, DHTR, AR, SBMA, AIS, HUMARA\n",
      "\n",
      "\n",
      "ent_idx 2, kb_ent_idx 2\n",
      "umls_ent ('C1839259', 1.0)\n",
      "cui to entity CUI: C1839259, Name: Bulbo-Spinal Atrophy, X-Linked\n",
      "Definition: An X-linked recessive form of spinal muscular atrophy. It is due to a mutation of the gene encoding the ANDROGEN RECEPTOR.\n",
      "TUI(s): T047\n",
      "Aliases (abbreviated, total: 44): \n",
      "\t X-linked bulbospinal atrophy, Bulbo-Spinal Atrophy, X-Linked, KD, Atrophy, Spinobulbar Muscular, X-Linked Bulbo-Spinal Atrophy, Atrophy, X-Linked Bulbo-Spinal, X-linked spinal and bulbar muscular atrophy, Spinobulbar Muscular Atrophies, X-linked BSMA, Spinal And Bulbar Muscular Atrophy, X-Linked 1\n",
      "\n",
      "\n",
      "\n",
      "---- ent_idx 2 done ----\n",
      "\n",
      "\n",
      "---- ent_idx 3 start ----\n",
      "\n",
      "ent_idx: 3\n",
      "entity: inherited\n",
      "len kb_ents 5\n",
      "\n",
      "\n",
      "ent_idx 3, kb_ent_idx 0\n",
      "umls_ent ('C0439660', 1.0)\n",
      "cui to entity CUI: C0439660, Name: Hereditary\n",
      "Definition: Transmitted through genes from parents to offspring. (genome.gov)\n",
      "TUI(s): T169\n",
      "Aliases: (total: 10): \n",
      "\t inherited, hereditary, Hereditary (qualifier value), inheriting, Hereditary, inherit, INHERITED, Heritable, Inherited, HEREDITARY\n",
      "\n",
      "\n",
      "ent_idx 3, kb_ent_idx 1\n",
      "umls_ent ('C4707228', 0.8215542435646057)\n",
      "cui to entity CUI: C4707228, Name: Inherited acute myeloid leukemia\n",
      "Definition: A rare malignant hematologic disease characterized by clonal proliferation of myeloid blasts, primarily involving the bone marrow, in association with congenital disorders (e.g. Fanconi anemia, dyskeratosis congenita, Bloom syndrome, Down syndrome, congenital neutropenia, neurofibromatosis) and genetic defects predisposing to acute myeloid leukemia. Patients present with signs and symptoms related to ineffective hematopoesis (fatigue, bleeding and bruising, recurrent infections, bone pain) and/or extramedullary site involvement (gingivitis, splenomegaly). Depending on the underlying genetic defect, there may be additional cancer risks and other health problems present.\n",
      "TUI(s): T191\n",
      "Aliases: (total: 8): \n",
      "\t Pure familial acute myeloid leukemia, Inherited acute myeloid leukemia (disorder), Inherited acute myeloid leukemia, Inherited acute myeloid leukaemia, Inherited AML, Pure familial AML, Familial AML, Pure familial acute myeloid leukaemia\n",
      "\n",
      "\n",
      "ent_idx 3, kb_ent_idx 2\n",
      "umls_ent ('C0019247', 0.8010753393173218)\n",
      "cui to entity CUI: C0019247, Name: Hereditary Diseases\n",
      "Definition: Genetic diseases are diseases in which inherited genes predispose to increased risk. The genetic disorders associated with cancer often result from an alteration or mutation in a single gene. The diseases range from rare dominant cancer family syndrome to familial tendencies in which low-penetrance genes may interact with other genes or environmental factors to induce cancer. Research may involve clinical, epidemiologic, and laboratory studies of persons, families, and populations at high risk of these disorders.\n",
      "TUI(s): T047\n",
      "Aliases (abbreviated, total: 48): \n",
      "\t genetic disease, Genetic diseases, Genetic disease, genetic condition, syndrome genetic, diseases hereditary, Genetic Diseases, hereditary disorders, genetic syndromes, Disease, Genetic\n",
      "\n",
      "\n",
      "ent_idx 3, kb_ent_idx 3\n",
      "umls_ent ('C4277541', 0.7359010577201843)\n",
      "cui to entity CUI: C4277541, Name: Paternal Inheritance\n",
      "Definition: A form of inheritance where the traits of the offspring are paternal in origin due to the expression of extra-nuclear genetic material such as MITOCHONDRIAL DNA or Y chromosome genes. CENTRIOLES are also paternally inherited.\n",
      "TUI(s): T045\n",
      "Aliases: (total: 9): \n",
      "\t Inherited, Paternally, Effects, Paternal, Inheritance, Paternal, Paternally Inherited, Effect, Paternal, Paternal Effects, Paternal Effect, Inherited Paternally, Paternally, Inherited\n",
      "\n",
      "\n",
      "ent_idx 3, kb_ent_idx 4\n",
      "umls_ent ('C4277511', 0.7334518432617188)\n",
      "cui to entity CUI: C4277511, Name: Maternal Inheritance\n",
      "Definition: Transmission of genetic characters, qualities, and traits, solely from maternal extra-nuclear elements such as MITOCHONDRIAL DNA or MATERNAL MESSENGER RNA.\n",
      "TUI(s): T045\n",
      "Aliases: (total: 9): \n",
      "\t Inheritance, Maternal, Maternally Inherited, Effects, Maternal, Effect, Maternal, Maternal Effects, Inherited, Maternally, Maternally, Inherited, Inherited Maternally, Maternal Effect\n",
      "\n",
      "\n",
      "\n",
      "---- ent_idx 3 done ----\n",
      "\n",
      "\n",
      "---- ent_idx 4 start ----\n",
      "\n",
      "ent_idx: 4\n",
      "entity: motor neuron disease\n",
      "len kb_ents 3\n",
      "\n",
      "\n",
      "ent_idx 4, kb_ent_idx 0\n",
      "umls_ent ('C0085084', 1.0)\n",
      "cui to entity CUI: C0085084, Name: Motor Neuron Disease\n",
      "Definition: Diseases characterized by a selective degeneration of the motor neurons of the spinal cord, brainstem, or motor cortex. Clinical subtypes are distinguished by the major site of degeneration. In AMYOTROPHIC LATERAL SCLEROSIS there is involvement of upper, lower, and brainstem motor neurons. In progressive muscular atrophy and related syndromes (see MUSCULAR ATROPHY, SPINAL) the motor neurons in the spinal cord are primarily affected. With progressive bulbar palsy (BULBAR PALSY, PROGRESSIVE), the initial degeneration occurs in the brainstem. In primary lateral sclerosis, the cortical neurons are affected in isolation. (Adams et al., Principles of Neurology, 6th ed, p1089)\n",
      "TUI(s): T047\n",
      "Aliases (abbreviated, total: 27): \n",
      "\t MOTOR NEURON DISEASE, motor neuron diseases, Neuron Disease, Motor, degenerative motor system disease, Motor Neuron Diseases, Neuron Diseases, Motor, disease motor neurones, disease motor neuron, Motor neuron disease or syndrome, Motor neurone disease\n",
      "\n",
      "\n",
      "ent_idx 4, kb_ent_idx 1\n",
      "umls_ent ('C1865412', 0.8858335018157959)\n",
      "cui to entity CUI: C1865412, Name: Abnormal lower motor neuron morphology\n",
      "Definition: Any structural anomaly of the lower motor neuron. [HPO:probinson]\n",
      "TUI(s): T033\n",
      "Aliases: (total: 4): \n",
      "\t Lower motor neuron manifestations, Lower motor neuron signs, Lower motor neuron disease, Abnormal lower motor neuron morphology\n",
      "\n",
      "\n",
      "ent_idx 4, kb_ent_idx 2\n",
      "umls_ent ('C0393551', 0.8199528455734253)\n",
      "cui to entity CUI: C0393551, Name: Madras-type motor neurone disease\n",
      "Definition: Madras motor neuron disease (MMND) is characterized by weakness and atrophy of limbs, multiple lower cranial nerve palsies and sensorineural hearing loss.\n",
      "TUI(s): T047\n",
      "Aliases: (total: 3): \n",
      "\t Madras-type motor neurone disease (disorder), Madras motor neuron disease, MMND\n",
      "\n",
      "\n",
      "\n",
      "---- ent_idx 4 done ----\n",
      "\n",
      "\n",
      "---- ent_idx 5 start ----\n",
      "\n",
      "ent_idx: 5\n",
      "entity: expansion\n",
      "len kb_ents 5\n",
      "\n",
      "\n",
      "ent_idx 5, kb_ent_idx 0\n",
      "umls_ent ('C0007595', 0.868115246295929)\n",
      "cui to entity CUI: C0007595, Name: Cell Growth\n",
      "Definition: The process in which a cell irreversibly increases in size over time by accretion and biosynthetic production of matter similar to that already present. [GOC:ai]\n",
      "TUI(s): T043\n",
      "Aliases (abbreviated, total: 12): \n",
      "\t Cell Growth, Cells--Growth, cell growth, Cellular Growth, growth of cell, Cellular Expansion, growth cell, cell growths, cellular growth, cells growth\n",
      "\n",
      "\n",
      "ent_idx 5, kb_ent_idx 1\n",
      "umls_ent ('C4761515', 0.868115246295929)\n",
      "cui to entity CUI: C4761515, Name: Cell Expansion\n",
      "Definition: A cell culture procedure that is designed to promote cell growth.\n",
      "TUI(s): T059\n",
      "Aliases: (total: 2): \n",
      "\t Cell Culture Expansion, Cell Expansion\n",
      "\n",
      "\n",
      "ent_idx 5, kb_ent_idx 2\n",
      "umls_ent ('C1654621', 0.8537996411323547)\n",
      "cui to entity CUI: C1654621, Name: imaginal disc-derived wing expansion\n",
      "Definition: The process of expanding or inflating the folded imaginal disc-derived pupal wing, and the adhering of the dorsal and ventral surfaces, to form the mature adult wing. [GOC:mtg_sensu, GOC:rc]\n",
      "TUI(s): T042\n",
      "Aliases: (total: 2): \n",
      "\t wing inflation, wing expansion\n",
      "\n",
      "\n",
      "ent_idx 5, kb_ent_idx 3\n",
      "umls_ent ('C0196940', 0.8271642327308655)\n",
      "cui to entity CUI: C0196940, Name: Nerve Expansion\n",
      "Definition: Procedures that stimulate nerve elongation over a period of time. They are used in repairing nerve tissue.\n",
      "TUI(s): T061\n",
      "Aliases (abbreviated, total: 26): \n",
      "\t Stretching of nerve, NOS, Nerve Elongation Procedure, Neurectasis, neurectasis, Stretchings, Nerve, Nerve Lengthenings, Procedures, Nerve Elongation, Nerve Stretchings, Expansion, Nerve, Nerve Expansions\n",
      "\n",
      "\n",
      "ent_idx 5, kb_ent_idx 4\n",
      "umls_ent ('C1516670', 0.8210797905921936)\n",
      "cui to entity CUI: C1516670, Name: Clonal Expansion\n",
      "Definition: Multiplication or reproduction by cell division of a population of identical cells descended from a single progenitor. In immunology, may refer to the clonal proliferation of cells responsive to a specific antigen as part of an immune response. (NCI)\n",
      "TUI(s): T046\n",
      "Aliases: (total: 0): \n",
      "\t \n",
      "\n",
      "\n",
      "\n",
      "---- ent_idx 5 done ----\n",
      "\n",
      "\n",
      "---- ent_idx 6 start ----\n",
      "\n",
      "ent_idx: 6\n",
      "entity: polyglutamine tract\n",
      "len kb_ents 2\n",
      "\n",
      "\n",
      "ent_idx 6, kb_ent_idx 0\n",
      "umls_ent ('C0032500', 0.7441326379776001)\n",
      "cui to entity CUI: C0032500, Name: Polyglutamic Acid\n",
      "Definition: A peptide that is a homopolymer of glutamic acid.\n",
      "TUI(s): T116\n",
      "Aliases: (total: 2): \n",
      "\t polyglutamic acid, L-Glutamic acid, homopolymer\n",
      "\n",
      "\n",
      "ent_idx 6, kb_ent_idx 1\n",
      "umls_ent ('C0392213', 0.7377567291259766)\n",
      "cui to entity CUI: C0392213, Name: polyglutamates\n",
      "Definition: peptide that is a homopolymer of glutamic acid.\n",
      "TUI(s): T116\n",
      "Aliases: (total: 2): \n",
      "\t polyglutamates, polyglutamate\n",
      "\n",
      "\n",
      "\n",
      "---- ent_idx 6 done ----\n",
      "\n",
      "\n",
      "---- ent_idx 7 start ----\n",
      "\n",
      "ent_idx: 7\n",
      "entity: androgen receptor (\n",
      "len kb_ents 5\n",
      "\n",
      "\n",
      "ent_idx 7, kb_ent_idx 0\n",
      "umls_ent ('C0034786', 0.8258432745933533)\n",
      "cui to entity CUI: C0034786, Name: Androgen Receptor\n",
      "Definition: Proteins, generally found in the CYTOPLASM, that specifically bind ANDROGENS and mediate their cellular actions. The complex of the androgen and receptor migrates to the CELL NUCLEUS where it induces transcription of specific segments of DNA.\n",
      "TUI(s): T116, T192\n",
      "Aliases (abbreviated, total: 27): \n",
      "\t Receptor, 5 alpha-Dihydrotestosterone, Androgen Receptor, Androgens Receptors, Stanolone Receptors, 5 alpha-Dihydrotestosterone Receptor, androgen receptor, Nuclear receptor subfamily 3 group C member 4, alpha-Dihydrotestosterone Receptor, 5, Receptors, Androgen, Receptor, Stanolone\n",
      "\n",
      "\n",
      "ent_idx 7, kb_ent_idx 1\n",
      "umls_ent ('C1367578', 0.8258432745933533)\n",
      "cui to entity CUI: C1367578, Name: AR gene\n",
      "Definition: This gene plays a role in the transcriptional activation of androgen responsive genes.\n",
      "TUI(s): T028\n",
      "Aliases (abbreviated, total: 19): \n",
      "\t NUCLEAR RECEPTOR SUBFAMILY 3, GROUP C, MEMBER 4, AR, Androgen Receptor Gene, AR Gene, spinal and bulbar muscular atrophy, SMAX1, ANDROGEN RECEPTOR, Androgen Receptor (Dihydrotestosterone Receptor; Testicular Feminization; Spinal and Bulbar Muscular Atrophy; Kennedy Disease) Gene, testicular feminization, androgen receptor\n",
      "\n",
      "\n",
      "ent_idx 7, kb_ent_idx 2\n",
      "umls_ent ('C1447749', 0.8258432745933533)\n",
      "cui to entity CUI: C1447749, Name: AR protein, human\n",
      "Definition: Androgen receptor (919 aa, ~99 kDa) is encoded by the human AR gene. This protein plays a role in the modulation of steroid-dependent gene transcription.\n",
      "TUI(s): T116, T192\n",
      "Aliases (abbreviated, total: 13): \n",
      "\t HUMARA protein, human, Androgen Receptor, Kennedy disease protein, human, DHTR protein, human, testicular feminization protein, human, Dihydrotestosterone Receptor, polymorphic X-linked androgen receptor, human, AR (androgen receptor (dihydrotestosterone receptor; testicular feminization; spinal and bulbar muscular atrophy; Kennedy disease)) protein, human, androgen receptor, human, dihydrotestosterone receptor, human\n",
      "\n",
      "\n",
      "ent_idx 7, kb_ent_idx 3\n",
      "umls_ent ('C4764257', 0.7136272192001343)\n",
      "cui to entity CUI: C4764257, Name: Androgen Receptor Status\n",
      "Definition: Refers to the presence or absence of androgen receptor molecules on the surface of a cells in a specimen.\n",
      "TUI(s): T033\n",
      "Aliases: (total: 1): \n",
      "\t AR Status\n",
      "\n",
      "\n",
      "ent_idx 7, kb_ent_idx 4\n",
      "umls_ent ('C1323350', 0.702686607837677)\n",
      "cui to entity CUI: C1323350, Name: nuclear androgen receptor binding\n",
      "Definition: Binding to a nuclear androgen receptor. [GOC:ai]\n",
      "TUI(s): T044\n",
      "Aliases: (total: 2): \n",
      "\t androgen receptor binding, AR binding\n",
      "\n",
      "\n",
      "\n",
      "---- ent_idx 7 done ----\n",
      "\n",
      "\n",
      "---- ent_idx 8 start ----\n",
      "\n",
      "ent_idx: 8\n",
      "entity: AR\n",
      "len kb_ents 5\n",
      "\n",
      "\n",
      "ent_idx 8, kb_ent_idx 0\n",
      "umls_ent ('C0003790', 1.0)\n",
      "cui to entity CUI: C0003790, Name: Arkansas\n",
      "Definition: State of the UNITED STATES OF AMERICA bounded on the north by Missouri, on the east by Tennessee and Mississippi, on the south by Louisiana, and on the west by Oklahoma and Texas.\n",
      "TUI(s): T083\n",
      "Aliases: (total: 4): \n",
      "\t AR, arkansas, Arkansas (geographic location), Arkansas\n",
      "\n",
      "\n",
      "ent_idx 8, kb_ent_idx 1\n",
      "umls_ent ('C0332284', 1.0)\n",
      "cui to entity CUI: C0332284, Name: Arising in\n",
      "Definition: None\n",
      "TUI(s): T080\n",
      "Aliases: (total: 5): \n",
      "\t arising, arising in, Arising in, Arising in (attribute), AR\n",
      "\n",
      "\n",
      "ent_idx 8, kb_ent_idx 2\n",
      "umls_ent ('C1367578', 1.0)\n",
      "cui to entity CUI: C1367578, Name: AR gene\n",
      "Definition: This gene plays a role in the transcriptional activation of androgen responsive genes.\n",
      "TUI(s): T028\n",
      "Aliases (abbreviated, total: 19): \n",
      "\t NUCLEAR RECEPTOR SUBFAMILY 3, GROUP C, MEMBER 4, AR, Androgen Receptor Gene, AR Gene, spinal and bulbar muscular atrophy, SMAX1, ANDROGEN RECEPTOR, Androgen Receptor (Dihydrotestosterone Receptor; Testicular Feminization; Spinal and Bulbar Muscular Atrophy; Kennedy Disease) Gene, testicular feminization, androgen receptor\n",
      "\n",
      "\n",
      "ent_idx 8, kb_ent_idx 3\n",
      "umls_ent ('C1412322', 1.0)\n",
      "cui to entity CUI: C1412322, Name: AKR1B1 gene\n",
      "Definition: This gene plays a role in the NADPH-dependent metabolism of aldehydes.\n",
      "TUI(s): T028\n",
      "Aliases (abbreviated, total: 12): \n",
      "\t ALDR1, ALDO-KETO REDUCTASE FAMILY 1, MEMBER B1, AKR1B1, AKR1B1 gene, aldose reductase, ALDOSE REDUCTASE, aldo-keto reductase family 1, member B1 (aldose reductase), AKR1B1 Gene, AR, aldo-keto reductase family 1 member B\n",
      "\n",
      "\n",
      "ent_idx 8, kb_ent_idx 4\n",
      "umls_ent ('C1436327', 1.0)\n",
      "cui to entity CUI: C1436327, Name: AKR1B1 protein, human\n",
      "Definition: Aldose reductase (316 aa, ~36 kDa) is encoded by the human AKR1B1 gene. This protein plays a role in glucose metabolism.\n",
      "TUI(s): T116, T126\n",
      "Aliases (abbreviated, total: 13): \n",
      "\t ALR2 protein, human, AKR1B1, Aldehyde Reductase 1, AKR1B1 protein, human, aldo-keto reductase family 1, member B1 (aldose reductase), human, Lii5-2 CTCL Tumor Antigen, Aldo-Keto Reductase Family 1 Member B1, Aldose Reductase, Low Km Aldose Reductase, Aldose reductase 2 protein, human\n",
      "\n",
      "\n",
      "\n",
      "---- ent_idx 8 done ----\n",
      "\n",
      "\n",
      "---- ent_idx 9 start ----\n",
      "\n",
      "ent_idx: 9\n",
      "entity: SBMA\n",
      "len kb_ents 3\n",
      "\n",
      "\n",
      "ent_idx 9, kb_ent_idx 0\n",
      "umls_ent ('C1367578', 1.0)\n",
      "cui to entity CUI: C1367578, Name: AR gene\n",
      "Definition: This gene plays a role in the transcriptional activation of androgen responsive genes.\n",
      "TUI(s): T028\n",
      "Aliases (abbreviated, total: 19): \n",
      "\t NUCLEAR RECEPTOR SUBFAMILY 3, GROUP C, MEMBER 4, AR, Androgen Receptor Gene, AR Gene, spinal and bulbar muscular atrophy, SMAX1, ANDROGEN RECEPTOR, Androgen Receptor (Dihydrotestosterone Receptor; Testicular Feminization; Spinal and Bulbar Muscular Atrophy; Kennedy Disease) Gene, testicular feminization, androgen receptor\n",
      "\n",
      "\n",
      "ent_idx 9, kb_ent_idx 1\n",
      "umls_ent ('C1705240', 1.0)\n",
      "cui to entity CUI: C1705240, Name: AR wt Allele\n",
      "Definition: Human AR wild-type allele is located within Xq11.2-q12 and is approximately 180 kb in length. This allele, which encodes androgen receptor protein, is involved in steroid-hormone activated transcriptional regulation. Mutations in the gene are associated with complete androgen insensitivity syndrome.\n",
      "TUI(s): T028\n",
      "Aliases (abbreviated, total: 11): \n",
      "\t KD, SMAX1, NR3C4, Androgen Receptor (Dihydrotestosterone Receptor; Testicular Feminization; Spinal and Bulbar Muscular Atrophy; Kennedy Disease) wt Allele, TFM, DHTR, AR, SBMA, AIS, HUMARA\n",
      "\n",
      "\n",
      "ent_idx 9, kb_ent_idx 2\n",
      "umls_ent ('C1839259', 1.0)\n",
      "cui to entity CUI: C1839259, Name: Bulbo-Spinal Atrophy, X-Linked\n",
      "Definition: An X-linked recessive form of spinal muscular atrophy. It is due to a mutation of the gene encoding the ANDROGEN RECEPTOR.\n",
      "TUI(s): T047\n",
      "Aliases (abbreviated, total: 44): \n",
      "\t X-linked bulbospinal atrophy, Bulbo-Spinal Atrophy, X-Linked, KD, Atrophy, Spinobulbar Muscular, X-Linked Bulbo-Spinal Atrophy, Atrophy, X-Linked Bulbo-Spinal, X-linked spinal and bulbar muscular atrophy, Spinobulbar Muscular Atrophies, X-linked BSMA, Spinal And Bulbar Muscular Atrophy, X-Linked 1\n",
      "\n",
      "\n",
      "\n",
      "---- ent_idx 9 done ----\n",
      "\n"
     ]
    }
   ],
   "source": [
    "for ent_idx, entity in enumerate(doc.ents):\n",
    "    print(f\"\\n---- ent_idx {ent_idx} start ----\\n\")\n",
    "    print(f\"ent_idx: {ent_idx}\")\n",
    "    print(f\"entity: {entity}\")\n",
    "    print(f\"len kb_ents {len(entity._.kb_ents)}\")\n",
    "    print(\"\\n\")\n",
    "    for kb_ent_idx, umls_ent in enumerate(entity._.kb_ents):\n",
    "        print(f\"ent_idx {ent_idx}, kb_ent_idx {kb_ent_idx}\")\n",
    "        print(\"umls_ent\", umls_ent)\n",
    "        print(\"cui to entity\", linker.kb.cui_to_entity[umls_ent[0]])\n",
    "        print(\"\\n\")\n",
    "    print(f\"\\n---- ent_idx {ent_idx} done ----\\n\")"
   ]
  },
  {
   "cell_type": "markdown",
   "id": "d355a85e-3880-4bc2-892f-21f758041cb7",
   "metadata": {},
   "source": [
    "----"
   ]
  },
  {
   "cell_type": "code",
   "execution_count": 30,
   "id": "83b8c7b2-ca2c-4ca6-b865-50217150f9ae",
   "metadata": {
    "execution": {
     "iopub.execute_input": "2024-07-23T10:26:29.738153Z",
     "iopub.status.busy": "2024-07-23T10:26:29.737530Z",
     "iopub.status.idle": "2024-07-23T10:26:29.768959Z",
     "shell.execute_reply": "2024-07-23T10:26:29.768134Z",
     "shell.execute_reply.started": "2024-07-23T10:26:29.738098Z"
    }
   },
   "outputs": [
    {
     "name": "stdout",
     "output_type": "stream",
     "text": [
      "('C1367578', 0.9090511202812195)\n",
      "<class 'tuple'>\n"
     ]
    }
   ],
   "source": [
    "umls_ent = entity._.kb_ents[0]\n",
    "print(umls_ent)\n",
    "print(type(umls_ent))"
   ]
  },
  {
   "cell_type": "code",
   "execution_count": 29,
   "id": "356723aa-693e-4857-8e0b-581dfc32321d",
   "metadata": {
    "execution": {
     "iopub.execute_input": "2024-07-23T10:24:34.318190Z",
     "iopub.status.busy": "2024-07-23T10:24:34.317564Z",
     "iopub.status.idle": "2024-07-23T10:24:34.349946Z",
     "shell.execute_reply": "2024-07-23T10:24:34.349084Z",
     "shell.execute_reply.started": "2024-07-23T10:24:34.318132Z"
    }
   },
   "outputs": [
    {
     "name": "stdout",
     "output_type": "stream",
     "text": [
      "<class 'dict'>\n",
      "3920422\n"
     ]
    }
   ],
   "source": [
    "cui_to_entity = linker.kb.cui_to_entity\n",
    "print(type(cui_to_entity))\n",
    "print(len(cui_to_entity))"
   ]
  },
  {
   "cell_type": "markdown",
   "id": "38f8600c-3e90-49a6-b38e-06fba1f82ac0",
   "metadata": {},
   "source": [
    "----"
   ]
  },
  {
   "cell_type": "code",
   "execution_count": null,
   "id": "548157e8-6460-4d87-b3d6-4ca1d727cb51",
   "metadata": {},
   "outputs": [],
   "source": [
    "try own dataset"
   ]
  }
 ],
 "metadata": {
  "kernelspec": {
   "display_name": "Python 3 (ipykernel)",
   "language": "python",
   "name": "python3"
  },
  "language_info": {
   "codemirror_mode": {
    "name": "ipython",
    "version": 3
   },
   "file_extension": ".py",
   "mimetype": "text/x-python",
   "name": "python",
   "nbconvert_exporter": "python",
   "pygments_lexer": "ipython3",
   "version": "3.8.19"
  }
 },
 "nbformat": 4,
 "nbformat_minor": 5
}
