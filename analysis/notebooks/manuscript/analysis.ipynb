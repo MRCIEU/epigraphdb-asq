{
 "cells": [
  {
   "cell_type": "markdown",
   "id": "e2368bda-015e-41f8-bda7-94bb9fd55b0f",
   "metadata": {},
   "source": [
    "# Analysis general init"
   ]
  },
  {
   "cell_type": "markdown",
   "id": "ea986ba9-f1f7-46dc-87d7-71861608f0f8",
   "metadata": {
    "tags": []
   },
   "source": [
    "# Init"
   ]
  },
  {
   "cell_type": "code",
   "execution_count": 1,
   "id": "2916f578-5837-4543-a8de-477493d98e54",
   "metadata": {
    "execution": {
     "iopub.execute_input": "2022-03-04T12:14:22.446949Z",
     "iopub.status.busy": "2022-03-04T12:14:22.446246Z",
     "iopub.status.idle": "2022-03-04T12:14:22.555322Z",
     "shell.execute_reply": "2022-03-04T12:14:22.554737Z",
     "shell.execute_reply.started": "2022-03-04T12:14:22.446811Z"
    },
    "tags": []
   },
   "outputs": [],
   "source": [
    "%load_ext autoreload\n",
    "%load_ext lab_black\n",
    "\n",
    "%autoreload 2"
   ]
  },
  {
   "cell_type": "code",
   "execution_count": 126,
   "id": "fd4a102a-264d-4c38-b69f-fee6ac65013b",
   "metadata": {
    "execution": {
     "iopub.execute_input": "2022-03-05T16:39:21.412885Z",
     "iopub.status.busy": "2022-03-05T16:39:21.412419Z",
     "iopub.status.idle": "2022-03-05T16:39:21.444021Z",
     "shell.execute_reply": "2022-03-05T16:39:21.443377Z",
     "shell.execute_reply.started": "2022-03-05T16:39:21.412833Z"
    },
    "tags": []
   },
   "outputs": [],
   "source": [
    "import json\n",
    "\n",
    "import numpy as np\n",
    "import pandas as pd\n",
    "from pydash import py_\n",
    "import seaborn as sns\n",
    "import networkx as nx\n",
    "import matplotlib.pyplot as plt\n",
    "\n",
    "from analysis import utils\n",
    "from analysis.funcs.generic import interval_str\n",
    "from common_processing.resources import epigraphdb, EVIDENCE_LABELS"
   ]
  },
  {
   "cell_type": "code",
   "execution_count": 3,
   "id": "e936a6ac-906c-4d22-bf19-654032c78b11",
   "metadata": {
    "execution": {
     "iopub.execute_input": "2022-03-04T12:14:24.890665Z",
     "iopub.status.busy": "2022-03-04T12:14:24.890350Z",
     "iopub.status.idle": "2022-03-04T12:14:24.915336Z",
     "shell.execute_reply": "2022-03-04T12:14:24.914787Z",
     "shell.execute_reply.started": "2022-03-04T12:14:24.890643Z"
    },
    "tags": []
   },
   "outputs": [
    {
     "name": "stdout",
     "output_type": "stream",
     "text": [
      "/data/ik18445_cache/projects/epigraphdb-asq/data/medrxiv_experiments/2020-01-01__2021-12-31/default\n",
      "/data/ik18445_cache/projects/epigraphdb-asq/data/analysis-artifacts\n"
     ]
    }
   ],
   "source": [
    "INTERVAL = \"2020-01-01/2021-12-31\"\n",
    "interval_fmt = interval_str(INTERVAL)\n",
    "DATA_ROOT = utils.find_data_root()\n",
    "data_dir = DATA_ROOT / \"medrxiv_experiments\" / interval_fmt / \"default\"\n",
    "print(data_dir)\n",
    "assert data_dir.exists()\n",
    "\n",
    "analysis_assets_dir = utils.find_analysis_artifacts_dir()\n",
    "print(analysis_assets_dir)"
   ]
  },
  {
   "cell_type": "markdown",
   "id": "192ba87b-683e-473c-b76a-6dc269f5cda4",
   "metadata": {},
   "source": [
    "# Load files"
   ]
  },
  {
   "cell_type": "code",
   "execution_count": 4,
   "id": "6f824290-d814-4e4e-b85b-1287a9898402",
   "metadata": {
    "execution": {
     "iopub.execute_input": "2022-03-04T12:14:27.767987Z",
     "iopub.status.busy": "2022-03-04T12:14:27.767530Z",
     "iopub.status.idle": "2022-03-04T12:14:28.932100Z",
     "shell.execute_reply": "2022-03-04T12:14:28.931558Z",
     "shell.execute_reply.started": "2022-03-04T12:14:27.767937Z"
    },
    "tags": []
   },
   "outputs": [
    {
     "name": "stdout",
     "output_type": "stream",
     "text": [
      "26846\n"
     ]
    }
   ],
   "source": [
    "triple_file = data_dir.parent / \"triples.json\"\n",
    "assert triple_file.exists()\n",
    "with triple_file.open(\"r\") as f:\n",
    "    triples = json.load(f)\n",
    "print(len(triples))"
   ]
  },
  {
   "cell_type": "code",
   "execution_count": 5,
   "id": "4cccd630-c542-4288-a9a8-4bbe078b2391",
   "metadata": {
    "execution": {
     "iopub.execute_input": "2022-03-04T12:14:28.933310Z",
     "iopub.status.busy": "2022-03-04T12:14:28.933035Z",
     "iopub.status.idle": "2022-03-04T12:14:29.249876Z",
     "shell.execute_reply": "2022-03-04T12:14:29.248745Z",
     "shell.execute_reply.started": "2022-03-04T12:14:28.933290Z"
    },
    "tags": []
   },
   "outputs": [
    {
     "name": "stdout",
     "output_type": "stream",
     "text": [
      "1096\n"
     ]
    }
   ],
   "source": [
    "efo_ents_file = data_dir / \"ents\" / \"efo_ents.json\"\n",
    "assert efo_ents_file.exists()\n",
    "with efo_ents_file.open(\"r\") as f:\n",
    "    efo_ents = json.load(f)\n",
    "print(len(efo_ents))"
   ]
  },
  {
   "cell_type": "code",
   "execution_count": 6,
   "id": "e363fd2d-3e70-4427-9f4d-eb5b4ad246e8",
   "metadata": {
    "execution": {
     "iopub.execute_input": "2022-03-04T12:14:29.591502Z",
     "iopub.status.busy": "2022-03-04T12:14:29.590926Z",
     "iopub.status.idle": "2022-03-04T12:14:30.233873Z",
     "shell.execute_reply": "2022-03-04T12:14:30.233164Z",
     "shell.execute_reply.started": "2022-03-04T12:14:29.591451Z"
    },
    "tags": []
   },
   "outputs": [
    {
     "name": "stdout",
     "output_type": "stream",
     "text": [
      "1096\n"
     ]
    }
   ],
   "source": [
    "umls_ents_file = data_dir / \"ents\" / \"umls_ents.json\"\n",
    "assert umls_ents_file.exists()\n",
    "with umls_ents_file.open(\"r\") as f:\n",
    "    umls_ents = json.load(f)\n",
    "print(len(umls_ents))"
   ]
  },
  {
   "cell_type": "code",
   "execution_count": 7,
   "id": "2dc71f35-d75c-49d0-b950-be2702c6c370",
   "metadata": {
    "execution": {
     "iopub.execute_input": "2022-03-04T12:14:31.594719Z",
     "iopub.status.busy": "2022-03-04T12:14:31.594298Z",
     "iopub.status.idle": "2022-03-04T12:14:31.718518Z",
     "shell.execute_reply": "2022-03-04T12:14:31.717802Z",
     "shell.execute_reply.started": "2022-03-04T12:14:31.594673Z"
    },
    "tags": []
   },
   "outputs": [
    {
     "name": "stdout",
     "output_type": "stream",
     "text": [
      "348\n"
     ]
    }
   ],
   "source": [
    "trait_ents_file = data_dir / \"ents\" / \"trait_ents.json\"\n",
    "assert trait_ents_file.exists()\n",
    "with trait_ents_file.open(\"r\") as f:\n",
    "    trait_ents = json.load(f)\n",
    "print(len(trait_ents))"
   ]
  },
  {
   "cell_type": "code",
   "execution_count": 8,
   "id": "091959a1-4492-409c-a976-5bcb9960f149",
   "metadata": {
    "execution": {
     "iopub.execute_input": "2022-03-04T12:14:32.348215Z",
     "iopub.status.busy": "2022-03-04T12:14:32.347837Z",
     "iopub.status.idle": "2022-03-04T12:14:32.772043Z",
     "shell.execute_reply": "2022-03-04T12:14:32.771069Z",
     "shell.execute_reply.started": "2022-03-04T12:14:32.348180Z"
    },
    "tags": []
   },
   "outputs": [
    {
     "name": "stdout",
     "output_type": "stream",
     "text": [
      "pred_term        pred_group   \n",
      "AFFECTS          directional       85\n",
      "ASSOCIATED_WITH  undirectional     66\n",
      "CAUSES           directional       67\n",
      "COEXISTS_WITH    undirectional    171\n",
      "INTERACTS_WITH   undirectional      4\n",
      "TREATS           directional       22\n",
      "dtype: int64\n"
     ]
    }
   ],
   "source": [
    "combined_ents_file = data_dir / \"ents\" / \"combined_ents.json\"\n",
    "assert combined_ents_file.exists()\n",
    "with combined_ents_file.open() as f:\n",
    "    combined_ents = pd.DataFrame(json.load(f))\n",
    "\n",
    "print(\n",
    "    combined_ents[[\"pred_term\"]]\n",
    "    .assign(\n",
    "        pred_group=lambda df: df[\"pred_term\"].apply(\n",
    "            lambda x: epigraphdb.PRED_DIRECTIONAL_MAPPING[x]\n",
    "        )\n",
    "    )\n",
    "    .groupby([\"pred_term\", \"pred_group\"])\n",
    "    .size()\n",
    ")"
   ]
  },
  {
   "cell_type": "code",
   "execution_count": 9,
   "id": "89880c6b-2c3d-4662-8a76-d48829541179",
   "metadata": {
    "execution": {
     "iopub.execute_input": "2022-03-04T12:14:33.738247Z",
     "iopub.status.busy": "2022-03-04T12:14:33.737832Z",
     "iopub.status.idle": "2022-03-04T12:14:36.870154Z",
     "shell.execute_reply": "2022-03-04T12:14:36.869374Z",
     "shell.execute_reply.started": "2022-03-04T12:14:33.738208Z"
    },
    "tags": []
   },
   "outputs": [
    {
     "name": "stdout",
     "output_type": "stream",
     "text": [
      "415\n",
      "414\n",
      "413\n",
      "pred_term        pred_group   \n",
      "AFFECTS          directional       85\n",
      "ASSOCIATED_WITH  undirectional     66\n",
      "CAUSES           directional       67\n",
      "COEXISTS_WITH    undirectional    170\n",
      "INTERACTS_WITH   undirectional      4\n",
      "TREATS           directional       21\n",
      "dtype: int64\n"
     ]
    }
   ],
   "source": [
    "triple_evidence_file = data_dir / \"evidence\" / \"triple_evidence.json\"\n",
    "assert triple_evidence_file.exists()\n",
    "with triple_evidence_file.open(\"r\") as f:\n",
    "    triple_evidence = json.load(f)\n",
    "triple_evidence_df = pd.DataFrame(triple_evidence)\n",
    "print(len(triple_evidence_df))\n",
    "\n",
    "assoc_evidence_file = data_dir / \"evidence\" / \"assoc_evidence.json\"\n",
    "assert assoc_evidence_file.exists()\n",
    "with assoc_evidence_file.open(\"r\") as f:\n",
    "    assoc_evidence = json.load(f)\n",
    "assoc_evidence_df = pd.DataFrame(assoc_evidence)\n",
    "print(len(assoc_evidence_df))\n",
    "\n",
    "combined_evidence_file = data_dir / \"evidence\" / \"combined_score.json\"\n",
    "assert combined_evidence_file.exists()\n",
    "with combined_evidence_file.open(\"r\") as f:\n",
    "    combined_evidence = json.load(f)\n",
    "evidence_df = pd.DataFrame(combined_evidence)\n",
    "print(len(evidence_df))\n",
    "\n",
    "print(\n",
    "    evidence_df[[\"pred_term\"]]\n",
    "    .assign(\n",
    "        pred_group=lambda df: df[\"pred_term\"].apply(\n",
    "            lambda x: epigraphdb.PRED_DIRECTIONAL_MAPPING[x]\n",
    "        )\n",
    "    )\n",
    "    .groupby([\"pred_term\", \"pred_group\"])\n",
    "    .size()\n",
    ")"
   ]
  }
 ],
 "metadata": {
  "kernelspec": {
   "display_name": "Python 3 (ipykernel)",
   "language": "python",
   "name": "python3"
  },
  "language_info": {
   "codemirror_mode": {
    "name": "ipython",
    "version": 3
   },
   "file_extension": ".py",
   "mimetype": "text/x-python",
   "name": "python",
   "nbconvert_exporter": "python",
   "pygments_lexer": "ipython3",
   "version": "3.8.12"
  }
 },
 "nbformat": 4,
 "nbformat_minor": 5
}
