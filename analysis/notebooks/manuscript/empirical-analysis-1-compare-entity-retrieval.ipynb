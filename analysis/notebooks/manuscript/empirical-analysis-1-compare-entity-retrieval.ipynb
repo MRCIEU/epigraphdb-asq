{
 "cells": [
  {
   "cell_type": "markdown",
   "id": "99540e14-20f9-4131-b7ff-af1442f228cd",
   "metadata": {},
   "source": [
    "# Query EpiGraphDB for retrieval of entities"
   ]
  },
  {
   "cell_type": "markdown",
   "id": "9923c2a1-c85f-48f4-a798-542f1debd52f",
   "metadata": {},
   "source": [
    "To investigate the retrieval of information from EpiGraphDB using direct search queries, as a demonstration here we show retrieval of entities from EpiGraphDB directly using the query terms themselves."
   ]
  },
  {
   "cell_type": "code",
   "execution_count": 7,
   "id": "ad26d83e-1cb9-44d8-96e4-0aabd2ea5e99",
   "metadata": {
    "execution": {
     "iopub.execute_input": "2024-06-18T15:19:35.699411Z",
     "iopub.status.busy": "2024-06-18T15:19:35.698844Z",
     "iopub.status.idle": "2024-06-18T15:19:37.576093Z",
     "shell.execute_reply": "2024-06-18T15:19:37.575170Z",
     "shell.execute_reply.started": "2024-06-18T15:19:35.699376Z"
    }
   },
   "outputs": [
    {
     "name": "stdout",
     "output_type": "stream",
     "text": [
      "413\n",
      "dict_keys(['doi', 'triple', 'efo_ents', 'umls_ents', 'trait_ents', 'subject_term', 'object_term', 'pred_term', 'triple_evidence', 'assoc_evidence'])\n"
     ]
    }
   ],
   "source": [
    "# Load the combined evidence data\n",
    "path_combined_evidence = experiment_data_dir / \"evidence\" / \"combined_score.json\"\n",
    "assert path_combined_evidence.exists(), path_combined_evidence\n",
    "\n",
    "with path_combined_evidence.open() as f:\n",
    "    combined_evidence = json.load(f)\n",
    "print(len(combined_evidence))\n",
    "print(combined_evidence[0].keys())"
   ]
  },
  {
   "cell_type": "code",
   "execution_count": 8,
   "id": "a16a8f46-7b0b-4dcb-8df1-81e6cc5be943",
   "metadata": {
    "execution": {
     "iopub.execute_input": "2024-06-19T13:40:59.236408Z",
     "iopub.status.busy": "2024-06-19T13:40:59.235869Z",
     "iopub.status.idle": "2024-06-19T13:40:59.439546Z",
     "shell.execute_reply": "2024-06-19T13:40:59.438780Z",
     "shell.execute_reply.started": "2024-06-19T13:40:59.236357Z"
    }
   },
   "outputs": [
    {
     "name": "stdout",
     "output_type": "stream",
     "text": [
      "12\n",
      "{'n': {'note': 'Dominance model? If so then not necessarily of value for MR; Results from interim Biobank release enriched for smokers; could lead to bias through collider issues in MR', '_name': 'Body mass index', 'year': '2016.0', 'mr': '0', 'author': 'Wood', 'sex': 'Males and Females', 'pmid': '26961502.0', 'population': 'European', 'sample_size': '120286.0', 'nsnp': '8654252', 'build': 'HG19/GRCh37', 'trait': 'Body mass index', '_source': ['OpenGWAS-2020-10-13'], 'id': 'ieu-a-1089', '_id': 'ieu-a-1089', 'subcategory': 'Anthropometric', 'category': 'Risk factor'}}\n"
     ]
    }
   ],
   "source": [
    "query_templates = {\n",
    "    \"efo\": \"\"\"\n",
    "        MATCH (n:Efo) where n._name = \"{term_name}\"\n",
    "        RETURN n\n",
    "    \"\"\",\n",
    "    \"literature_term\": \"\"\"\n",
    "        MATCH (n:LiteratureTerm) where n._name = \"{term_name}\"\n",
    "        RETURN n\n",
    "    \"\"\",\n",
    "    \"gwas\": \"\"\"\n",
    "        MATCH (n:Gwas) where n._name = \"{term_name}\"\n",
    "        RETURN n\n",
    "    \"\"\",\n",
    "}\n",
    "\n",
    "\n",
    "def query_epigraphdb_node(term_name: str, query_template: str) -> List[Dict[str, Any]]:\n",
    "    url = config.epigraphdb_api_url\n",
    "    query = query_template.format(term_name=term_name)\n",
    "    payload = {\"query\": query}\n",
    "    res = []\n",
    "    try:\n",
    "        r = requests.post(\"https://api.epigraphdb.org/cypher\", json=payload)\n",
    "        r.raise_for_status()\n",
    "        res = r.json()[\"results\"]\n",
    "    except:\n",
    "        print(f\"Error with term_name {term_name}\")\n",
    "    return res\n",
    "\n",
    "\n",
    "_res = query_epigraphdb_node(\n",
    "    term_name=\"Body mass index\", query_template=query_templates[\"gwas\"]\n",
    ")\n",
    "print(len(_res))\n",
    "print(_res[0])"
   ]
  },
  {
   "cell_type": "code",
   "execution_count": 9,
   "id": "80346b90-9042-4e66-a4ed-a4ac2519060d",
   "metadata": {
    "execution": {
     "iopub.execute_input": "2024-06-19T13:56:08.662705Z",
     "iopub.status.busy": "2024-06-19T13:56:08.661858Z",
     "iopub.status.idle": "2024-06-19T13:58:55.558626Z",
     "shell.execute_reply": "2024-06-19T13:58:55.557237Z",
     "shell.execute_reply.started": "2024-06-19T13:56:08.662642Z"
    }
   },
   "outputs": [
    {
     "name": "stdout",
     "output_type": "stream",
     "text": [
      "413\n",
      "{'doi': '10.1101/19001719', 'subject_term': 'Antihypertensive Agents', 'object_term': 'Mood Disorders', 'subject_term_match': {'efo': [], 'gwas': [], 'literature_term': [{'n': {'_name': 'Antihypertensive Agents', 'name': 'Antihypertensive Agents', '_source': ['SemMedDB_VER42_2020_R', 'bioRxiv-2020-10-06', 'medRxiv-2020-10-06'], 'id': 'C0003364', '_id': 'C0003364', 'type': ['phsu']}}]}, 'object_term_match': {'efo': [], 'gwas': [], 'literature_term': []}}\n"
     ]
    }
   ],
   "source": [
    "def _match_epigraphdb(e) -> Dict[str, Any]:\n",
    "    subject_term = e[\"subject_term\"]\n",
    "    object_term = e[\"object_term\"]\n",
    "    subject_term_match = {\n",
    "        \"efo\": query_epigraphdb_node(subject_term, query_templates[\"efo\"]),\n",
    "        \"gwas\": query_epigraphdb_node(subject_term, query_templates[\"gwas\"]),\n",
    "        \"literature_term\": query_epigraphdb_node(\n",
    "            subject_term, query_templates[\"literature_term\"]\n",
    "        ),\n",
    "    }\n",
    "    object_term_match = {\n",
    "        \"efo\": query_epigraphdb_node(object_term, query_templates[\"efo\"]),\n",
    "        \"gwas\": query_epigraphdb_node(object_term, query_templates[\"gwas\"]),\n",
    "        \"literature_term\": query_epigraphdb_node(\n",
    "            object_term, query_templates[\"literature_term\"]\n",
    "        ),\n",
    "    }\n",
    "    res = {\n",
    "        \"doi\": e[\"doi\"],\n",
    "        \"subject_term\": subject_term,\n",
    "        \"object_term\": object_term,\n",
    "        \"subject_term_match\": subject_term_match,\n",
    "        \"object_term_match\": object_term_match,\n",
    "    }\n",
    "    return res\n",
    "\n",
    "\n",
    "terms_match_epigraphdb = py_.chain(combined_evidence).map(_match_epigraphdb).value()\n",
    "print(len(terms_match_epigraphdb))\n",
    "print(terms_match_epigraphdb[0])"
   ]
  },
  {
   "cell_type": "code",
   "execution_count": 10,
   "id": "4bdd5257-48ab-41b3-a69e-a3027c394e9c",
   "metadata": {
    "execution": {
     "iopub.execute_input": "2024-06-19T14:00:40.532418Z",
     "iopub.status.busy": "2024-06-19T14:00:40.531569Z",
     "iopub.status.idle": "2024-06-19T14:00:40.591232Z",
     "shell.execute_reply": "2024-06-19T14:00:40.590168Z",
     "shell.execute_reply.started": "2024-06-19T14:00:40.532356Z"
    }
   },
   "outputs": [],
   "source": [
    "_output_path = analysis_dir / \"terms_match_epigraphdb.json\"\n",
    "with _output_path.open(\"w\") as _f:\n",
    "    json.dump(terms_match_epigraphdb, _f)"
   ]
  },
  {
   "cell_type": "markdown",
   "id": "8b1f1b88-2e8f-453c-b9d7-5d0c63c64874",
   "metadata": {},
   "source": [
    "----"
   ]
  },
  {
   "cell_type": "code",
   "execution_count": 12,
   "id": "80611735-d0d8-4f61-9045-052f404885f9",
   "metadata": {
    "execution": {
     "iopub.execute_input": "2024-06-19T14:04:03.370959Z",
     "iopub.status.busy": "2024-06-19T14:04:03.370424Z",
     "iopub.status.idle": "2024-06-19T14:04:03.408970Z",
     "shell.execute_reply": "2024-06-19T14:04:03.407797Z",
     "shell.execute_reply.started": "2024-06-19T14:04:03.370917Z"
    }
   },
   "outputs": [
    {
     "name": "stdout",
     "output_type": "stream",
     "text": [
      "413\n"
     ]
    }
   ],
   "source": [
    "_input_path = analysis_dir / \"terms_match_epigraphdb.json\"\n",
    "with _input_path.open() as _f:\n",
    "    terms_match_epigraphdb = json.load(_f)\n",
    "print(len(terms_match_epigraphdb))"
   ]
  },
  {
   "cell_type": "code",
   "execution_count": 13,
   "id": "7dd5217f-ab38-4399-a347-5cdc916c6afb",
   "metadata": {
    "execution": {
     "iopub.execute_input": "2024-06-19T14:17:17.273930Z",
     "iopub.status.busy": "2024-06-19T14:17:17.273305Z",
     "iopub.status.idle": "2024-06-19T14:17:17.339819Z",
     "shell.execute_reply": "2024-06-19T14:17:17.338733Z",
     "shell.execute_reply.started": "2024-06-19T14:17:17.273874Z"
    }
   },
   "outputs": [
    {
     "name": "stdout",
     "output_type": "stream",
     "text": [
      "275\n"
     ]
    },
    {
     "data": {
      "text/html": [
       "<div>\n",
       "<style scoped>\n",
       "    .dataframe tbody tr th:only-of-type {\n",
       "        vertical-align: middle;\n",
       "    }\n",
       "\n",
       "    .dataframe tbody tr th {\n",
       "        vertical-align: top;\n",
       "    }\n",
       "\n",
       "    .dataframe thead th {\n",
       "        text-align: right;\n",
       "    }\n",
       "</style>\n",
       "<table border=\"1\" class=\"dataframe\">\n",
       "  <thead>\n",
       "    <tr style=\"text-align: right;\">\n",
       "      <th></th>\n",
       "      <th>term</th>\n",
       "      <th>gwas</th>\n",
       "      <th>literature_term</th>\n",
       "      <th>all</th>\n",
       "    </tr>\n",
       "  </thead>\n",
       "  <tbody>\n",
       "    <tr>\n",
       "      <th>0</th>\n",
       "      <td>Antihypertensive Agents</td>\n",
       "      <td>False</td>\n",
       "      <td>True</td>\n",
       "      <td>False</td>\n",
       "    </tr>\n",
       "    <tr>\n",
       "      <th>1</th>\n",
       "      <td>Mood Disorders</td>\n",
       "      <td>False</td>\n",
       "      <td>True</td>\n",
       "      <td>False</td>\n",
       "    </tr>\n",
       "    <tr>\n",
       "      <th>2</th>\n",
       "      <td>Mental disorders</td>\n",
       "      <td>False</td>\n",
       "      <td>False</td>\n",
       "      <td>False</td>\n",
       "    </tr>\n",
       "    <tr>\n",
       "      <th>3</th>\n",
       "      <td>Diabetes</td>\n",
       "      <td>False</td>\n",
       "      <td>False</td>\n",
       "      <td>False</td>\n",
       "    </tr>\n",
       "    <tr>\n",
       "      <th>4</th>\n",
       "      <td>Urate</td>\n",
       "      <td>True</td>\n",
       "      <td>True</td>\n",
       "      <td>True</td>\n",
       "    </tr>\n",
       "  </tbody>\n",
       "</table>\n",
       "</div>"
      ],
      "text/plain": [
       "                      term   gwas  literature_term    all\n",
       "0  Antihypertensive Agents  False             True  False\n",
       "1           Mood Disorders  False             True  False\n",
       "2         Mental disorders  False            False  False\n",
       "3                 Diabetes  False            False  False\n",
       "4                    Urate   True             True   True"
      ]
     },
     "execution_count": 13,
     "metadata": {},
     "output_type": "execute_result"
    }
   ],
   "source": [
    "terms_summary_epigraphdb = (\n",
    "    py_.chain(terms_match_epigraphdb)\n",
    "    .map(\n",
    "        lambda e: [\n",
    "            {\n",
    "                \"term\": e[\"subject_term\"],\n",
    "                \"gwas\": e[\"subject_term_match\"][\"gwas\"].__len__() > 0,\n",
    "                \"literature_term\": e[\"subject_term_match\"][\"literature_term\"].__len__()\n",
    "                > 0,\n",
    "            },\n",
    "            {\n",
    "                \"term\": e[\"object_term\"],\n",
    "                \"gwas\": e[\"object_term_match\"][\"gwas\"].__len__() > 0,\n",
    "                \"literature_term\": e[\"subject_term_match\"][\"literature_term\"].__len__()\n",
    "                > 0,\n",
    "            },\n",
    "        ]\n",
    "    )\n",
    "    .flatten()\n",
    "    .uniq_by(lambda e: e[\"term\"])\n",
    "    .map(lambda e: assign(e, {\"all\": e[\"gwas\"] & e[\"literature_term\"]}))\n",
    "    .apply(pd.DataFrame)\n",
    "    .value()\n",
    ")\n",
    "\n",
    "print(terms_summary_epigraphdb.__len__())\n",
    "terms_summary_epigraphdb[0:5]"
   ]
  },
  {
   "cell_type": "code",
   "execution_count": 14,
   "id": "4fb086f3-92da-44f0-87c6-52a0127f11c7",
   "metadata": {
    "execution": {
     "iopub.execute_input": "2024-06-19T14:19:36.164629Z",
     "iopub.status.busy": "2024-06-19T14:19:36.164027Z",
     "iopub.status.idle": "2024-06-19T14:19:36.205345Z",
     "shell.execute_reply": "2024-06-19T14:19:36.204344Z",
     "shell.execute_reply.started": "2024-06-19T14:19:36.164586Z"
    }
   },
   "outputs": [
    {
     "data": {
      "text/html": [
       "<div>\n",
       "<style scoped>\n",
       "    .dataframe tbody tr th:only-of-type {\n",
       "        vertical-align: middle;\n",
       "    }\n",
       "\n",
       "    .dataframe tbody tr th {\n",
       "        vertical-align: top;\n",
       "    }\n",
       "\n",
       "    .dataframe thead th {\n",
       "        text-align: right;\n",
       "    }\n",
       "</style>\n",
       "<table border=\"1\" class=\"dataframe\">\n",
       "  <thead>\n",
       "    <tr style=\"text-align: right;\">\n",
       "      <th></th>\n",
       "      <th>gwas</th>\n",
       "      <th>literature_term</th>\n",
       "      <th>all</th>\n",
       "      <th>total</th>\n",
       "      <th>method</th>\n",
       "    </tr>\n",
       "  </thead>\n",
       "  <tbody>\n",
       "    <tr>\n",
       "      <th>0</th>\n",
       "      <td>36</td>\n",
       "      <td>170</td>\n",
       "      <td>26</td>\n",
       "      <td>275</td>\n",
       "      <td>epigraphdb_direct_match</td>\n",
       "    </tr>\n",
       "  </tbody>\n",
       "</table>\n",
       "</div>"
      ],
      "text/plain": [
       "   gwas  literature_term  all  total                   method\n",
       "0    36              170   26    275  epigraphdb_direct_match"
      ]
     },
     "execution_count": 14,
     "metadata": {},
     "output_type": "execute_result"
    }
   ],
   "source": [
    "terms_count_epigraphdb = (\n",
    "    terms_summary_epigraphdb.drop(columns=[\"term\"])\n",
    "    .agg(\"sum\")\n",
    "    .to_frame()\n",
    "    .transpose()\n",
    "    .assign(total=len(terms_summary_epigraphdb), method=\"epigraphdb_direct_match\")\n",
    ")\n",
    "terms_count_epigraphdb"
   ]
  }
 ],
 "metadata": {
  "kernelspec": {
   "display_name": "Python 3 (ipykernel)",
   "language": "python",
   "name": "python3"
  },
  "language_info": {
   "codemirror_mode": {
    "name": "ipython",
    "version": 3
   },
   "file_extension": ".py",
   "mimetype": "text/x-python",
   "name": "python",
   "nbconvert_exporter": "python",
   "pygments_lexer": "ipython3",
   "version": "3.8.19"
  }
 },
 "nbformat": 4,
 "nbformat_minor": 5
}
