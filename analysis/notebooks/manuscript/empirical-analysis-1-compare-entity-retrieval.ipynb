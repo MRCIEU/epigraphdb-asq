{
 "cells": [
  {
   "cell_type": "markdown",
   "id": "84ac8b11-1b2a-4041-a18f-06cdde2baf49",
   "metadata": {},
   "source": [
    "# Query EpiGraphDB for retrieval of information"
   ]
  },
  {
   "cell_type": "markdown",
   "id": "6cc40e20-c2b6-4320-98ed-b1ff9ee6b1b8",
   "metadata": {},
   "source": [
    "To investigate the retrieval of information from EpiGraphDB using direct search queries, as a demonstration here we show retrieval of entities from EpiGraphDB directly using the query terms themselves."
   ]
  },
  {
   "cell_type": "code",
   "execution_count": 124,
   "id": "ad26d83e-1cb9-44d8-96e4-0aabd2ea5e99",
   "metadata": {
    "execution": {
     "iopub.execute_input": "2024-05-09T20:44:04.844148Z",
     "iopub.status.busy": "2024-05-09T20:44:04.843500Z",
     "iopub.status.idle": "2024-05-09T20:44:05.125807Z",
     "shell.execute_reply": "2024-05-09T20:44:05.125094Z",
     "shell.execute_reply.started": "2024-05-09T20:44:04.844086Z"
    }
   },
   "outputs": [
    {
     "name": "stdout",
     "output_type": "stream",
     "text": [
      "415\n"
     ]
    }
   ],
   "source": [
    "# Load the combined ents data\n",
    "path_combined_ents = experiment_data_dir / \"ents\" / \"combined_ents.json\"\n",
    "assert path_combined_ents.exists(), path_combined_ents\n",
    "\n",
    "with path_combined_ents.open() as f:\n",
    "    combined_ents = json.load(f)\n",
    "print(len(combined_ents))"
   ]
  },
  {
   "cell_type": "code",
   "execution_count": 125,
   "id": "a183d483-cb32-4738-8f0c-dc08579dd70a",
   "metadata": {
    "execution": {
     "iopub.execute_input": "2024-05-09T20:44:06.002443Z",
     "iopub.status.busy": "2024-05-09T20:44:06.001612Z",
     "iopub.status.idle": "2024-05-09T20:44:06.033006Z",
     "shell.execute_reply": "2024-05-09T20:44:06.032346Z",
     "shell.execute_reply.started": "2024-05-09T20:44:06.002379Z"
    }
   },
   "outputs": [
    {
     "name": "stdout",
     "output_type": "stream",
     "text": [
      "[{'doi': '10.1101/19001719', 'subject_term': 'Antihypertensive Agents', 'object_term': 'Mood Disorders'}, {'doi': '10.1101/19006189', 'subject_term': 'Mental disorders', 'object_term': 'Diabetes'}, {'doi': '10.1101/2019.12.11.19014472', 'subject_term': 'Urate', 'object_term': 'Blood Pressure'}, {'doi': '10.1101/2020.01.03.19015602', 'subject_term': 'Heart Diseases', 'object_term': 'Neoplasm Metastasis'}, {'doi': '10.1101/2020.01.03.19015602', 'subject_term': 'Disease', 'object_term': 'Left ventricular noncompaction cardiomyopathy'}]\n"
     ]
    }
   ],
   "source": [
    "query_terms = (\n",
    "    py_.chain(combined_ents)\n",
    "    .map(\n",
    "        lambda e: {\n",
    "            \"doi\": e[\"doi\"],\n",
    "            \"subject_term\": e[\"subject_term\"],\n",
    "            \"object_term\": e[\"object_term\"],\n",
    "        }\n",
    "    )\n",
    "    .value()\n",
    ")\n",
    "print(query_terms[:5])"
   ]
  },
  {
   "cell_type": "code",
   "execution_count": 33,
   "id": "6098f115-e1fe-4061-8a7f-738292536aea",
   "metadata": {
    "execution": {
     "iopub.execute_input": "2024-05-08T20:19:02.045837Z",
     "iopub.status.busy": "2024-05-08T20:19:02.044618Z",
     "iopub.status.idle": "2024-05-08T20:19:02.180807Z",
     "shell.execute_reply": "2024-05-08T20:19:02.179623Z",
     "shell.execute_reply.started": "2024-05-08T20:19:02.045763Z"
    }
   },
   "outputs": [
    {
     "name": "stdout",
     "output_type": "stream",
     "text": [
      "12\n",
      "{'n': {'note': 'Dominance model? If so then not necessarily of value for MR; Results from interim Biobank release enriched for smokers; could lead to bias through collider issues in MR', '_name': 'Body mass index', 'year': '2016.0', 'mr': '0', 'author': 'Wood', 'sex': 'Males and Females', 'pmid': '26961502.0', 'population': 'European', 'sample_size': '120286.0', 'nsnp': '8654252', 'build': 'HG19/GRCh37', 'trait': 'Body mass index', '_source': ['OpenGWAS-2020-10-13'], 'id': 'ieu-a-1089', '_id': 'ieu-a-1089', 'subcategory': 'Anthropometric', 'category': 'Risk factor'}}\n"
     ]
    }
   ],
   "source": [
    "query_templates = {\n",
    "    \"efo\": \"\"\"\n",
    "        MATCH (n:Efo) where n._name = \"{term_name}\"\n",
    "        RETURN n\n",
    "    \"\"\",\n",
    "    \"literature_term\": \"\"\"\n",
    "        MATCH (n:LiteratureTerm) where n._name = \"{term_name}\"\n",
    "        RETURN n\n",
    "    \"\"\",\n",
    "    \"gwas\": \"\"\"\n",
    "        MATCH (n:Gwas) where n._name = \"{term_name}\"\n",
    "        RETURN n\n",
    "    \"\"\",\n",
    "}\n",
    "\n",
    "\n",
    "def query_epigraphdb_node(term_name: str, query_template: str) -> List[Dict[str, Any]]:\n",
    "    url = config.epigraphdb_api_url\n",
    "    query = query_template.format(term_name=term_name)\n",
    "    payload = {\"query\": query}\n",
    "    res = []\n",
    "    try:\n",
    "        r = requests.post(\"https://api.epigraphdb.org/cypher\", json=payload)\n",
    "        r.raise_for_status()\n",
    "        res = r.json()[\"results\"]\n",
    "    except:\n",
    "        print(f\"Error with term_name {term_name}\")\n",
    "    return res\n",
    "\n",
    "\n",
    "_res = query_epigraphdb_node(\n",
    "    term_name=\"Body mass index\", query_template=query_templates[\"gwas\"]\n",
    ")\n",
    "print(len(_res))\n",
    "print(_res[0])"
   ]
  },
  {
   "cell_type": "code",
   "execution_count": 29,
   "id": "f208884c-4cdb-45ca-89ff-6b1639d90bb3",
   "metadata": {
    "execution": {
     "iopub.execute_input": "2024-05-08T20:12:27.189923Z",
     "iopub.status.busy": "2024-05-08T20:12:27.189197Z",
     "iopub.status.idle": "2024-05-08T20:12:27.270800Z",
     "shell.execute_reply": "2024-05-08T20:12:27.269560Z",
     "shell.execute_reply.started": "2024-05-08T20:12:27.189856Z"
    }
   },
   "outputs": [
    {
     "data": {
      "text/plain": [
       "[]"
      ]
     },
     "execution_count": 29,
     "metadata": {},
     "output_type": "execute_result"
    }
   ],
   "source": [
    "query_epigraphdb_node(\"Body mass index\", query_templates[\"efo\"])"
   ]
  },
  {
   "cell_type": "code",
   "execution_count": 34,
   "id": "33c90c7e-347b-4199-b036-81d48ffb1eca",
   "metadata": {
    "execution": {
     "iopub.execute_input": "2024-05-08T20:19:08.788554Z",
     "iopub.status.busy": "2024-05-08T20:19:08.787082Z",
     "iopub.status.idle": "2024-05-08T20:21:42.134155Z",
     "shell.execute_reply": "2024-05-08T20:21:42.132837Z",
     "shell.execute_reply.started": "2024-05-08T20:19:08.788474Z"
    }
   },
   "outputs": [],
   "source": [
    "def _match_epigraphdb(e) -> Dict[str, Any]:\n",
    "    subject_term = e[\"subject_term\"]\n",
    "    object_term = e[\"object_term\"]\n",
    "    subject_term_match = {\n",
    "        \"efo\": query_epigraphdb_node(subject_term, query_templates[\"efo\"]),\n",
    "        \"gwas\": query_epigraphdb_node(subject_term, query_templates[\"gwas\"]),\n",
    "        \"literature_term\": query_epigraphdb_node(\n",
    "            subject_term, query_templates[\"literature_term\"]\n",
    "        ),\n",
    "    }\n",
    "    object_term_match = {\n",
    "        \"efo\": query_epigraphdb_node(object_term, query_templates[\"efo\"]),\n",
    "        \"gwas\": query_epigraphdb_node(object_term, query_templates[\"gwas\"]),\n",
    "        \"literature_term\": query_epigraphdb_node(\n",
    "            object_term, query_templates[\"literature_term\"]\n",
    "        ),\n",
    "    }\n",
    "    res = {\n",
    "        \"doi\": e[\"doi\"],\n",
    "        \"subject_term\": subject_term,\n",
    "        \"object_term\": object_term,\n",
    "        \"subject_term_match\": subject_term_match,\n",
    "        \"object_term_match\": object_term_match,\n",
    "    }\n",
    "    return res\n",
    "\n",
    "\n",
    "terms_match = py_.chain(query_terms).map(_match_epigraphdb).value()"
   ]
  },
  {
   "cell_type": "code",
   "execution_count": 42,
   "id": "2b4e7370-9c64-4c06-92b8-379a93e58573",
   "metadata": {
    "execution": {
     "iopub.execute_input": "2024-05-09T13:54:40.797103Z",
     "iopub.status.busy": "2024-05-09T13:54:40.796488Z",
     "iopub.status.idle": "2024-05-09T13:54:40.821455Z",
     "shell.execute_reply": "2024-05-09T13:54:40.820620Z",
     "shell.execute_reply.started": "2024-05-09T13:54:40.797059Z"
    }
   },
   "outputs": [
    {
     "data": {
      "text/plain": [
       "{'doi': '10.1101/19001719',\n",
       " 'subject_term': 'Antihypertensive Agents',\n",
       " 'object_term': 'Mood Disorders',\n",
       " 'subject_term_match': {'efo': [],\n",
       "  'gwas': [],\n",
       "  'literature_term': [{'n': {'_name': 'Antihypertensive Agents',\n",
       "     'name': 'Antihypertensive Agents',\n",
       "     '_source': ['SemMedDB_VER42_2020_R',\n",
       "      'bioRxiv-2020-10-06',\n",
       "      'medRxiv-2020-10-06'],\n",
       "     'id': 'C0003364',\n",
       "     '_id': 'C0003364',\n",
       "     'type': ['phsu']}}]},\n",
       " 'object_term_match': {'efo': [], 'gwas': [], 'literature_term': []}}"
      ]
     },
     "execution_count": 42,
     "metadata": {},
     "output_type": "execute_result"
    }
   ],
   "source": [
    "terms_match[0]"
   ]
  },
  {
   "cell_type": "code",
   "execution_count": 43,
   "id": "aa1b4b7a-b3bf-4e54-ba06-377aa13c27ed",
   "metadata": {
    "execution": {
     "iopub.execute_input": "2024-05-09T13:54:42.932871Z",
     "iopub.status.busy": "2024-05-09T13:54:42.932051Z",
     "iopub.status.idle": "2024-05-09T13:54:42.984855Z",
     "shell.execute_reply": "2024-05-09T13:54:42.984058Z",
     "shell.execute_reply.started": "2024-05-09T13:54:42.932803Z"
    }
   },
   "outputs": [],
   "source": [
    "output_path = analysis_dir / \"query_term_match_to_epigraphdb.json\"\n",
    "with output_path.open(\"w\") as f:\n",
    "    json.dump(terms_match, f)"
   ]
  },
  {
   "cell_type": "markdown",
   "id": "c58cf44f-056e-417d-ab61-feac107b17d6",
   "metadata": {},
   "source": [
    "--------"
   ]
  },
  {
   "cell_type": "code",
   "execution_count": 126,
   "id": "c1166d04-292c-424e-a3bb-8395501f7c60",
   "metadata": {
    "execution": {
     "iopub.execute_input": "2024-05-09T20:44:23.999572Z",
     "iopub.status.busy": "2024-05-09T20:44:23.999063Z",
     "iopub.status.idle": "2024-05-09T20:44:24.025527Z",
     "shell.execute_reply": "2024-05-09T20:44:24.024743Z",
     "shell.execute_reply.started": "2024-05-09T20:44:23.999546Z"
    }
   },
   "outputs": [],
   "source": [
    "input_path = analysis_dir / \"query_term_match_to_epigraphdb.json\"\n",
    "with input_path.open() as f:\n",
    "    terms_match = json.load(f)"
   ]
  },
  {
   "cell_type": "code",
   "execution_count": 127,
   "id": "473fab9a-12e3-422a-a1cd-c6f2a7d09cc0",
   "metadata": {
    "execution": {
     "iopub.execute_input": "2024-05-09T20:44:42.342193Z",
     "iopub.status.busy": "2024-05-09T20:44:42.341436Z",
     "iopub.status.idle": "2024-05-09T20:44:42.396334Z",
     "shell.execute_reply": "2024-05-09T20:44:42.395403Z",
     "shell.execute_reply.started": "2024-05-09T20:44:42.342132Z"
    }
   },
   "outputs": [
    {
     "name": "stdout",
     "output_type": "stream",
     "text": [
      "275\n",
      "[{'term': 'Antihypertensive Agents', 'gwas': False, 'literature_term': True, 'all': False}, {'term': 'Mood Disorders', 'gwas': False, 'literature_term': True, 'all': False}, {'term': 'Mental disorders', 'gwas': False, 'literature_term': False, 'all': False}, {'term': 'Diabetes', 'gwas': False, 'literature_term': False, 'all': False}, {'term': 'Urate', 'gwas': True, 'literature_term': True, 'all': True}]\n"
     ]
    }
   ],
   "source": [
    "terms_match_summary = (\n",
    "    py_.chain(terms_match)\n",
    "    .map(\n",
    "        lambda e: [\n",
    "            {\n",
    "                \"term\": e[\"subject_term\"],\n",
    "                \"gwas\": e[\"subject_term_match\"][\"gwas\"].__len__() > 0,\n",
    "                \"literature_term\": e[\"subject_term_match\"][\"literature_term\"].__len__()\n",
    "                > 0,\n",
    "            },\n",
    "            {\n",
    "                \"term\": e[\"object_term\"],\n",
    "                \"gwas\": e[\"object_term_match\"][\"gwas\"].__len__() > 0,\n",
    "                \"literature_term\": e[\"subject_term_match\"][\"literature_term\"].__len__()\n",
    "                > 0,\n",
    "            },\n",
    "        ]\n",
    "    )\n",
    "    .flatten()\n",
    "    .uniq_by(lambda e: e[\"term\"])\n",
    "    .map(lambda e: assign(e, {\"all\": e[\"gwas\"] & e[\"literature_term\"]}))\n",
    "    .value()\n",
    ")\n",
    "\n",
    "print(terms_match_summary.__len__())\n",
    "print(terms_match_summary[0:5])"
   ]
  },
  {
   "cell_type": "code",
   "execution_count": 128,
   "id": "4503ba04-0709-4b82-853d-21cfe7532952",
   "metadata": {
    "execution": {
     "iopub.execute_input": "2024-05-09T20:44:46.285778Z",
     "iopub.status.busy": "2024-05-09T20:44:46.284886Z",
     "iopub.status.idle": "2024-05-09T20:44:46.330706Z",
     "shell.execute_reply": "2024-05-09T20:44:46.329125Z",
     "shell.execute_reply.started": "2024-05-09T20:44:46.285731Z"
    }
   },
   "outputs": [
    {
     "data": {
      "text/html": [
       "<div>\n",
       "<style scoped>\n",
       "    .dataframe tbody tr th:only-of-type {\n",
       "        vertical-align: middle;\n",
       "    }\n",
       "\n",
       "    .dataframe tbody tr th {\n",
       "        vertical-align: top;\n",
       "    }\n",
       "\n",
       "    .dataframe thead th {\n",
       "        text-align: right;\n",
       "    }\n",
       "</style>\n",
       "<table border=\"1\" class=\"dataframe\">\n",
       "  <thead>\n",
       "    <tr style=\"text-align: right;\">\n",
       "      <th></th>\n",
       "      <th>term</th>\n",
       "      <th>gwas</th>\n",
       "      <th>literature_term</th>\n",
       "      <th>all</th>\n",
       "    </tr>\n",
       "  </thead>\n",
       "  <tbody>\n",
       "    <tr>\n",
       "      <th>0</th>\n",
       "      <td>Antihypertensive Agents</td>\n",
       "      <td>False</td>\n",
       "      <td>True</td>\n",
       "      <td>False</td>\n",
       "    </tr>\n",
       "    <tr>\n",
       "      <th>1</th>\n",
       "      <td>Mood Disorders</td>\n",
       "      <td>False</td>\n",
       "      <td>True</td>\n",
       "      <td>False</td>\n",
       "    </tr>\n",
       "    <tr>\n",
       "      <th>2</th>\n",
       "      <td>Mental disorders</td>\n",
       "      <td>False</td>\n",
       "      <td>False</td>\n",
       "      <td>False</td>\n",
       "    </tr>\n",
       "    <tr>\n",
       "      <th>3</th>\n",
       "      <td>Diabetes</td>\n",
       "      <td>False</td>\n",
       "      <td>False</td>\n",
       "      <td>False</td>\n",
       "    </tr>\n",
       "    <tr>\n",
       "      <th>4</th>\n",
       "      <td>Urate</td>\n",
       "      <td>True</td>\n",
       "      <td>True</td>\n",
       "      <td>True</td>\n",
       "    </tr>\n",
       "    <tr>\n",
       "      <th>...</th>\n",
       "      <td>...</td>\n",
       "      <td>...</td>\n",
       "      <td>...</td>\n",
       "      <td>...</td>\n",
       "    </tr>\n",
       "    <tr>\n",
       "      <th>270</th>\n",
       "      <td>daily energy intakes</td>\n",
       "      <td>False</td>\n",
       "      <td>True</td>\n",
       "      <td>False</td>\n",
       "    </tr>\n",
       "    <tr>\n",
       "      <th>271</th>\n",
       "      <td>Obsessive compulsive behavior</td>\n",
       "      <td>False</td>\n",
       "      <td>False</td>\n",
       "      <td>False</td>\n",
       "    </tr>\n",
       "    <tr>\n",
       "      <th>272</th>\n",
       "      <td>Dizziness</td>\n",
       "      <td>False</td>\n",
       "      <td>True</td>\n",
       "      <td>False</td>\n",
       "    </tr>\n",
       "    <tr>\n",
       "      <th>273</th>\n",
       "      <td>Cardioembolic stroke</td>\n",
       "      <td>True</td>\n",
       "      <td>True</td>\n",
       "      <td>True</td>\n",
       "    </tr>\n",
       "    <tr>\n",
       "      <th>274</th>\n",
       "      <td>Lupus Erythematosus, Systemic</td>\n",
       "      <td>False</td>\n",
       "      <td>False</td>\n",
       "      <td>False</td>\n",
       "    </tr>\n",
       "  </tbody>\n",
       "</table>\n",
       "<p>275 rows × 4 columns</p>\n",
       "</div>"
      ],
      "text/plain": [
       "                              term   gwas  literature_term    all\n",
       "0          Antihypertensive Agents  False             True  False\n",
       "1                   Mood Disorders  False             True  False\n",
       "2                 Mental disorders  False            False  False\n",
       "3                         Diabetes  False            False  False\n",
       "4                            Urate   True             True   True\n",
       "..                             ...    ...              ...    ...\n",
       "270           daily energy intakes  False             True  False\n",
       "271  Obsessive compulsive behavior  False            False  False\n",
       "272                      Dizziness  False             True  False\n",
       "273           Cardioembolic stroke   True             True   True\n",
       "274  Lupus Erythematosus, Systemic  False            False  False\n",
       "\n",
       "[275 rows x 4 columns]"
      ]
     },
     "execution_count": 128,
     "metadata": {},
     "output_type": "execute_result"
    }
   ],
   "source": [
    "epigraphdb_match = pd.DataFrame(terms_match_summary)\n",
    "epigraphdb_match"
   ]
  },
  {
   "cell_type": "code",
   "execution_count": 129,
   "id": "33efa5e0-a45b-4f26-8832-282b5b88bde6",
   "metadata": {
    "execution": {
     "iopub.execute_input": "2024-05-09T20:44:48.635822Z",
     "iopub.status.busy": "2024-05-09T20:44:48.635169Z",
     "iopub.status.idle": "2024-05-09T20:44:48.670569Z",
     "shell.execute_reply": "2024-05-09T20:44:48.669464Z",
     "shell.execute_reply.started": "2024-05-09T20:44:48.635760Z"
    }
   },
   "outputs": [
    {
     "data": {
      "text/html": [
       "<div>\n",
       "<style scoped>\n",
       "    .dataframe tbody tr th:only-of-type {\n",
       "        vertical-align: middle;\n",
       "    }\n",
       "\n",
       "    .dataframe tbody tr th {\n",
       "        vertical-align: top;\n",
       "    }\n",
       "\n",
       "    .dataframe thead th {\n",
       "        text-align: right;\n",
       "    }\n",
       "</style>\n",
       "<table border=\"1\" class=\"dataframe\">\n",
       "  <thead>\n",
       "    <tr style=\"text-align: right;\">\n",
       "      <th></th>\n",
       "      <th>gwas</th>\n",
       "      <th>literature_term</th>\n",
       "      <th>all</th>\n",
       "      <th>total</th>\n",
       "      <th>method</th>\n",
       "    </tr>\n",
       "  </thead>\n",
       "  <tbody>\n",
       "    <tr>\n",
       "      <th>0</th>\n",
       "      <td>36</td>\n",
       "      <td>170</td>\n",
       "      <td>26</td>\n",
       "      <td>275</td>\n",
       "      <td>epigraphdb_direct_match</td>\n",
       "    </tr>\n",
       "  </tbody>\n",
       "</table>\n",
       "</div>"
      ],
      "text/plain": [
       "   gwas  literature_term  all  total                   method\n",
       "0    36              170   26    275  epigraphdb_direct_match"
      ]
     },
     "execution_count": 129,
     "metadata": {},
     "output_type": "execute_result"
    }
   ],
   "source": [
    "epigraphdb_match_summary = (\n",
    "    epigraphdb_match.drop(columns=[\"term\"])\n",
    "    .agg(\"sum\")\n",
    "    .to_frame()\n",
    "    .transpose()\n",
    "    .assign(total=len(df_epigraphdb_match), method=\"epigraphdb_direct_match\")\n",
    ")\n",
    "epigraphdb_match_summary"
   ]
  },
  {
   "cell_type": "markdown",
   "id": "dca329be-456e-4208-a9d8-819644ff3059",
   "metadata": {},
   "source": [
    "--------"
   ]
  },
  {
   "cell_type": "code",
   "execution_count": 130,
   "id": "4dcfe7b5-58d9-457a-9a0d-bd2f6b2a7b31",
   "metadata": {
    "execution": {
     "iopub.execute_input": "2024-05-09T20:45:17.644098Z",
     "iopub.status.busy": "2024-05-09T20:45:17.643463Z",
     "iopub.status.idle": "2024-05-09T20:45:17.742830Z",
     "shell.execute_reply": "2024-05-09T20:45:17.741889Z",
     "shell.execute_reply.started": "2024-05-09T20:45:17.644038Z"
    }
   },
   "outputs": [],
   "source": [
    "def _check_similarity_match(e: Dict[str, Any], threshold: Union[float, str]):\n",
    "    def _check(items: Dict[str, Any], threshold: Union[float, str]):\n",
    "        if isinstance(threshold, str):\n",
    "            res = len(e) > 0\n",
    "        else:\n",
    "            items_pass = [_ for _ in items if _[\"similarity_score\"] >= threshold]\n",
    "            res = len(items_pass) > 0\n",
    "        return res\n",
    "\n",
    "    res = [\n",
    "        {\n",
    "            \"term\": e[\"subject_term\"],\n",
    "            \"gwas\": _check(e[\"trait_ents\"][\"subject_ents\"], threshold),\n",
    "            \"literature_term\": _check(e[\"umls_ents\"][\"subject_ents\"], threshold),\n",
    "        },\n",
    "        {\n",
    "            \"term\": e[\"object_term\"],\n",
    "            \"gwas\": _check(e[\"trait_ents\"][\"object_ents\"], threshold),\n",
    "            \"literature_term\": _check(e[\"umls_ents\"][\"object_ents\"], threshold),\n",
    "        },\n",
    "    ]\n",
    "    return res\n",
    "\n",
    "\n",
    "thresholds = [0.99, 0.95, 0.9, 0.8, \"default\"]\n",
    "asq_match = (\n",
    "    py_.chain(thresholds)\n",
    "    .map(\n",
    "        lambda threshold: py_.chain(combined_ents)\n",
    "        .map(lambda e: _check_similarity_match(e, threshold))\n",
    "        .flatten()\n",
    "        .uniq_by(lambda e: e[\"term\"])\n",
    "        .map(lambda e: assign(e, {\"all\": e[\"gwas\"] & e[\"literature_term\"]}))\n",
    "        .apply(lambda coll: pd.DataFrame(coll).assign(threshold=threshold))\n",
    "        .value()\n",
    "    )\n",
    "    .apply(lambda coll: pd.concat(coll))\n",
    "    .value()\n",
    ")"
   ]
  },
  {
   "cell_type": "code",
   "execution_count": 131,
   "id": "0f105476-8e1f-4b7f-b552-abbe370e94df",
   "metadata": {
    "execution": {
     "iopub.execute_input": "2024-05-09T20:45:21.910136Z",
     "iopub.status.busy": "2024-05-09T20:45:21.909401Z",
     "iopub.status.idle": "2024-05-09T20:45:21.963771Z",
     "shell.execute_reply": "2024-05-09T20:45:21.962181Z",
     "shell.execute_reply.started": "2024-05-09T20:45:21.910075Z"
    }
   },
   "outputs": [
    {
     "data": {
      "text/html": [
       "<div>\n",
       "<style scoped>\n",
       "    .dataframe tbody tr th:only-of-type {\n",
       "        vertical-align: middle;\n",
       "    }\n",
       "\n",
       "    .dataframe tbody tr th {\n",
       "        vertical-align: top;\n",
       "    }\n",
       "\n",
       "    .dataframe thead th {\n",
       "        text-align: right;\n",
       "    }\n",
       "</style>\n",
       "<table border=\"1\" class=\"dataframe\">\n",
       "  <thead>\n",
       "    <tr style=\"text-align: right;\">\n",
       "      <th></th>\n",
       "      <th>term</th>\n",
       "      <th>gwas</th>\n",
       "      <th>literature_term</th>\n",
       "      <th>all</th>\n",
       "      <th>threshold</th>\n",
       "    </tr>\n",
       "  </thead>\n",
       "  <tbody>\n",
       "    <tr>\n",
       "      <th>0</th>\n",
       "      <td>Antihypertensive Agents</td>\n",
       "      <td>False</td>\n",
       "      <td>True</td>\n",
       "      <td>False</td>\n",
       "      <td>0.99</td>\n",
       "    </tr>\n",
       "    <tr>\n",
       "      <th>1</th>\n",
       "      <td>Mood Disorders</td>\n",
       "      <td>True</td>\n",
       "      <td>False</td>\n",
       "      <td>False</td>\n",
       "      <td>0.99</td>\n",
       "    </tr>\n",
       "    <tr>\n",
       "      <th>2</th>\n",
       "      <td>Mental disorders</td>\n",
       "      <td>False</td>\n",
       "      <td>False</td>\n",
       "      <td>False</td>\n",
       "      <td>0.99</td>\n",
       "    </tr>\n",
       "    <tr>\n",
       "      <th>3</th>\n",
       "      <td>Diabetes</td>\n",
       "      <td>False</td>\n",
       "      <td>True</td>\n",
       "      <td>False</td>\n",
       "      <td>0.99</td>\n",
       "    </tr>\n",
       "    <tr>\n",
       "      <th>4</th>\n",
       "      <td>Urate</td>\n",
       "      <td>False</td>\n",
       "      <td>True</td>\n",
       "      <td>False</td>\n",
       "      <td>0.99</td>\n",
       "    </tr>\n",
       "    <tr>\n",
       "      <th>...</th>\n",
       "      <td>...</td>\n",
       "      <td>...</td>\n",
       "      <td>...</td>\n",
       "      <td>...</td>\n",
       "      <td>...</td>\n",
       "    </tr>\n",
       "    <tr>\n",
       "      <th>270</th>\n",
       "      <td>daily energy intakes</td>\n",
       "      <td>True</td>\n",
       "      <td>True</td>\n",
       "      <td>True</td>\n",
       "      <td>default</td>\n",
       "    </tr>\n",
       "    <tr>\n",
       "      <th>271</th>\n",
       "      <td>Obsessive compulsive behavior</td>\n",
       "      <td>True</td>\n",
       "      <td>True</td>\n",
       "      <td>True</td>\n",
       "      <td>default</td>\n",
       "    </tr>\n",
       "    <tr>\n",
       "      <th>272</th>\n",
       "      <td>Dizziness</td>\n",
       "      <td>True</td>\n",
       "      <td>True</td>\n",
       "      <td>True</td>\n",
       "      <td>default</td>\n",
       "    </tr>\n",
       "    <tr>\n",
       "      <th>273</th>\n",
       "      <td>Cardioembolic stroke</td>\n",
       "      <td>True</td>\n",
       "      <td>True</td>\n",
       "      <td>True</td>\n",
       "      <td>default</td>\n",
       "    </tr>\n",
       "    <tr>\n",
       "      <th>274</th>\n",
       "      <td>Lupus Erythematosus, Systemic</td>\n",
       "      <td>True</td>\n",
       "      <td>True</td>\n",
       "      <td>True</td>\n",
       "      <td>default</td>\n",
       "    </tr>\n",
       "  </tbody>\n",
       "</table>\n",
       "<p>1375 rows × 5 columns</p>\n",
       "</div>"
      ],
      "text/plain": [
       "                              term   gwas  literature_term    all threshold\n",
       "0          Antihypertensive Agents  False             True  False      0.99\n",
       "1                   Mood Disorders   True            False  False      0.99\n",
       "2                 Mental disorders  False            False  False      0.99\n",
       "3                         Diabetes  False             True  False      0.99\n",
       "4                            Urate  False             True  False      0.99\n",
       "..                             ...    ...              ...    ...       ...\n",
       "270           daily energy intakes   True             True   True   default\n",
       "271  Obsessive compulsive behavior   True             True   True   default\n",
       "272                      Dizziness   True             True   True   default\n",
       "273           Cardioembolic stroke   True             True   True   default\n",
       "274  Lupus Erythematosus, Systemic   True             True   True   default\n",
       "\n",
       "[1375 rows x 5 columns]"
      ]
     },
     "execution_count": 131,
     "metadata": {},
     "output_type": "execute_result"
    }
   ],
   "source": [
    "asq_match"
   ]
  },
  {
   "cell_type": "code",
   "execution_count": 132,
   "id": "9e849cd6-3f40-4e42-b24b-52a48f86ee88",
   "metadata": {
    "execution": {
     "iopub.execute_input": "2024-05-09T20:45:27.534192Z",
     "iopub.status.busy": "2024-05-09T20:45:27.533355Z",
     "iopub.status.idle": "2024-05-09T20:45:27.571867Z",
     "shell.execute_reply": "2024-05-09T20:45:27.570813Z",
     "shell.execute_reply.started": "2024-05-09T20:45:27.534129Z"
    }
   },
   "outputs": [],
   "source": [
    "asq_match_summary = (\n",
    "    asq_match.drop(columns=[\"term\"])\n",
    "    .groupby(\"threshold\")\n",
    "    .agg(\"sum\")\n",
    "    .reset_index(drop=False)\n",
    "    .assign(\n",
    "        total=len(asq_match) / len(thresholds),\n",
    "        method=lambda df: df.apply(\n",
    "            lambda row: \"asq_{threshold}\".format(threshold=row[\"threshold\"]), axis=1\n",
    "        ),\n",
    "    )\n",
    "    .drop(columns=[\"threshold\"])\n",
    ")"
   ]
  },
  {
   "cell_type": "code",
   "execution_count": 133,
   "id": "b8b924c9-1531-44b7-8f10-f1f54cf7001b",
   "metadata": {
    "execution": {
     "iopub.execute_input": "2024-05-09T20:45:30.284202Z",
     "iopub.status.busy": "2024-05-09T20:45:30.283564Z",
     "iopub.status.idle": "2024-05-09T20:45:30.314845Z",
     "shell.execute_reply": "2024-05-09T20:45:30.313918Z",
     "shell.execute_reply.started": "2024-05-09T20:45:30.284141Z"
    }
   },
   "outputs": [
    {
     "data": {
      "text/html": [
       "<div>\n",
       "<style scoped>\n",
       "    .dataframe tbody tr th:only-of-type {\n",
       "        vertical-align: middle;\n",
       "    }\n",
       "\n",
       "    .dataframe tbody tr th {\n",
       "        vertical-align: top;\n",
       "    }\n",
       "\n",
       "    .dataframe thead th {\n",
       "        text-align: right;\n",
       "    }\n",
       "</style>\n",
       "<table border=\"1\" class=\"dataframe\">\n",
       "  <thead>\n",
       "    <tr style=\"text-align: right;\">\n",
       "      <th></th>\n",
       "      <th>gwas</th>\n",
       "      <th>literature_term</th>\n",
       "      <th>all</th>\n",
       "      <th>total</th>\n",
       "      <th>method</th>\n",
       "    </tr>\n",
       "  </thead>\n",
       "  <tbody>\n",
       "    <tr>\n",
       "      <th>0</th>\n",
       "      <td>36</td>\n",
       "      <td>170</td>\n",
       "      <td>26</td>\n",
       "      <td>275.0</td>\n",
       "      <td>epigraphdb_direct_match</td>\n",
       "    </tr>\n",
       "    <tr>\n",
       "      <th>0</th>\n",
       "      <td>193</td>\n",
       "      <td>257</td>\n",
       "      <td>182</td>\n",
       "      <td>275.0</td>\n",
       "      <td>asq_0.8</td>\n",
       "    </tr>\n",
       "    <tr>\n",
       "      <th>1</th>\n",
       "      <td>108</td>\n",
       "      <td>201</td>\n",
       "      <td>87</td>\n",
       "      <td>275.0</td>\n",
       "      <td>asq_0.9</td>\n",
       "    </tr>\n",
       "    <tr>\n",
       "      <th>2</th>\n",
       "      <td>68</td>\n",
       "      <td>176</td>\n",
       "      <td>51</td>\n",
       "      <td>275.0</td>\n",
       "      <td>asq_0.95</td>\n",
       "    </tr>\n",
       "    <tr>\n",
       "      <th>3</th>\n",
       "      <td>49</td>\n",
       "      <td>173</td>\n",
       "      <td>39</td>\n",
       "      <td>275.0</td>\n",
       "      <td>asq_0.99</td>\n",
       "    </tr>\n",
       "    <tr>\n",
       "      <th>4</th>\n",
       "      <td>275</td>\n",
       "      <td>275</td>\n",
       "      <td>275</td>\n",
       "      <td>275.0</td>\n",
       "      <td>asq_default</td>\n",
       "    </tr>\n",
       "  </tbody>\n",
       "</table>\n",
       "</div>"
      ],
      "text/plain": [
       "   gwas  literature_term  all  total                   method\n",
       "0    36              170   26  275.0  epigraphdb_direct_match\n",
       "0   193              257  182  275.0                  asq_0.8\n",
       "1   108              201   87  275.0                  asq_0.9\n",
       "2    68              176   51  275.0                 asq_0.95\n",
       "3    49              173   39  275.0                 asq_0.99\n",
       "4   275              275  275  275.0              asq_default"
      ]
     },
     "execution_count": 133,
     "metadata": {},
     "output_type": "execute_result"
    }
   ],
   "source": [
    "match_summary = pd.concat([epigraphdb_match_summary, asq_match_summary])\n",
    "match_summary"
   ]
  },
  {
   "cell_type": "markdown",
   "id": "93832144-a69e-4283-9073-2e7c184438ef",
   "metadata": {},
   "source": [
    "--------"
   ]
  },
  {
   "cell_type": "code",
   "execution_count": null,
   "id": "d0e27780-d2e8-4094-b4dc-2147732da11d",
   "metadata": {},
   "outputs": [],
   "source": [
    "# cases where direct match missed but 0.95 fetched, using gwas as example"
   ]
  },
  {
   "cell_type": "code",
   "execution_count": 136,
   "id": "4d2e6d24-838f-4710-95cf-4d0ff3e972c2",
   "metadata": {
    "execution": {
     "iopub.execute_input": "2024-05-09T20:46:56.289237Z",
     "iopub.status.busy": "2024-05-09T20:46:56.288776Z",
     "iopub.status.idle": "2024-05-09T20:46:56.380749Z",
     "shell.execute_reply": "2024-05-09T20:46:56.379375Z",
     "shell.execute_reply.started": "2024-05-09T20:46:56.289195Z"
    }
   },
   "outputs": [
    {
     "data": {
      "text/html": [
       "<div>\n",
       "<style scoped>\n",
       "    .dataframe tbody tr th:only-of-type {\n",
       "        vertical-align: middle;\n",
       "    }\n",
       "\n",
       "    .dataframe tbody tr th {\n",
       "        vertical-align: top;\n",
       "    }\n",
       "\n",
       "    .dataframe thead th {\n",
       "        text-align: right;\n",
       "    }\n",
       "</style>\n",
       "<table border=\"1\" class=\"dataframe\">\n",
       "  <thead>\n",
       "    <tr style=\"text-align: right;\">\n",
       "      <th></th>\n",
       "      <th>term</th>\n",
       "      <th>asq_gwas_terms</th>\n",
       "    </tr>\n",
       "  </thead>\n",
       "  <tbody>\n",
       "    <tr>\n",
       "      <th>0</th>\n",
       "      <td>Antihypertensive Agents</td>\n",
       "      <td>[]</td>\n",
       "    </tr>\n",
       "    <tr>\n",
       "      <th>1</th>\n",
       "      <td>Mood Disorders</td>\n",
       "      <td>[Mood disorders]</td>\n",
       "    </tr>\n",
       "    <tr>\n",
       "      <th>2</th>\n",
       "      <td>Mental disorders</td>\n",
       "      <td>[]</td>\n",
       "    </tr>\n",
       "    <tr>\n",
       "      <th>3</th>\n",
       "      <td>Diabetes</td>\n",
       "      <td>[]</td>\n",
       "    </tr>\n",
       "    <tr>\n",
       "      <th>4</th>\n",
       "      <td>Urate</td>\n",
       "      <td>[]</td>\n",
       "    </tr>\n",
       "  </tbody>\n",
       "</table>\n",
       "</div>"
      ],
      "text/plain": [
       "                      term    asq_gwas_terms\n",
       "0  Antihypertensive Agents                []\n",
       "1           Mood Disorders  [Mood disorders]\n",
       "2         Mental disorders                []\n",
       "3                 Diabetes                []\n",
       "4                    Urate                []"
      ]
     },
     "execution_count": 136,
     "metadata": {},
     "output_type": "execute_result"
    }
   ],
   "source": [
    "def _gwas_match(e: Dict[str, Any]):\n",
    "    def _check(items: str) -> List[str]:\n",
    "        res = [_[\"ent_term\"] for _ in items if _[\"similarity_score\"] >= 0.99]\n",
    "        return res\n",
    "\n",
    "    res = [\n",
    "        {\n",
    "            \"term\": e[\"subject_term\"],\n",
    "            \"asq_gwas_terms\": _check(e[\"trait_ents\"][\"subject_ents\"]),\n",
    "        },\n",
    "        {\n",
    "            \"term\": e[\"object_term\"],\n",
    "            \"asq_gwas_terms\": _check(e[\"trait_ents\"][\"object_ents\"]),\n",
    "        },\n",
    "    ]\n",
    "    return res\n",
    "\n",
    "\n",
    "asq_099_gwas_terms = (\n",
    "    py_.chain(combined_ents)\n",
    "    .map(_gwas_match)\n",
    "    .flatten()\n",
    "    .uniq_by(lambda e: e[\"term\"])\n",
    "    .apply(pd.DataFrame)\n",
    "    .value()\n",
    ")\n",
    "asq_099_gwas_terms.head()"
   ]
  },
  {
   "cell_type": "code",
   "execution_count": 142,
   "id": "f6187067-c788-42f8-8b94-de1e31799bf5",
   "metadata": {
    "execution": {
     "iopub.execute_input": "2024-05-09T20:53:20.476661Z",
     "iopub.status.busy": "2024-05-09T20:53:20.475875Z",
     "iopub.status.idle": "2024-05-09T20:53:20.524362Z",
     "shell.execute_reply": "2024-05-09T20:53:20.523388Z",
     "shell.execute_reply.started": "2024-05-09T20:53:20.476595Z"
    }
   },
   "outputs": [
    {
     "name": "stdout",
     "output_type": "stream",
     "text": [
      "# ---- 00\n",
      "term: Mood Disorders\n",
      "asq match: ['Mood disorders']\n",
      "\n",
      "\n",
      "# ---- 01\n",
      "term: Heart Diseases\n",
      "asq match: ['Heart failure', 'Coronary heart disease', 'Coronary heart disease', 'Coronary heart disease', 'Coronary heart disease']\n",
      "\n",
      "\n",
      "# ---- 02\n",
      "term: Depressive disorder\n",
      "asq match: ['Mood disorders', 'Major Depressive Disorder', 'Major depressive disorder', 'Major depressive disorder', 'Major Depressive Disorder']\n",
      "\n",
      "\n",
      "# ---- 03\n",
      "term: Malignant Glioma\n",
      "asq match: ['Glioma']\n",
      "\n",
      "\n",
      "# ---- 04\n",
      "term: Myocardial Infarction\n",
      "asq match: ['Myocardial infarction', 'Myocardial infarction']\n",
      "\n",
      "\n",
      "# ---- 05\n",
      "term: Alzheimer's Disease\n",
      "asq match: [\"Alzheimer's disease\", \"Alzheimer's disease\", \"Alzheimer's disease\"]\n",
      "\n",
      "\n",
      "# ---- 06\n",
      "term: Bipolar Disorder\n",
      "asq match: ['Bipolar disorder', 'Bipolar disorder', 'Bipolar disorder']\n",
      "\n",
      "\n",
      "# ---- 07\n",
      "term: Arthritis\n",
      "asq match: ['Rheumatoid arthritis', 'Rheumatoid arthritis', 'Rheumatoid arthritis', 'Rheumatoid arthritis', 'Rheumatoid arthritis']\n",
      "\n",
      "\n",
      "# ---- 08\n",
      "term: Hypertensive disease\n",
      "asq match: ['Hypertension']\n",
      "\n",
      "\n",
      "# ---- 09\n",
      "term: Parkinson Disease\n",
      "asq match: [\"Parkinson's disease\", \"Parkinson's disease\"]\n",
      "\n",
      "\n",
      "# ---- 10\n",
      "term: Intracranial Hypertension\n",
      "asq match: ['Hypertension']\n",
      "\n",
      "\n",
      "# ---- 11\n",
      "term: Kidney Diseases\n",
      "asq match: ['Chronic kidney disease']\n",
      "\n",
      "\n",
      "# ---- 12\n",
      "term: Mild eczema\n",
      "asq match: ['Eczema']\n",
      "\n",
      "\n",
      "# ---- 13\n",
      "term: Acute myocardial infarction\n",
      "asq match: ['Myocardial infarction', 'Myocardial infarction']\n",
      "\n",
      "\n",
      "# ---- 14\n",
      "term: Low Vitamin D\n",
      "asq match: ['Vitamin D', 'Vitamin D', 'Vitamin D']\n",
      "\n",
      "\n",
      "# ---- 15\n",
      "term: Chronic Kidney Diseases\n",
      "asq match: ['Chronic kidney disease']\n",
      "\n",
      "\n",
      "# ---- 16\n",
      "term: Pulmonary Hypertension\n",
      "asq match: ['Hypertension']\n",
      "\n",
      "\n",
      "# ---- 17\n",
      "term: Multiple Sclerosis\n",
      "asq match: ['Multiple sclerosis', 'Multiple sclerosis', 'Multiple sclerosis', 'Multiple sclerosis']\n",
      "\n",
      "\n",
      "# ---- 18\n",
      "term: Ulcerative Colitis\n",
      "asq match: ['Ulcerative colitis', 'Ulcerative colitis', 'Ulcerative colitis', 'Ulcerative colitis', 'Ulcerative colitis', 'Ulcerative colitis', 'Ulcerative colitis']\n",
      "\n",
      "\n",
      "# ---- 19\n",
      "term: Sleep Apnea, Obstructive\n",
      "asq match: ['Sleep apnoea']\n",
      "\n",
      "\n",
      "# ---- 20\n",
      "term: Finding of body mass index\n",
      "asq match: ['Body mass index', 'Body mass index', 'Body mass index', 'Body mass index', 'Body mass index', 'Body mass index', 'Body mass index']\n",
      "\n",
      "\n",
      "# ---- 21\n",
      "term: Heart beat\n",
      "asq match: ['Heart rate']\n",
      "\n",
      "\n",
      "# ---- 22\n",
      "term: Kidney Failure, Chronic\n",
      "asq match: ['Chronic kidney disease']\n",
      "\n",
      "\n",
      "# ---- 23\n",
      "term: Lymphoma\n",
      "asq match: ['Lymphomas']\n",
      "\n",
      "\n",
      "# ---- 24\n",
      "term: Hiatal Hernia\n",
      "asq match: ['Hernia']\n",
      "\n",
      "\n",
      "# ---- 25\n",
      "term: Acute heart failure\n",
      "asq match: ['Heart failure']\n",
      "\n",
      "\n",
      "# ---- 26\n",
      "term: Inflammatory Bowel Diseases\n",
      "asq match: ['Inflammatory bowel disease', 'Inflammatory bowel disease', 'Inflammatory bowel disease', 'Inflammatory bowel disease', 'Inflammatory bowel disease', 'Inflammatory bowel disease', 'Inflammatory bowel disease']\n",
      "\n",
      "\n",
      "# ---- 27\n",
      "term: Crohn Disease\n",
      "asq match: [\"Crohn's disease\", \"Crohn's disease\", \"Crohn's disease\", \"Crohn's disease\", \"Crohn's disease\", \"Crohn's disease\"]\n",
      "\n",
      "\n",
      "# ---- 28\n",
      "term: Anxiety Disorders\n",
      "asq match: ['Anxiety disorders']\n",
      "\n",
      "\n",
      "# ---- 29\n",
      "term: Lupus Erythematosus, Systemic\n",
      "asq match: ['Systemic lupus erythematosus']\n",
      "\n",
      "\n"
     ]
    }
   ],
   "source": [
    "_res = (\n",
    "    epigraphdb_match[[\"term\", \"gwas\"]]\n",
    "    .rename(columns={\"gwas\": \"epigraphdb_match\"})\n",
    "    .merge(\n",
    "        asq_match[asq_match[\"threshold\"] == 0.99][[\"term\", \"gwas\"]].rename(\n",
    "            columns={\"gwas\": \"asq_match\"}\n",
    "        ),\n",
    "        on=[\"term\"],\n",
    "    )\n",
    "    .loc[lambda df: ~df[\"epigraphdb_match\"] & df[\"asq_match\"], :]\n",
    "    .merge(asq_099_gwas_terms, on=[\"term\"])\n",
    ")\n",
    "\n",
    "for idx, row in _res.iterrows():\n",
    "    print(f\"# ---- {idx:02}\")\n",
    "    print(f\"term: {row['term']}\")\n",
    "    print(f\"asq match: {row['asq_gwas_terms']}\")\n",
    "    print(\"\\n\")"
   ]
  }
 ],
 "metadata": {
  "kernelspec": {
   "display_name": "Python 3 (ipykernel)",
   "language": "python",
   "name": "python3"
  },
  "language_info": {
   "codemirror_mode": {
    "name": "ipython",
    "version": 3
   },
   "file_extension": ".py",
   "mimetype": "text/x-python",
   "name": "python",
   "nbconvert_exporter": "python",
   "pygments_lexer": "ipython3",
   "version": "3.8.19"
  }
 },
 "nbformat": 4,
 "nbformat_minor": 5
}
