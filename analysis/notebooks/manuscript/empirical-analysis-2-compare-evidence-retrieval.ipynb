{
 "cells": [
  {
   "cell_type": "code",
   "execution_count": 23,
   "id": "e058a13f-f95d-4f0e-8a48-92ef06dffddc",
   "metadata": {
    "execution": {
     "iopub.execute_input": "2024-06-19T15:51:32.295479Z",
     "iopub.status.busy": "2024-06-19T15:51:32.294884Z",
     "iopub.status.idle": "2024-06-19T15:51:34.403454Z",
     "shell.execute_reply": "2024-06-19T15:51:34.402761Z",
     "shell.execute_reply.started": "2024-06-19T15:51:32.295439Z"
    }
   },
   "outputs": [
    {
     "name": "stdout",
     "output_type": "stream",
     "text": [
      "413\n"
     ]
    }
   ],
   "source": [
    "_input_path = experiment_data_dir / \"evidence\" / \"combined_score.json\"\n",
    "with _input_path.open() as f:\n",
    "    combined_evidence = json.load(f)\n",
    "print(len(combined_evidence))"
   ]
  },
  {
   "cell_type": "code",
   "execution_count": 24,
   "id": "7432cda9-390a-4bca-9c1b-a7bd4a49725a",
   "metadata": {
    "execution": {
     "iopub.execute_input": "2024-06-19T15:52:48.422372Z",
     "iopub.status.busy": "2024-06-19T15:52:48.421789Z",
     "iopub.status.idle": "2024-06-19T15:52:48.458832Z",
     "shell.execute_reply": "2024-06-19T15:52:48.457942Z",
     "shell.execute_reply.started": "2024-06-19T15:52:48.422330Z"
    }
   },
   "outputs": [
    {
     "name": "stdout",
     "output_type": "stream",
     "text": [
      "413\n",
      "{'doi': '10.1101/19001719', 'subject_term': 'Antihypertensive Agents', 'object_term': 'Mood Disorders', 'subject_term_match': {'efo': [], 'gwas': [], 'literature_term': [{'n': {'_name': 'Antihypertensive Agents', 'name': 'Antihypertensive Agents', '_source': ['SemMedDB_VER42_2020_R', 'bioRxiv-2020-10-06', 'medRxiv-2020-10-06'], 'id': 'C0003364', '_id': 'C0003364', 'type': ['phsu']}}]}, 'object_term_match': {'efo': [], 'gwas': [], 'literature_term': []}}\n"
     ]
    }
   ],
   "source": [
    "_input_path = analysis_dir / \"terms_match_epigraphdb.json\"\n",
    "with _input_path.open() as f:\n",
    "    terms_match_epigraphdb = json.load(f)\n",
    "print(len(terms_match_epigraphdb))\n",
    "print(terms_match_epigraphdb[0])"
   ]
  },
  {
   "cell_type": "markdown",
   "id": "f35125ce-58c2-414c-a6c0-127b0f1c18b6",
   "metadata": {},
   "source": [
    "----"
   ]
  },
  {
   "cell_type": "markdown",
   "id": "08ad7cdc-31d0-4aea-83bf-07241ccbd361",
   "metadata": {},
   "source": [
    "filter evidence where the associated subject and object entities \n",
    "have been identified by epigraphdb direct search"
   ]
  },
  {
   "cell_type": "code",
   "execution_count": 33,
   "id": "97f3186d-547d-4b63-b140-538814290618",
   "metadata": {
    "execution": {
     "iopub.execute_input": "2024-06-19T16:38:37.431520Z",
     "iopub.status.busy": "2024-06-19T16:38:37.430881Z",
     "iopub.status.idle": "2024-06-19T16:38:37.487758Z",
     "shell.execute_reply": "2024-06-19T16:38:37.486782Z",
     "shell.execute_reply.started": "2024-06-19T16:38:37.431458Z"
    }
   },
   "outputs": [
    {
     "name": "stdout",
     "output_type": "stream",
     "text": [
      "0\n",
      "1\n",
      "2\n",
      "3\n",
      "4\n",
      "5\n",
      "6\n",
      "7\n",
      "8\n",
      "9\n",
      "10\n",
      "11\n",
      "12\n",
      "13\n",
      "14\n",
      "15\n",
      "16\n",
      "17\n",
      "18\n",
      "19\n",
      "20\n",
      "21\n",
      "22\n",
      "23\n",
      "24\n",
      "25\n",
      "26\n",
      "27\n",
      "28\n",
      "29\n",
      "30\n",
      "31\n",
      "32\n",
      "contradictory_directional_type2\n",
      "[{'subject_id': 'ukb-d-30850_irnt', 'subject_term': 'Testosterone', 'object_id': 'ukb-d-C3_PROSTATE', 'object_term': 'Malignant neoplasm of prostate', 'meta_rel': 'MR_EVE_MR', 'effect_size': -0.0042728189633286, 'se': 0.00284892063202589, 'pval': 0.136913341653637, 'rel_data': {'b': -0.0042728189633286, 'se': 0.00284892063202589, 'method': 'Simple mean', 'nsnp': 98, 'selection': 'DF', 'pval': 0.136913341653637, 'ci_upp': 0.00131106547544215, '_source': ['MR-EvE-2021-03-10'], 'ci_low': -0.009856703402099341, 'moescore': 0.75}, 'direction': 'forward', 'idx': 10, 'mapping_score': 0.9034557629084101, 'assoc_score': 1.1760341420068288, 'mapping_data': {'subject_mapping_score': 1.0, 'object_mapping_score': 0.9034557629084101, 'subject_mapping_data': [{'ent_id': 'ukb-d-30850_irnt', 'ent_term': 'Testosterone', 'text': 'testosterone', 'similarity_score': 1.0, 'meta_node': 'Gwas', 'ref_ent_id': 'http://purl.obolibrary.org/obo/CHEBI_17347', 'ref_ent_term': 'testosterone', 'ref_meta_ent': 'Efo', 'meta_ent': 'Gwas', 'ref_similarity_score': 1.0, 'query_term': 'Testosterone', 'mapping_score': 1.0}], 'object_mapping_data': [{'ent_id': 'ukb-d-C3_PROSTATE', 'ent_term': 'Malignant neoplasm of prostate', 'text': 'malignant neoplasm of prostate', 'similarity_score': 0.9505029, 'meta_node': 'Gwas', 'ref_ent_id': 'http://purl.obolibrary.org/obo/MONDO_0021259', 'ref_ent_term': 'prostate neoplasm', 'ref_meta_ent': 'Efo', 'meta_ent': 'Gwas', 'ref_similarity_score': 0.9505029, 'query_term': 'Malignant neoplasm of prostate', 'mapping_score': 0.9034557629084101}]}, 'evidence_score': 1.062494822973117}, {'subject_id': 'ukb-d-30850_irnt', 'subject_term': 'Testosterone', 'object_id': 'ukb-d-C3_PROSTATE', 'object_term': 'Malignant neoplasm of prostate', 'meta_rel': 'MR_EVE_MR', 'effect_size': -0.258573829303969, 'se': 0.18573730356638898, 'pval': 0.176138936363012, 'rel_data': {'b': -0.258573829303969, 'se': 0.18573730356638898, 'method': 'Simple mean', 'nsnp': 26, 'selection': 'DF', 'pval': 0.176138936363012, 'ci_upp': 0.105471285686154, '_source': ['MR-EvE-2021-03-10'], 'ci_low': -0.622618944294091, 'moescore': 0.85}, 'direction': 'forward', 'idx': 11, 'mapping_score': 0.9034557629084101, 'assoc_score': 1.1436854306815563, 'mapping_data': {'subject_mapping_score': 1.0, 'object_mapping_score': 0.9034557629084101, 'subject_mapping_data': [{'ent_id': 'ukb-d-30850_irnt', 'ent_term': 'Testosterone', 'text': 'testosterone', 'similarity_score': 1.0, 'meta_node': 'Gwas', 'ref_ent_id': 'http://purl.obolibrary.org/obo/CHEBI_17347', 'ref_ent_term': 'testosterone', 'ref_meta_ent': 'Efo', 'meta_ent': 'Gwas', 'ref_similarity_score': 1.0, 'query_term': 'Testosterone', 'mapping_score': 1.0}], 'object_mapping_data': [{'ent_id': 'ukb-d-C3_PROSTATE', 'ent_term': 'Malignant neoplasm of prostate', 'text': 'malignant neoplasm of prostate', 'similarity_score': 0.9505029, 'meta_node': 'Gwas', 'ref_ent_id': 'http://purl.obolibrary.org/obo/MONDO_0021259', 'ref_ent_term': 'prostate neoplasm', 'ref_meta_ent': 'Efo', 'meta_ent': 'Gwas', 'ref_similarity_score': 0.9505029, 'query_term': 'Malignant neoplasm of prostate', 'mapping_score': 0.9034557629084101}]}, 'evidence_score': 1.033269193303639}, {'subject_id': 'ukb-d-30850_raw', 'subject_term': 'Testosterone', 'object_id': 'ukb-d-C3_PROSTATE', 'object_term': 'Malignant neoplasm of prostate', 'meta_rel': 'MR_EVE_MR', 'effect_size': -0.000376555705536696, 'se': 0.000600083186256892, 'pval': 0.53154011993915, 'rel_data': {'b': -0.000376555705536696, 'se': 0.000600083186256892, 'method': 'RE IVW', 'nsnp': 119, 'selection': 'Tophits', 'pval': 0.53154011993915, 'ci_upp': 0.000799607339526812, '_source': ['MR-EvE-2021-03-10'], 'ci_low': -0.0015527187506002, 'moescore': 0.82}, 'direction': 'forward', 'idx': 22, 'mapping_score': 0.9034557629084101, 'assoc_score': 0.797617773945861, 'mapping_data': {'subject_mapping_score': 1.0, 'object_mapping_score': 0.9034557629084101, 'subject_mapping_data': [{'ent_id': 'ukb-d-30850_raw', 'ent_term': 'Testosterone', 'text': 'testosterone', 'similarity_score': 1.0, 'meta_node': 'Gwas', 'ref_ent_id': 'http://purl.obolibrary.org/obo/CHEBI_17347', 'ref_ent_term': 'testosterone', 'ref_meta_ent': 'Efo', 'meta_ent': 'Gwas', 'ref_similarity_score': 1.0, 'query_term': 'Testosterone', 'mapping_score': 1.0}], 'object_mapping_data': [{'ent_id': 'ukb-d-C3_PROSTATE', 'ent_term': 'Malignant neoplasm of prostate', 'text': 'malignant neoplasm of prostate', 'similarity_score': 0.9505029, 'meta_node': 'Gwas', 'ref_ent_id': 'http://purl.obolibrary.org/obo/MONDO_0021259', 'ref_ent_term': 'prostate neoplasm', 'ref_meta_ent': 'Efo', 'meta_ent': 'Gwas', 'ref_similarity_score': 0.9505029, 'query_term': 'Malignant neoplasm of prostate', 'mapping_score': 0.9034557629084101}]}, 'evidence_score': 0.7206123744695656}, {'subject_id': 'ukb-d-30850_raw', 'subject_term': 'Testosterone', 'object_id': 'ukb-d-C3_PROSTATE', 'object_term': 'Malignant neoplasm of prostate', 'meta_rel': 'MR_EVE_MR', 'effect_size': -0.640156234586372, 'se': 0.79974080782081, 'pval': 0.423447438560701, 'rel_data': {'b': -0.640156234586372, 'se': 0.79974080782081, 'method': 'Weighted median', 'nsnp': 20, 'selection': 'HF', 'pval': 0.423447438560701, 'ci_upp': 0.927306945709385, '_source': ['MR-EvE-2021-03-10'], 'ci_low': -2.20761941488213, 'moescore': 0.83}, 'direction': 'forward', 'idx': 23, 'mapping_score': 0.9034557629084101, 'assoc_score': 0.9033367224856718, 'mapping_data': {'subject_mapping_score': 1.0, 'object_mapping_score': 0.9034557629084101, 'subject_mapping_data': [{'ent_id': 'ukb-d-30850_raw', 'ent_term': 'Testosterone', 'text': 'testosterone', 'similarity_score': 1.0, 'meta_node': 'Gwas', 'ref_ent_id': 'http://purl.obolibrary.org/obo/CHEBI_17347', 'ref_ent_term': 'testosterone', 'ref_meta_ent': 'Efo', 'meta_ent': 'Gwas', 'ref_similarity_score': 1.0, 'query_term': 'Testosterone', 'mapping_score': 1.0}], 'object_mapping_data': [{'ent_id': 'ukb-d-C3_PROSTATE', 'ent_term': 'Malignant neoplasm of prostate', 'text': 'malignant neoplasm of prostate', 'similarity_score': 0.9505029, 'meta_node': 'Gwas', 'ref_ent_id': 'http://purl.obolibrary.org/obo/MONDO_0021259', 'ref_ent_term': 'prostate neoplasm', 'ref_meta_ent': 'Efo', 'meta_ent': 'Gwas', 'ref_similarity_score': 0.9505029, 'query_term': 'Malignant neoplasm of prostate', 'mapping_score': 0.9034557629084101}]}, 'evidence_score': 0.8161247677764754}]\n"
     ]
    }
   ],
   "source": [
    "# check which entries to look at\n",
    "def _filter_evidence(evidence_list, subject_term_matches, object_term_matches):\n",
    "    res = (\n",
    "        py_.chain(evidence_list)\n",
    "        .filter(\n",
    "            lambda e: e[\"subject_id\"] in subject_term_matches\n",
    "            and e[\"object_id\"] in object_term_matches\n",
    "        )\n",
    "        .value()\n",
    "    )\n",
    "    return res\n",
    "\n",
    "\n",
    "for idx in range(100):\n",
    "    flag = False\n",
    "    print(idx)\n",
    "    foo = terms_match_epigraphdb[idx]\n",
    "    subject_term_matches = (\n",
    "        py_.chain(foo[\"subject_term_match\"][\"gwas\"]).map(lambda e: e[\"n\"][\"id\"]).value()\n",
    "    )\n",
    "    object_term_matches = (\n",
    "        py_.chain(foo[\"object_term_match\"][\"gwas\"]).map(lambda e: e[\"n\"][\"id\"]).value()\n",
    "    )\n",
    "    bar = combined_evidence[idx][\"assoc_evidence\"]\n",
    "    evidence_types = bar.keys()\n",
    "    evidence_filter = {\n",
    "        _: _filter_evidence(bar[_], subject_term_matches, object_term_matches)\n",
    "        for _ in evidence_types\n",
    "    }\n",
    "    for _ in evidence_types:\n",
    "        if len(evidence_filter[_]) > 0:\n",
    "            print(_)\n",
    "            print(evidence_filter[_])\n",
    "            flag = True\n",
    "            break\n",
    "    if flag:\n",
    "        break"
   ]
  }
 ],
 "metadata": {
  "kernelspec": {
   "display_name": "Python 3 (ipykernel)",
   "language": "python",
   "name": "python3"
  },
  "language_info": {
   "codemirror_mode": {
    "name": "ipython",
    "version": 3
   },
   "file_extension": ".py",
   "mimetype": "text/x-python",
   "name": "python",
   "nbconvert_exporter": "python",
   "pygments_lexer": "ipython3",
   "version": "3.8.19"
  }
 },
 "nbformat": 4,
 "nbformat_minor": 5
}
