{
 "cells": [
  {
   "cell_type": "code",
   "execution_count": 23,
   "id": "e058a13f-f95d-4f0e-8a48-92ef06dffddc",
   "metadata": {
    "execution": {
     "iopub.execute_input": "2024-06-19T15:51:32.295479Z",
     "iopub.status.busy": "2024-06-19T15:51:32.294884Z",
     "iopub.status.idle": "2024-06-19T15:51:34.403454Z",
     "shell.execute_reply": "2024-06-19T15:51:34.402761Z",
     "shell.execute_reply.started": "2024-06-19T15:51:32.295439Z"
    }
   },
   "outputs": [
    {
     "name": "stdout",
     "output_type": "stream",
     "text": [
      "413\n"
     ]
    }
   ],
   "source": [
    "_input_path = experiment_data_dir / \"evidence\" / \"combined_score.json\"\n",
    "with _input_path.open() as f:\n",
    "    combined_evidence = json.load(f)\n",
    "print(len(combined_evidence))"
   ]
  },
  {
   "cell_type": "code",
   "execution_count": 24,
   "id": "7432cda9-390a-4bca-9c1b-a7bd4a49725a",
   "metadata": {
    "execution": {
     "iopub.execute_input": "2024-06-19T15:52:48.422372Z",
     "iopub.status.busy": "2024-06-19T15:52:48.421789Z",
     "iopub.status.idle": "2024-06-19T15:52:48.458832Z",
     "shell.execute_reply": "2024-06-19T15:52:48.457942Z",
     "shell.execute_reply.started": "2024-06-19T15:52:48.422330Z"
    }
   },
   "outputs": [
    {
     "name": "stdout",
     "output_type": "stream",
     "text": [
      "413\n",
      "{'doi': '10.1101/19001719', 'subject_term': 'Antihypertensive Agents', 'object_term': 'Mood Disorders', 'subject_term_match': {'efo': [], 'gwas': [], 'literature_term': [{'n': {'_name': 'Antihypertensive Agents', 'name': 'Antihypertensive Agents', '_source': ['SemMedDB_VER42_2020_R', 'bioRxiv-2020-10-06', 'medRxiv-2020-10-06'], 'id': 'C0003364', '_id': 'C0003364', 'type': ['phsu']}}]}, 'object_term_match': {'efo': [], 'gwas': [], 'literature_term': []}}\n"
     ]
    }
   ],
   "source": [
    "_input_path = analysis_dir / \"terms_match_epigraphdb.json\"\n",
    "with _input_path.open() as f:\n",
    "    terms_match_epigraphdb = json.load(f)\n",
    "print(len(terms_match_epigraphdb))\n",
    "print(terms_match_epigraphdb[0])"
   ]
  },
  {
   "cell_type": "markdown",
   "id": "f35125ce-58c2-414c-a6c0-127b0f1c18b6",
   "metadata": {},
   "source": [
    "----"
   ]
  },
  {
   "cell_type": "markdown",
   "id": "08ad7cdc-31d0-4aea-83bf-07241ccbd361",
   "metadata": {},
   "source": [
    "filter evidence where the associated subject and object entities \n",
    "have been identified by epigraphdb direct search"
   ]
  },
  {
   "cell_type": "code",
   "execution_count": 37,
   "id": "97f3186d-547d-4b63-b140-538814290618",
   "metadata": {
    "execution": {
     "iopub.execute_input": "2024-06-19T20:59:13.253304Z",
     "iopub.status.busy": "2024-06-19T20:59:13.252656Z",
     "iopub.status.idle": "2024-06-19T20:59:13.497004Z",
     "shell.execute_reply": "2024-06-19T20:59:13.495957Z",
     "shell.execute_reply.started": "2024-06-19T20:59:13.253245Z"
    },
    "scrolled": true
   },
   "outputs": [],
   "source": [
    "def _filter_assoc_evidence(evidence_list, subject_term_matches, object_term_matches):\n",
    "    res = (\n",
    "        py_.chain(evidence_list)\n",
    "        .filter(\n",
    "            lambda e: e[\"subject_id\"] in subject_term_matches\n",
    "            and e[\"object_id\"] in object_term_matches\n",
    "        )\n",
    "        .value()\n",
    "    )\n",
    "    return res\n",
    "\n",
    "\n",
    "def _filter_triple_evidence(evidence_list, subject_term_matches, object_term_matches):\n",
    "    res = (\n",
    "        py_.chain(evidence_list)\n",
    "        .filter(\n",
    "            lambda e: e[\"triple_subject_id\"] in subject_term_matches\n",
    "            and e[\"triple_object_id\"] in object_term_matches\n",
    "        )\n",
    "        .value()\n",
    "    )\n",
    "    return res\n",
    "\n",
    "\n",
    "def _filter_combined_evidence(terms_match_entry, evidence_entry):\n",
    "    # gwas terms and assoc evidence\n",
    "    gwas_subject_term_matches = (\n",
    "        py_.chain(terms_match_entry[\"subject_term_match\"][\"gwas\"])\n",
    "        .map(lambda e: e[\"n\"][\"_id\"])\n",
    "        .value()\n",
    "    )\n",
    "    gwas_object_term_matches = (\n",
    "        py_.chain(terms_match_entry[\"object_term_match\"][\"gwas\"])\n",
    "        .map(lambda e: e[\"n\"][\"_id\"])\n",
    "        .value()\n",
    "    )\n",
    "    assoc_evidence = evidence_entry[\"assoc_evidence\"]\n",
    "    assoc_evidence_filter = {\n",
    "        _: _filter_assoc_evidence(\n",
    "            assoc_evidence[_], gwas_subject_term_matches, gwas_object_term_matches\n",
    "        )\n",
    "        for _ in assoc_evidence.keys()\n",
    "    }\n",
    "    # literature terms and literature triple evidence\n",
    "    lit_subject_term_matches = (\n",
    "        py_.chain(terms_match_entry[\"subject_term_match\"][\"literature_term\"])\n",
    "        .map(lambda e: e[\"n\"][\"_id\"])\n",
    "        .value()\n",
    "    )\n",
    "    lit_object_term_matches = (\n",
    "        py_.chain(terms_match_entry[\"object_term_match\"][\"literature_term\"])\n",
    "        .map(lambda e: e[\"n\"][\"_id\"])\n",
    "        .value()\n",
    "    )\n",
    "    triple_evidence = evidence_entry[\"triple_evidence\"]\n",
    "    triple_evidence_filter = {\n",
    "        _: _filter_triple_evidence(\n",
    "            triple_evidence[_], lit_subject_term_matches, lit_object_term_matches\n",
    "        )\n",
    "        for _ in triple_evidence.keys()\n",
    "    }\n",
    "    # combined res\n",
    "    res = {\n",
    "        \"doi\": evidence_entry[\"doi\"],\n",
    "        \"subject_term\": evidence_entry[\"subject_term\"],\n",
    "        \"object_term\": evidence_entry[\"object_term\"],\n",
    "        \"pred_term\": evidence_entry[\"pred_term\"],\n",
    "        \"assoc_evidence\": assoc_evidence_filter,\n",
    "        \"triple_evidence\": triple_evidence_filter,\n",
    "    }\n",
    "    return res\n",
    "\n",
    "\n",
    "combined_evidence_filter_epigraphdb = (\n",
    "    py_.chain(range(len(terms_match_epigraphdb)))\n",
    "    .map(\n",
    "        lambda idx: _filter_combined_evidence(\n",
    "            terms_match_entry=terms_match_epigraphdb[idx],\n",
    "            evidence_entry=combined_evidence[idx],\n",
    "        )\n",
    "    )\n",
    "    .value()\n",
    ")"
   ]
  },
  {
   "cell_type": "code",
   "execution_count": 38,
   "id": "98522f60-34d4-4a50-a298-2d4d4fd4ea69",
   "metadata": {
    "execution": {
     "iopub.execute_input": "2024-06-19T21:00:50.218381Z",
     "iopub.status.busy": "2024-06-19T21:00:50.217812Z",
     "iopub.status.idle": "2024-06-19T21:00:50.311779Z",
     "shell.execute_reply": "2024-06-19T21:00:50.310968Z",
     "shell.execute_reply.started": "2024-06-19T21:00:50.218339Z"
    }
   },
   "outputs": [],
   "source": [
    "_output_path = analysis_dir / \"combined_evidence_filter_epigraphdb.json\"\n",
    "with _output_path.open(\"w\") as _f:\n",
    "    json.dump(combined_evidence_filter_epigraphdb, _f)"
   ]
  },
  {
   "cell_type": "markdown",
   "id": "af97f53d-dbbc-48ec-9db8-261b3868304e",
   "metadata": {},
   "source": [
    "----"
   ]
  },
  {
   "cell_type": "code",
   "execution_count": null,
   "id": "ab18c7af-dda6-4536-bb5b-faa7954a11a4",
   "metadata": {},
   "outputs": [],
   "source": [
    "TODO: load back evidence_filter_epigraphdb"
   ]
  },
  {
   "cell_type": "markdown",
   "id": "a1ae9dbe-28ef-426a-8c07-7a70b9bb4846",
   "metadata": {},
   "source": [
    "----"
   ]
  },
  {
   "cell_type": "code",
   "execution_count": null,
   "id": "8240dcda-232a-4350-9d73-23a712ac9345",
   "metadata": {},
   "outputs": [],
   "source": [
    "TODO: asq thresholds"
   ]
  },
  {
   "cell_type": "markdown",
   "id": "c2f28c73-4847-46a5-b6a5-dfaf204cd406",
   "metadata": {},
   "source": [
    "----"
   ]
  },
  {
   "cell_type": "code",
   "execution_count": null,
   "id": "3654fe96-9d07-4bba-9c5d-f6505c53a4de",
   "metadata": {},
   "outputs": [],
   "source": [
    "TODO: filter evidence plot"
   ]
  }
 ],
 "metadata": {
  "kernelspec": {
   "display_name": "Python 3 (ipykernel)",
   "language": "python",
   "name": "python3"
  },
  "language_info": {
   "codemirror_mode": {
    "name": "ipython",
    "version": 3
   },
   "file_extension": ".py",
   "mimetype": "text/x-python",
   "name": "python",
   "nbconvert_exporter": "python",
   "pygments_lexer": "ipython3",
   "version": "3.8.19"
  }
 },
 "nbformat": 4,
 "nbformat_minor": 5
}
