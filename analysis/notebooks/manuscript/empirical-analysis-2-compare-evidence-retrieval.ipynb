{
 "cells": [
  {
   "cell_type": "code",
   "execution_count": 172,
   "id": "7432cda9-390a-4bca-9c1b-a7bd4a49725a",
   "metadata": {
    "execution": {
     "iopub.execute_input": "2024-06-18T14:38:52.288572Z",
     "iopub.status.busy": "2024-06-18T14:38:52.287934Z",
     "iopub.status.idle": "2024-06-18T14:38:52.320130Z",
     "shell.execute_reply": "2024-06-18T14:38:52.319250Z",
     "shell.execute_reply.started": "2024-06-18T14:38:52.288512Z"
    }
   },
   "outputs": [
    {
     "name": "stdout",
     "output_type": "stream",
     "text": [
      "/data/ik18445_cache/projects/epigraphdb-asq/data/analysis/query_term_match_to_epigraphdb.json\n",
      "415\n",
      "{'doi': '10.1101/19001719', 'subject_term': 'Antihypertensive Agents', 'object_term': 'Mood Disorders', 'subject_term_match': {'efo': [], 'gwas': [], 'literature_term': [{'n': {'_name': 'Antihypertensive Agents', 'name': 'Antihypertensive Agents', '_source': ['SemMedDB_VER42_2020_R', 'bioRxiv-2020-10-06', 'medRxiv-2020-10-06'], 'id': 'C0003364', '_id': 'C0003364', 'type': ['phsu']}}]}, 'object_term_match': {'efo': [], 'gwas': [], 'literature_term': []}}\n"
     ]
    }
   ],
   "source": [
    "_input_path = analysis_dir / \"query_term_match_to_epigraphdb.json\"\n",
    "print(_input_path)\n",
    "with _input_path.open() as f:\n",
    "    terms_match_epigraphdb = json.load(f)\n",
    "print(len(terms_match_epigraphdb))\n",
    "print(terms_match_epigraphdb[0])"
   ]
  },
  {
   "cell_type": "code",
   "execution_count": null,
   "id": "e058a13f-f95d-4f0e-8a48-92ef06dffddc",
   "metadata": {},
   "outputs": [],
   "source": [
    "_input_path = experiment_data_dir / \"evidence\" / \"combined_evidence.json\""
   ]
  },
  {
   "cell_type": "markdown",
   "id": "f35125ce-58c2-414c-a6c0-127b0f1c18b6",
   "metadata": {},
   "source": [
    "----"
   ]
  }
 ],
 "metadata": {
  "kernelspec": {
   "display_name": "Python 3 (ipykernel)",
   "language": "python",
   "name": "python3"
  },
  "language_info": {
   "codemirror_mode": {
    "name": "ipython",
    "version": 3
   },
   "file_extension": ".py",
   "mimetype": "text/x-python",
   "name": "python",
   "nbconvert_exporter": "python",
   "pygments_lexer": "ipython3",
   "version": "3.8.19"
  }
 },
 "nbformat": 4,
 "nbformat_minor": 5
}
