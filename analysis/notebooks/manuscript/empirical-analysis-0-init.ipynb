{
 "cells": [
  {
   "cell_type": "code",
   "execution_count": 1,
   "id": "5d8cfb0f-c844-467e-92cf-1d72fcccc435",
   "metadata": {
    "execution": {
     "iopub.execute_input": "2024-06-18T15:06:20.481242Z",
     "iopub.status.busy": "2024-06-18T15:06:20.480389Z",
     "iopub.status.idle": "2024-06-18T15:06:20.614846Z",
     "shell.execute_reply": "2024-06-18T15:06:20.613855Z",
     "shell.execute_reply.started": "2024-06-18T15:06:20.481178Z"
    },
    "tags": []
   },
   "outputs": [],
   "source": [
    "%load_ext autoreload\n",
    "%load_ext lab_black\n",
    "\n",
    "%autoreload 2"
   ]
  },
  {
   "cell_type": "code",
   "execution_count": 122,
   "id": "fc29eb68-3380-4b49-bb87-a0ed19c6f45e",
   "metadata": {
    "execution": {
     "iopub.execute_input": "2024-06-20T19:55:29.656713Z",
     "iopub.status.busy": "2024-06-20T19:55:29.656034Z",
     "iopub.status.idle": "2024-06-20T19:55:30.194250Z",
     "shell.execute_reply": "2024-06-20T19:55:30.193271Z",
     "shell.execute_reply.started": "2024-06-20T19:55:29.656650Z"
    }
   },
   "outputs": [],
   "source": [
    "import json\n",
    "from typing import List, Dict, Any, Union\n",
    "\n",
    "import requests\n",
    "import numpy as np\n",
    "import pandas as pd\n",
    "from pydash import py_\n",
    "from pydash.objects import assign\n",
    "import altair as alt\n",
    "import seaborn as sns\n",
    "import matplotlib.pyplot as plt\n",
    "\n",
    "from analysis import utils\n",
    "from analysis.settings import config\n",
    "from analysis.funcs.generic import interval_str\n",
    "from common_processing.resources import EVIDENCE_LABELS, epigraphdb"
   ]
  },
  {
   "cell_type": "markdown",
   "id": "fc9baca8-ed24-46d8-88f8-4e8d28c1a2d0",
   "metadata": {},
   "source": [
    "----"
   ]
  },
  {
   "cell_type": "markdown",
   "id": "46e2301b-782a-4b21-a1d7-1c8695d8e5c0",
   "metadata": {},
   "source": [
    "# Setup params"
   ]
  },
  {
   "cell_type": "code",
   "execution_count": 3,
   "id": "e2485870-1a2e-41b6-95d6-6322d97c255b",
   "metadata": {
    "execution": {
     "iopub.execute_input": "2024-06-18T15:06:25.511471Z",
     "iopub.status.busy": "2024-06-18T15:06:25.510315Z",
     "iopub.status.idle": "2024-06-18T15:06:25.550287Z",
     "shell.execute_reply": "2024-06-18T15:06:25.549339Z",
     "shell.execute_reply.started": "2024-06-18T15:06:25.511393Z"
    },
    "scrolled": true,
    "tags": []
   },
   "outputs": [
    {
     "name": "stdout",
     "output_type": "stream",
     "text": [
      "experiment_data_dir=PosixPath('/data/ik18445_cache/projects/epigraphdb-asq/data/medrxiv_experiments/2020-01-01__2021-12-31/default')\n",
      "analysis_dir=PosixPath('/data/ik18445_cache/projects/epigraphdb-asq/data/analysis')\n",
      "analysis_assets_dir=PosixPath('/data/ik18445_cache/projects/epigraphdb-asq/data/analysis-artifacts')\n"
     ]
    }
   ],
   "source": [
    "INTERVAL = \"2020-01-01/2021-12-31\"\n",
    "interval_fmt = interval_str(INTERVAL)\n",
    "DATA_ROOT = utils.find_data_root()\n",
    "\n",
    "# key dirs\n",
    "experiment_data_dir = DATA_ROOT / \"medrxiv_experiments\" / interval_fmt / \"default\"\n",
    "assert experiment_data_dir.exists()\n",
    "print(f\"{experiment_data_dir=}\")\n",
    "\n",
    "analysis_dir = DATA_ROOT / \"analysis\"\n",
    "analysis_dir.mkdir(exist_ok=True)\n",
    "print(f\"{analysis_dir=}\")\n",
    "\n",
    "analysis_assets_dir = utils.find_analysis_artifacts_dir()\n",
    "assert analysis_assets_dir\n",
    "print(f\"{analysis_assets_dir=}\")"
   ]
  },
  {
   "cell_type": "code",
   "execution_count": 4,
   "id": "d85c46a2-8895-4473-80e4-7b1f2d11caae",
   "metadata": {
    "execution": {
     "iopub.execute_input": "2024-06-18T15:06:28.139526Z",
     "iopub.status.busy": "2024-06-18T15:06:28.138880Z",
     "iopub.status.idle": "2024-06-18T15:06:28.166521Z",
     "shell.execute_reply": "2024-06-18T15:06:28.165615Z",
     "shell.execute_reply.started": "2024-06-18T15:06:28.139464Z"
    }
   },
   "outputs": [
    {
     "data": {
      "text/plain": [
       "Config(semrep_api_url='http://localhost:8067', melodi_presto_api_url='https://melodi-presto.mrcieu.ac.uk/api', medline_api_url='http://ieu-db-interface.epi.bris.ac.uk:6451', epigraphdb_api_url='http://ieu-mrbssd1.epi.bris.ac.uk:28046', epigraphdb_web_backend_url='http://ieu-mrbssd1.epi.bris.ac.uk:28050', epigraphdb_neural_url='http://ieu-mrbssd1.epi.bris.ac.uk:28015', neural_transformers_url='http://ieu-mrbssd1.epi.bris.ac.uk:8017', neural_models_url='http://ieu-mrbssd1.epi.bris.ac.uk:8016', epigraphdb_es_url='http://ieu-mrbssd1.epi.bris.ac.uk:26550', backend_url='http://localhost:8615', data_path=PosixPath('/data/ik18445_cache/projects/epigraphdb-asq/data'))"
      ]
     },
     "execution_count": 4,
     "metadata": {},
     "output_type": "execute_result"
    }
   ],
   "source": [
    "config"
   ]
  },
  {
   "cell_type": "markdown",
   "id": "5519d3a9-ced4-414d-bc05-072c1cac4665",
   "metadata": {},
   "source": [
    "----"
   ]
  },
  {
   "cell_type": "markdown",
   "id": "5f5b45bf-0204-44f3-9316-d6c645a7859d",
   "metadata": {},
   "source": [
    "# General params"
   ]
  },
  {
   "cell_type": "code",
   "execution_count": 219,
   "id": "bccce473-2219-44a9-b476-e4011542626f",
   "metadata": {
    "execution": {
     "iopub.execute_input": "2024-06-23T12:33:51.176285Z",
     "iopub.status.busy": "2024-06-23T12:33:51.175638Z",
     "iopub.status.idle": "2024-06-23T12:33:51.212524Z",
     "shell.execute_reply": "2024-06-23T12:33:51.211588Z",
     "shell.execute_reply.started": "2024-06-23T12:33:51.176225Z"
    }
   },
   "outputs": [],
   "source": [
    "THRESHOLDS = [\n",
    "    {\"label\": \"epigraphdb\", \"threshold\": None},\n",
    "    {\"label\": \"asq_0.99\", \"threshold\": 0.99},\n",
    "    {\"label\": \"asq_0.95\", \"threshold\": 0.95},\n",
    "    {\"label\": \"asq_0.90\", \"threshold\": 0.90},\n",
    "    {\"label\": \"asq_0.85\", \"threshold\": 0.85},\n",
    "    {\"label\": \"asq_0.80\", \"threshold\": 0.80},\n",
    "    {\"label\": \"asq_default(0.7)\", \"threshold\": 0.7},\n",
    "]\n",
    "ASQ_THRESHOLDS = THRESHOLDS[1 : len(THRESHOLDS)]\n",
    "THRESHOLDS_LABELS_ORDERED = [_[\"label\"] for _ in THRESHOLDS]"
   ]
  },
  {
   "cell_type": "markdown",
   "id": "770730b5-bc4a-4226-89f1-81a5777363de",
   "metadata": {},
   "source": [
    "----"
   ]
  },
  {
   "cell_type": "markdown",
   "id": "c295cfac-59b3-441c-9236-34453250d0ad",
   "metadata": {},
   "source": [
    "# Funcs"
   ]
  },
  {
   "cell_type": "code",
   "execution_count": 46,
   "id": "f044e8a2-49db-412c-a795-3d26588dd6f9",
   "metadata": {
    "execution": {
     "iopub.execute_input": "2024-06-20T09:53:15.382768Z",
     "iopub.status.busy": "2024-06-20T09:53:15.381970Z",
     "iopub.status.idle": "2024-06-20T09:53:15.422067Z",
     "shell.execute_reply": "2024-06-20T09:53:15.421061Z",
     "shell.execute_reply.started": "2024-06-20T09:53:15.382707Z"
    }
   },
   "outputs": [],
   "source": [
    "def asq_check_similarity_match(e: Dict[str, Any], threshold: Union[float, str]):\n",
    "    def _check(items: Dict[str, Any], threshold: Union[float, str]):\n",
    "        if isinstance(threshold, str):\n",
    "            res = len(e) > 0\n",
    "        else:\n",
    "            items_pass = [_ for _ in items if _[\"similarity_score\"] >= threshold]\n",
    "            res = len(items_pass) > 0\n",
    "        return res\n",
    "\n",
    "    res = [\n",
    "        {\n",
    "            \"term\": e[\"subject_term\"],\n",
    "            \"gwas\": _check(e[\"trait_ents\"][\"subject_ents\"], threshold),\n",
    "            \"literature_term\": _check(e[\"umls_ents\"][\"subject_ents\"], threshold),\n",
    "        },\n",
    "        {\n",
    "            \"term\": e[\"object_term\"],\n",
    "            \"gwas\": _check(e[\"trait_ents\"][\"object_ents\"], threshold),\n",
    "            \"literature_term\": _check(e[\"umls_ents\"][\"object_ents\"], threshold),\n",
    "        },\n",
    "    ]\n",
    "    return res"
   ]
  },
  {
   "cell_type": "code",
   "execution_count": 79,
   "id": "dfb956fb-6d49-4e2c-a6e7-4df08ba20cde",
   "metadata": {
    "execution": {
     "iopub.execute_input": "2024-06-20T15:28:44.962259Z",
     "iopub.status.busy": "2024-06-20T15:28:44.961429Z",
     "iopub.status.idle": "2024-06-20T15:28:45.007891Z",
     "shell.execute_reply": "2024-06-20T15:28:45.007018Z",
     "shell.execute_reply.started": "2024-06-20T15:28:44.962198Z"
    }
   },
   "outputs": [],
   "source": [
    "# find those above thresholds,\n",
    "# instead of boolean\n",
    "def asq_find_similarity_match(e: Dict[str, Any], threshold: Union[float, str]):\n",
    "    def _find(items, threshold):\n",
    "        if isinstance(threshold, str):\n",
    "            res = items\n",
    "        else:\n",
    "            items_pass = [_ for _ in items if _[\"similarity_score\"] >= threshold]\n",
    "            res = items_pass\n",
    "        return res\n",
    "\n",
    "    res = [\n",
    "        {\n",
    "            \"term\": e[\"subject_term\"],\n",
    "            \"gwas\": _find(e[\"trait_ents\"][\"subject_ents\"], threshold),\n",
    "            \"literature_term\": _find(e[\"umls_ents\"][\"subject_ents\"], threshold),\n",
    "        },\n",
    "        {\n",
    "            \"term\": e[\"object_term\"],\n",
    "            \"gwas\": _find(e[\"trait_ents\"][\"object_ents\"], threshold),\n",
    "            \"literature_term\": _find(e[\"umls_ents\"][\"object_ents\"], threshold),\n",
    "        },\n",
    "    ]\n",
    "    return res"
   ]
  }
 ],
 "metadata": {
  "kernelspec": {
   "display_name": "Python 3 (ipykernel)",
   "language": "python",
   "name": "python3"
  },
  "language_info": {
   "codemirror_mode": {
    "name": "ipython",
    "version": 3
   },
   "file_extension": ".py",
   "mimetype": "text/x-python",
   "name": "python",
   "nbconvert_exporter": "python",
   "pygments_lexer": "ipython3",
   "version": "3.8.19"
  }
 },
 "nbformat": 4,
 "nbformat_minor": 5
}
