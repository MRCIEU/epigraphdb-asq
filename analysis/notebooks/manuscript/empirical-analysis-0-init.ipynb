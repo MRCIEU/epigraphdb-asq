{
 "cells": [
  {
   "cell_type": "code",
   "execution_count": 1,
   "id": "5d8cfb0f-c844-467e-92cf-1d72fcccc435",
   "metadata": {
    "execution": {
     "iopub.execute_input": "2024-06-18T15:06:20.481242Z",
     "iopub.status.busy": "2024-06-18T15:06:20.480389Z",
     "iopub.status.idle": "2024-06-18T15:06:20.614846Z",
     "shell.execute_reply": "2024-06-18T15:06:20.613855Z",
     "shell.execute_reply.started": "2024-06-18T15:06:20.481178Z"
    },
    "tags": []
   },
   "outputs": [],
   "source": [
    "%load_ext autoreload\n",
    "%load_ext lab_black\n",
    "\n",
    "%autoreload 2"
   ]
  },
  {
   "cell_type": "code",
   "execution_count": 2,
   "id": "fc29eb68-3380-4b49-bb87-a0ed19c6f45e",
   "metadata": {
    "execution": {
     "iopub.execute_input": "2024-06-18T15:06:22.033457Z",
     "iopub.status.busy": "2024-06-18T15:06:22.032624Z",
     "iopub.status.idle": "2024-06-18T15:06:23.291582Z",
     "shell.execute_reply": "2024-06-18T15:06:23.289998Z",
     "shell.execute_reply.started": "2024-06-18T15:06:22.033366Z"
    }
   },
   "outputs": [],
   "source": [
    "import json\n",
    "from typing import List, Dict, Any, Union\n",
    "\n",
    "import requests\n",
    "import numpy as np\n",
    "import pandas as pd\n",
    "from pydash import py_\n",
    "from pydash.objects import assign\n",
    "\n",
    "from analysis import utils\n",
    "from analysis.settings import config\n",
    "from analysis.funcs.generic import interval_str"
   ]
  },
  {
   "cell_type": "markdown",
   "id": "fc9baca8-ed24-46d8-88f8-4e8d28c1a2d0",
   "metadata": {},
   "source": [
    "----"
   ]
  },
  {
   "cell_type": "code",
   "execution_count": 3,
   "id": "e2485870-1a2e-41b6-95d6-6322d97c255b",
   "metadata": {
    "execution": {
     "iopub.execute_input": "2024-06-18T15:06:25.511471Z",
     "iopub.status.busy": "2024-06-18T15:06:25.510315Z",
     "iopub.status.idle": "2024-06-18T15:06:25.550287Z",
     "shell.execute_reply": "2024-06-18T15:06:25.549339Z",
     "shell.execute_reply.started": "2024-06-18T15:06:25.511393Z"
    },
    "tags": []
   },
   "outputs": [
    {
     "name": "stdout",
     "output_type": "stream",
     "text": [
      "experiment_data_dir=PosixPath('/data/ik18445_cache/projects/epigraphdb-asq/data/medrxiv_experiments/2020-01-01__2021-12-31/default')\n",
      "analysis_dir=PosixPath('/data/ik18445_cache/projects/epigraphdb-asq/data/analysis')\n",
      "analysis_assets_dir=PosixPath('/data/ik18445_cache/projects/epigraphdb-asq/data/analysis-artifacts')\n"
     ]
    }
   ],
   "source": [
    "INTERVAL = \"2020-01-01/2021-12-31\"\n",
    "interval_fmt = interval_str(INTERVAL)\n",
    "DATA_ROOT = utils.find_data_root()\n",
    "\n",
    "# key dirs\n",
    "experiment_data_dir = DATA_ROOT / \"medrxiv_experiments\" / interval_fmt / \"default\"\n",
    "assert experiment_data_dir.exists()\n",
    "print(f\"{experiment_data_dir=}\")\n",
    "\n",
    "analysis_dir = DATA_ROOT / \"analysis\"\n",
    "analysis_dir.mkdir(exist_ok=True)\n",
    "print(f\"{analysis_dir=}\")\n",
    "\n",
    "analysis_assets_dir = utils.find_analysis_artifacts_dir()\n",
    "assert analysis_assets_dir\n",
    "print(f\"{analysis_assets_dir=}\")"
   ]
  },
  {
   "cell_type": "code",
   "execution_count": 4,
   "id": "d85c46a2-8895-4473-80e4-7b1f2d11caae",
   "metadata": {
    "execution": {
     "iopub.execute_input": "2024-06-18T15:06:28.139526Z",
     "iopub.status.busy": "2024-06-18T15:06:28.138880Z",
     "iopub.status.idle": "2024-06-18T15:06:28.166521Z",
     "shell.execute_reply": "2024-06-18T15:06:28.165615Z",
     "shell.execute_reply.started": "2024-06-18T15:06:28.139464Z"
    }
   },
   "outputs": [
    {
     "data": {
      "text/plain": [
       "Config(semrep_api_url='http://localhost:8067', melodi_presto_api_url='https://melodi-presto.mrcieu.ac.uk/api', medline_api_url='http://ieu-db-interface.epi.bris.ac.uk:6451', epigraphdb_api_url='http://ieu-mrbssd1.epi.bris.ac.uk:28046', epigraphdb_web_backend_url='http://ieu-mrbssd1.epi.bris.ac.uk:28050', epigraphdb_neural_url='http://ieu-mrbssd1.epi.bris.ac.uk:28015', neural_transformers_url='http://ieu-mrbssd1.epi.bris.ac.uk:8017', neural_models_url='http://ieu-mrbssd1.epi.bris.ac.uk:8016', epigraphdb_es_url='http://ieu-mrbssd1.epi.bris.ac.uk:26550', backend_url='http://localhost:8615', data_path=PosixPath('/data/ik18445_cache/projects/epigraphdb-asq/data'))"
      ]
     },
     "execution_count": 4,
     "metadata": {},
     "output_type": "execute_result"
    }
   ],
   "source": [
    "config"
   ]
  }
 ],
 "metadata": {
  "kernelspec": {
   "display_name": "Python 3 (ipykernel)",
   "language": "python",
   "name": "python3"
  },
  "language_info": {
   "codemirror_mode": {
    "name": "ipython",
    "version": 3
   },
   "file_extension": ".py",
   "mimetype": "text/x-python",
   "name": "python",
   "nbconvert_exporter": "python",
   "pygments_lexer": "ipython3",
   "version": "3.8.19"
  }
 },
 "nbformat": 4,
 "nbformat_minor": 5
}
