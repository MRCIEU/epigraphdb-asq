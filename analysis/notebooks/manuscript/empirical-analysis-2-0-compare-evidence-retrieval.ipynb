{
 "cells": [
  {
   "cell_type": "markdown",
   "id": "16e98ce2-0a1b-436c-a2fa-974617f52fb4",
   "metadata": {},
   "source": [
    "# Empirical analysis on comparison of EpiGraphDB and ASQ for retrieval of evidence"
   ]
  },
  {
   "cell_type": "code",
   "execution_count": 23,
   "id": "e058a13f-f95d-4f0e-8a48-92ef06dffddc",
   "metadata": {
    "execution": {
     "iopub.execute_input": "2024-06-19T15:51:32.295479Z",
     "iopub.status.busy": "2024-06-19T15:51:32.294884Z",
     "iopub.status.idle": "2024-06-19T15:51:34.403454Z",
     "shell.execute_reply": "2024-06-19T15:51:34.402761Z",
     "shell.execute_reply.started": "2024-06-19T15:51:32.295439Z"
    }
   },
   "outputs": [
    {
     "name": "stdout",
     "output_type": "stream",
     "text": [
      "413\n"
     ]
    }
   ],
   "source": [
    "_input_path = experiment_data_dir / \"evidence\" / \"combined_score.json\"\n",
    "with _input_path.open() as f:\n",
    "    combined_evidence = json.load(f)\n",
    "print(len(combined_evidence))"
   ]
  },
  {
   "cell_type": "code",
   "execution_count": 24,
   "id": "7432cda9-390a-4bca-9c1b-a7bd4a49725a",
   "metadata": {
    "execution": {
     "iopub.execute_input": "2024-06-19T15:52:48.422372Z",
     "iopub.status.busy": "2024-06-19T15:52:48.421789Z",
     "iopub.status.idle": "2024-06-19T15:52:48.458832Z",
     "shell.execute_reply": "2024-06-19T15:52:48.457942Z",
     "shell.execute_reply.started": "2024-06-19T15:52:48.422330Z"
    },
    "scrolled": true
   },
   "outputs": [
    {
     "name": "stdout",
     "output_type": "stream",
     "text": [
      "413\n",
      "{'doi': '10.1101/19001719', 'subject_term': 'Antihypertensive Agents', 'object_term': 'Mood Disorders', 'subject_term_match': {'efo': [], 'gwas': [], 'literature_term': [{'n': {'_name': 'Antihypertensive Agents', 'name': 'Antihypertensive Agents', '_source': ['SemMedDB_VER42_2020_R', 'bioRxiv-2020-10-06', 'medRxiv-2020-10-06'], 'id': 'C0003364', '_id': 'C0003364', 'type': ['phsu']}}]}, 'object_term_match': {'efo': [], 'gwas': [], 'literature_term': []}}\n"
     ]
    }
   ],
   "source": [
    "_input_path = analysis_dir / \"terms_match_epigraphdb.json\"\n",
    "with _input_path.open() as f:\n",
    "    terms_match_epigraphdb = json.load(f)\n",
    "print(len(terms_match_epigraphdb))\n",
    "print(terms_match_epigraphdb[0])"
   ]
  },
  {
   "cell_type": "markdown",
   "id": "f35125ce-58c2-414c-a6c0-127b0f1c18b6",
   "metadata": {},
   "source": [
    "----"
   ]
  },
  {
   "cell_type": "markdown",
   "id": "a1ae9dbe-28ef-426a-8c07-7a70b9bb4846",
   "metadata": {},
   "source": [
    "----"
   ]
  },
  {
   "cell_type": "markdown",
   "id": "2dba3fb3-d0bb-42ca-9f06-5f3662b7dc66",
   "metadata": {},
   "source": [
    "# Filter evidence"
   ]
  },
  {
   "cell_type": "code",
   "execution_count": 199,
   "id": "3cccd93b-3893-446a-9a5e-4054c991905e",
   "metadata": {
    "execution": {
     "iopub.execute_input": "2024-06-23T12:22:38.128653Z",
     "iopub.status.busy": "2024-06-23T12:22:38.128012Z",
     "iopub.status.idle": "2024-06-23T12:22:38.385505Z",
     "shell.execute_reply": "2024-06-23T12:22:38.384185Z",
     "shell.execute_reply.started": "2024-06-23T12:22:38.128593Z"
    }
   },
   "outputs": [
    {
     "name": "stdout",
     "output_type": "stream",
     "text": [
      "413\n"
     ]
    }
   ],
   "source": [
    "_threshold = 0.99\n",
    "\n",
    "\n",
    "def filter_combined_evidence_asq(evidence_entry, threshold):\n",
    "    def _filter_evidence(evidence_list, threshold):\n",
    "        if threshold is None:\n",
    "            res = (\n",
    "                py_.chain(evidence_list)\n",
    "                .filter(lambda e: e[\"mapping_score\"] == 1.0)\n",
    "                .value()\n",
    "            )\n",
    "        else:\n",
    "            res = (\n",
    "                py_.chain(evidence_list)\n",
    "                .filter(lambda e: e[\"mapping_score\"] >= (threshold * threshold))\n",
    "                .value()\n",
    "            )\n",
    "        return res\n",
    "\n",
    "    # assoc evidence\n",
    "    assoc_evidence = evidence_entry[\"assoc_evidence\"]\n",
    "    assoc_evidence_filter = {\n",
    "        _: _filter_evidence(assoc_evidence[_], threshold) for _ in assoc_evidence.keys()\n",
    "    }\n",
    "    # literature evidence\n",
    "    triple_evidence = evidence_entry[\"triple_evidence\"]\n",
    "    triple_evidence_filter = {\n",
    "        _: _filter_evidence(triple_evidence[_], threshold)\n",
    "        for _ in triple_evidence.keys()\n",
    "    }\n",
    "    # print(gwas_subject_term_matches)\n",
    "    # combined back\n",
    "    res = {\n",
    "        \"doi\": evidence_entry[\"doi\"],\n",
    "        \"subject_term\": evidence_entry[\"subject_term\"],\n",
    "        \"object_term\": evidence_entry[\"object_term\"],\n",
    "        \"pred_term\": evidence_entry[\"pred_term\"],\n",
    "        \"assoc_evidence\": assoc_evidence_filter,\n",
    "        \"triple_evidence\": triple_evidence_filter,\n",
    "    }\n",
    "    return res\n",
    "\n",
    "\n",
    "_combined_evidence_filter_asq_step = (\n",
    "    py_.chain(range(len(combined_evidence)))\n",
    "    .map(\n",
    "        lambda idx: filter_combined_evidence_asq(\n",
    "            evidence_entry=combined_evidence[idx],\n",
    "            threshold=_threshold,\n",
    "        )\n",
    "    )\n",
    "    .value()\n",
    ")\n",
    "\n",
    "print(len(_combined_evidence_filter_asq_step))\n",
    "\n",
    "_input_dir = analysis_dir / \"tmp\"\n",
    "_input_dir.mkdir(exist_ok=True)\n",
    "_input_path = _input_dir / \"asq_threshold_filter.json\"\n",
    "with _input_path.open(\"w\") as f:\n",
    "    json.dump(_combined_evidence_filter_asq_step, f)"
   ]
  },
  {
   "cell_type": "code",
   "execution_count": 200,
   "id": "8240dcda-232a-4350-9d73-23a712ac9345",
   "metadata": {
    "execution": {
     "iopub.execute_input": "2024-06-23T12:23:42.122540Z",
     "iopub.status.busy": "2024-06-23T12:23:42.121997Z",
     "iopub.status.idle": "2024-06-23T12:23:49.813747Z",
     "shell.execute_reply": "2024-06-23T12:23:49.812254Z",
     "shell.execute_reply.started": "2024-06-23T12:23:42.122498Z"
    }
   },
   "outputs": [
    {
     "name": "stdout",
     "output_type": "stream",
     "text": [
      "7\n"
     ]
    }
   ],
   "source": [
    "combined_evidence_filter = (\n",
    "    py_.chain(THRESHOLDS)\n",
    "    .map(\n",
    "        lambda threshold_rec: {\n",
    "            \"filter_type\": threshold_rec[\"label\"],\n",
    "            \"evidence\": py_.chain(range(len(combined_evidence)))\n",
    "            .map(\n",
    "                lambda idx: filter_combined_evidence_asq(\n",
    "                    evidence_entry=combined_evidence[idx],\n",
    "                    threshold=threshold_rec[\"threshold\"],\n",
    "                )\n",
    "            )\n",
    "            .value(),\n",
    "        }\n",
    "    )\n",
    "    .value()\n",
    ")\n",
    "print(len(combined_evidence_filter))\n",
    "\n",
    "_output_path = analysis_dir / \"combined_evidence_filter.json\"\n",
    "with _output_path.open(\"w\") as f:\n",
    "    json.dump(combined_evidence_filter, f)"
   ]
  }
 ],
 "metadata": {
  "kernelspec": {
   "display_name": "Python 3 (ipykernel)",
   "language": "python",
   "name": "python3"
  },
  "language_info": {
   "codemirror_mode": {
    "name": "ipython",
    "version": 3
   },
   "file_extension": ".py",
   "mimetype": "text/x-python",
   "name": "python",
   "nbconvert_exporter": "python",
   "pygments_lexer": "ipython3",
   "version": "3.8.19"
  }
 },
 "nbformat": 4,
 "nbformat_minor": 5
}
