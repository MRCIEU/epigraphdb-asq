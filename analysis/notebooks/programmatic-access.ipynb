{
 "cells": [
  {
   "cell_type": "markdown",
   "id": "e284825e-2d5c-4846-b673-52920ca91f66",
   "metadata": {},
   "source": [
    "# Programmatic access to the ASQ platform"
   ]
  },
  {
   "cell_type": "markdown",
   "id": "1c6378b3-5e1b-484c-b7a5-5e34b9070aca",
   "metadata": {},
   "source": [
    "TODO: desc"
   ]
  },
  {
   "cell_type": "code",
   "execution_count": 2,
   "id": "8f22b042-490c-40ed-98fa-b7f1eeeb031f",
   "metadata": {
    "execution": {
     "iopub.execute_input": "2022-04-04T14:53:07.830312Z",
     "iopub.status.busy": "2022-04-04T14:53:07.829731Z",
     "iopub.status.idle": "2022-04-04T14:53:10.673897Z",
     "shell.execute_reply": "2022-04-04T14:53:10.673209Z",
     "shell.execute_reply.started": "2022-04-04T14:53:07.830258Z"
    },
    "tags": []
   },
   "outputs": [],
   "source": [
    "import requests\n",
    "import pandas as pd"
   ]
  }
 ],
 "metadata": {
  "kernelspec": {
   "display_name": "Python 3 (ipykernel)",
   "language": "python",
   "name": "python3"
  },
  "language_info": {
   "codemirror_mode": {
    "name": "ipython",
    "version": 3
   },
   "file_extension": ".py",
   "mimetype": "text/x-python",
   "name": "python",
   "nbconvert_exporter": "python",
   "pygments_lexer": "ipython3",
   "version": "3.8.12"
  }
 },
 "nbformat": 4,
 "nbformat_minor": 5
}
