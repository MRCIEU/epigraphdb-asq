{
 "cells": [
  {
   "cell_type": "code",
   "execution_count": 3,
   "id": "79a98085-fe15-454d-b4bd-e866f87ae4de",
   "metadata": {
    "execution": {
     "iopub.execute_input": "2021-10-25T10:24:28.037109Z",
     "iopub.status.busy": "2021-10-25T10:24:28.036653Z",
     "iopub.status.idle": "2021-10-25T10:24:28.071334Z",
     "shell.execute_reply": "2021-10-25T10:24:28.070765Z",
     "shell.execute_reply.started": "2021-10-25T10:24:28.037055Z"
    },
    "tags": []
   },
   "outputs": [],
   "source": [
    "from typing_extensions import TypedDict\n",
    "from pydantic import validate_arguments"
   ]
  },
  {
   "cell_type": "code",
   "execution_count": 4,
   "id": "dcb2a2cc-fb5a-4d40-b3f0-ac8801e41121",
   "metadata": {
    "execution": {
     "iopub.execute_input": "2021-10-25T10:24:31.115137Z",
     "iopub.status.busy": "2021-10-25T10:24:31.114436Z",
     "iopub.status.idle": "2021-10-25T10:24:31.120585Z",
     "shell.execute_reply": "2021-10-25T10:24:31.119471Z",
     "shell.execute_reply.started": "2021-10-25T10:24:31.115082Z"
    },
    "tags": []
   },
   "outputs": [],
   "source": [
    "class Foo(TypedDict):\n",
    "    a: str\n",
    "    b: int"
   ]
  },
  {
   "cell_type": "code",
   "execution_count": 5,
   "id": "0110d432-97d9-4e12-8357-9082fade481d",
   "metadata": {
    "execution": {
     "iopub.execute_input": "2021-10-25T10:24:59.841017Z",
     "iopub.status.busy": "2021-10-25T10:24:59.840325Z",
     "iopub.status.idle": "2021-10-25T10:24:59.852811Z",
     "shell.execute_reply": "2021-10-25T10:24:59.852146Z",
     "shell.execute_reply.started": "2021-10-25T10:24:59.840963Z"
    },
    "tags": []
   },
   "outputs": [],
   "source": [
    "@validate_arguments\n",
    "def foobar(foo: Foo) -> None:\n",
    "    print(foo)"
   ]
  },
  {
   "cell_type": "code",
   "execution_count": 14,
   "id": "0e4766cd-18b3-4023-888a-38463fdecdde",
   "metadata": {
    "execution": {
     "iopub.execute_input": "2021-10-25T10:31:29.227696Z",
     "iopub.status.busy": "2021-10-25T10:31:29.227261Z",
     "iopub.status.idle": "2021-10-25T10:31:29.234115Z",
     "shell.execute_reply": "2021-10-25T10:31:29.233057Z",
     "shell.execute_reply.started": "2021-10-25T10:31:29.227643Z"
    },
    "tags": []
   },
   "outputs": [],
   "source": [
    "foo = {\"a\": \"a\", \"b\": 1}\n",
    "foo1 = {\"a\": \"a\", \"b\": \"b\"}\n",
    "foo2 = {\"a\": 1, \"b\": 2}\n",
    "foo3 = {\"b\": 2}"
   ]
  },
  {
   "cell_type": "code",
   "execution_count": 11,
   "id": "cb19af91-9bee-4ed0-a189-4572468a0282",
   "metadata": {
    "execution": {
     "iopub.execute_input": "2021-10-25T10:30:52.272965Z",
     "iopub.status.busy": "2021-10-25T10:30:52.272430Z",
     "iopub.status.idle": "2021-10-25T10:30:52.279465Z",
     "shell.execute_reply": "2021-10-25T10:30:52.278311Z",
     "shell.execute_reply.started": "2021-10-25T10:30:52.272913Z"
    },
    "tags": []
   },
   "outputs": [
    {
     "name": "stdout",
     "output_type": "stream",
     "text": [
      "{'a': 'a', 'b': 1}\n"
     ]
    }
   ],
   "source": [
    "foobar(foo)"
   ]
  },
  {
   "cell_type": "code",
   "execution_count": 12,
   "id": "47c05674-9930-4159-8811-4c5d5f3ec1d4",
   "metadata": {
    "execution": {
     "iopub.execute_input": "2021-10-25T10:30:57.232001Z",
     "iopub.status.busy": "2021-10-25T10:30:57.231286Z",
     "iopub.status.idle": "2021-10-25T10:30:57.249795Z",
     "shell.execute_reply": "2021-10-25T10:30:57.248875Z",
     "shell.execute_reply.started": "2021-10-25T10:30:57.231944Z"
    },
    "tags": []
   },
   "outputs": [
    {
     "ename": "ValidationError",
     "evalue": "1 validation error for Foobar\nfoo -> b\n  value is not a valid integer (type=type_error.integer)",
     "output_type": "error",
     "traceback": [
      "\u001b[0;31m---------------------------------------------------------------------------\u001b[0m",
      "\u001b[0;31mValidationError\u001b[0m                           Traceback (most recent call last)",
      "\u001b[0;32m/tmp/ipykernel_5636/440509172.py\u001b[0m in \u001b[0;36m<module>\u001b[0;34m\u001b[0m\n\u001b[0;32m----> 1\u001b[0;31m \u001b[0mfoobar\u001b[0m\u001b[0;34m(\u001b[0m\u001b[0mfoo1\u001b[0m\u001b[0;34m)\u001b[0m\u001b[0;34m\u001b[0m\u001b[0;34m\u001b[0m\u001b[0m\n\u001b[0m",
      "\u001b[0;32m~/miniconda3/envs/evidence-retrieval/lib/python3.8/site-packages/pydantic/decorator.cpython-38-x86_64-linux-gnu.so\u001b[0m in \u001b[0;36mpydantic.decorator.validate_arguments.validate.wrapper_function\u001b[0;34m()\u001b[0m\n",
      "\u001b[0;32m~/miniconda3/envs/evidence-retrieval/lib/python3.8/site-packages/pydantic/decorator.cpython-38-x86_64-linux-gnu.so\u001b[0m in \u001b[0;36mpydantic.decorator.ValidatedFunction.call\u001b[0;34m()\u001b[0m\n",
      "\u001b[0;32m~/miniconda3/envs/evidence-retrieval/lib/python3.8/site-packages/pydantic/decorator.cpython-38-x86_64-linux-gnu.so\u001b[0m in \u001b[0;36mpydantic.decorator.ValidatedFunction.init_model_instance\u001b[0;34m()\u001b[0m\n",
      "\u001b[0;32m~/miniconda3/envs/evidence-retrieval/lib/python3.8/site-packages/pydantic/main.cpython-38-x86_64-linux-gnu.so\u001b[0m in \u001b[0;36mpydantic.main.BaseModel.__init__\u001b[0;34m()\u001b[0m\n",
      "\u001b[0;31mValidationError\u001b[0m: 1 validation error for Foobar\nfoo -> b\n  value is not a valid integer (type=type_error.integer)"
     ]
    }
   ],
   "source": [
    "foobar(foo1)"
   ]
  },
  {
   "cell_type": "code",
   "execution_count": 13,
   "id": "4081128b-1bfd-43cc-a6ed-e78a52d09abb",
   "metadata": {
    "execution": {
     "iopub.execute_input": "2021-10-25T10:31:07.874372Z",
     "iopub.status.busy": "2021-10-25T10:31:07.873835Z",
     "iopub.status.idle": "2021-10-25T10:31:07.879230Z",
     "shell.execute_reply": "2021-10-25T10:31:07.878460Z",
     "shell.execute_reply.started": "2021-10-25T10:31:07.874320Z"
    },
    "tags": []
   },
   "outputs": [
    {
     "name": "stdout",
     "output_type": "stream",
     "text": [
      "{'a': '1', 'b': 2}\n"
     ]
    }
   ],
   "source": [
    "foobar(foo2)"
   ]
  },
  {
   "cell_type": "code",
   "execution_count": 15,
   "id": "23a648a2-5cb6-4ff7-81ba-19caa0131a9e",
   "metadata": {
    "execution": {
     "iopub.execute_input": "2021-10-25T10:31:34.722332Z",
     "iopub.status.busy": "2021-10-25T10:31:34.721902Z",
     "iopub.status.idle": "2021-10-25T10:31:34.739264Z",
     "shell.execute_reply": "2021-10-25T10:31:34.738393Z",
     "shell.execute_reply.started": "2021-10-25T10:31:34.722283Z"
    },
    "tags": []
   },
   "outputs": [
    {
     "ename": "ValidationError",
     "evalue": "1 validation error for Foobar\nfoo -> a\n  field required (type=value_error.missing)",
     "output_type": "error",
     "traceback": [
      "\u001b[0;31m---------------------------------------------------------------------------\u001b[0m",
      "\u001b[0;31mValidationError\u001b[0m                           Traceback (most recent call last)",
      "\u001b[0;32m/tmp/ipykernel_5636/3745293759.py\u001b[0m in \u001b[0;36m<module>\u001b[0;34m\u001b[0m\n\u001b[0;32m----> 1\u001b[0;31m \u001b[0mfoobar\u001b[0m\u001b[0;34m(\u001b[0m\u001b[0mfoo3\u001b[0m\u001b[0;34m)\u001b[0m\u001b[0;34m\u001b[0m\u001b[0;34m\u001b[0m\u001b[0m\n\u001b[0m",
      "\u001b[0;32m~/miniconda3/envs/evidence-retrieval/lib/python3.8/site-packages/pydantic/decorator.cpython-38-x86_64-linux-gnu.so\u001b[0m in \u001b[0;36mpydantic.decorator.validate_arguments.validate.wrapper_function\u001b[0;34m()\u001b[0m\n",
      "\u001b[0;32m~/miniconda3/envs/evidence-retrieval/lib/python3.8/site-packages/pydantic/decorator.cpython-38-x86_64-linux-gnu.so\u001b[0m in \u001b[0;36mpydantic.decorator.ValidatedFunction.call\u001b[0;34m()\u001b[0m\n",
      "\u001b[0;32m~/miniconda3/envs/evidence-retrieval/lib/python3.8/site-packages/pydantic/decorator.cpython-38-x86_64-linux-gnu.so\u001b[0m in \u001b[0;36mpydantic.decorator.ValidatedFunction.init_model_instance\u001b[0;34m()\u001b[0m\n",
      "\u001b[0;32m~/miniconda3/envs/evidence-retrieval/lib/python3.8/site-packages/pydantic/main.cpython-38-x86_64-linux-gnu.so\u001b[0m in \u001b[0;36mpydantic.main.BaseModel.__init__\u001b[0;34m()\u001b[0m\n",
      "\u001b[0;31mValidationError\u001b[0m: 1 validation error for Foobar\nfoo -> a\n  field required (type=value_error.missing)"
     ]
    }
   ],
   "source": [
    "foobar(foo3)"
   ]
  },
  {
   "cell_type": "code",
   "execution_count": 16,
   "id": "ed6d3dde-8c7a-4342-bd14-7a08e660bd6b",
   "metadata": {
    "execution": {
     "iopub.execute_input": "2021-10-25T12:22:20.387568Z",
     "iopub.status.busy": "2021-10-25T12:22:20.387130Z",
     "iopub.status.idle": "2021-10-25T12:22:20.400444Z",
     "shell.execute_reply": "2021-10-25T12:22:20.399816Z",
     "shell.execute_reply.started": "2021-10-25T12:22:20.387515Z"
    },
    "tags": []
   },
   "outputs": [],
   "source": [
    "class FooBar:\n",
    "    \n",
    "    @validate_arguments\n",
    "    def __init__(self, a: int = 1):\n",
    "        self.a = 1\n",
    "        \n",
    "    @validate_arguments\n",
    "    def foobar(self, foo: Foo):\n",
    "        print(foo)"
   ]
  },
  {
   "cell_type": "code",
   "execution_count": 18,
   "id": "68f2e2a7-3f75-4475-956b-0bc995730d07",
   "metadata": {
    "execution": {
     "iopub.execute_input": "2021-10-25T12:22:49.961781Z",
     "iopub.status.busy": "2021-10-25T12:22:49.961322Z",
     "iopub.status.idle": "2021-10-25T12:22:49.967273Z",
     "shell.execute_reply": "2021-10-25T12:22:49.966302Z",
     "shell.execute_reply.started": "2021-10-25T12:22:49.961729Z"
    },
    "tags": []
   },
   "outputs": [],
   "source": [
    "bar = FooBar(a=0)"
   ]
  },
  {
   "cell_type": "code",
   "execution_count": 20,
   "id": "002794a9-e906-4889-b510-13fddd5f8ca8",
   "metadata": {
    "execution": {
     "iopub.execute_input": "2021-10-25T12:23:06.893525Z",
     "iopub.status.busy": "2021-10-25T12:23:06.893093Z",
     "iopub.status.idle": "2021-10-25T12:23:06.900124Z",
     "shell.execute_reply": "2021-10-25T12:23:06.898975Z",
     "shell.execute_reply.started": "2021-10-25T12:23:06.893473Z"
    },
    "tags": []
   },
   "outputs": [
    {
     "name": "stdout",
     "output_type": "stream",
     "text": [
      "{'a': 'a', 'b': 1}\n"
     ]
    }
   ],
   "source": [
    "bar.foobar(foo)"
   ]
  },
  {
   "cell_type": "code",
   "execution_count": 21,
   "id": "af69af0b-39d3-47ec-b19d-92bbad0ad2f1",
   "metadata": {
    "execution": {
     "iopub.execute_input": "2021-10-25T12:23:13.353728Z",
     "iopub.status.busy": "2021-10-25T12:23:13.353265Z",
     "iopub.status.idle": "2021-10-25T12:23:13.371795Z",
     "shell.execute_reply": "2021-10-25T12:23:13.371114Z",
     "shell.execute_reply.started": "2021-10-25T12:23:13.353673Z"
    },
    "tags": []
   },
   "outputs": [
    {
     "ename": "ValidationError",
     "evalue": "1 validation error for Foobar\nfoo -> b\n  value is not a valid integer (type=type_error.integer)",
     "output_type": "error",
     "traceback": [
      "\u001b[0;31m---------------------------------------------------------------------------\u001b[0m",
      "\u001b[0;31mValidationError\u001b[0m                           Traceback (most recent call last)",
      "\u001b[0;32m/tmp/ipykernel_5636/896430134.py\u001b[0m in \u001b[0;36m<module>\u001b[0;34m\u001b[0m\n\u001b[0;32m----> 1\u001b[0;31m \u001b[0mbar\u001b[0m\u001b[0;34m.\u001b[0m\u001b[0mfoobar\u001b[0m\u001b[0;34m(\u001b[0m\u001b[0mfoo1\u001b[0m\u001b[0;34m)\u001b[0m\u001b[0;34m\u001b[0m\u001b[0;34m\u001b[0m\u001b[0m\n\u001b[0m",
      "\u001b[0;32m~/miniconda3/envs/evidence-retrieval/lib/python3.8/site-packages/pydantic/decorator.cpython-38-x86_64-linux-gnu.so\u001b[0m in \u001b[0;36mpydantic.decorator.validate_arguments.validate.wrapper_function\u001b[0;34m()\u001b[0m\n",
      "\u001b[0;32m~/miniconda3/envs/evidence-retrieval/lib/python3.8/site-packages/pydantic/decorator.cpython-38-x86_64-linux-gnu.so\u001b[0m in \u001b[0;36mpydantic.decorator.ValidatedFunction.call\u001b[0;34m()\u001b[0m\n",
      "\u001b[0;32m~/miniconda3/envs/evidence-retrieval/lib/python3.8/site-packages/pydantic/decorator.cpython-38-x86_64-linux-gnu.so\u001b[0m in \u001b[0;36mpydantic.decorator.ValidatedFunction.init_model_instance\u001b[0;34m()\u001b[0m\n",
      "\u001b[0;32m~/miniconda3/envs/evidence-retrieval/lib/python3.8/site-packages/pydantic/main.cpython-38-x86_64-linux-gnu.so\u001b[0m in \u001b[0;36mpydantic.main.BaseModel.__init__\u001b[0;34m()\u001b[0m\n",
      "\u001b[0;31mValidationError\u001b[0m: 1 validation error for Foobar\nfoo -> b\n  value is not a valid integer (type=type_error.integer)"
     ]
    }
   ],
   "source": [
    "bar.foobar(foo1)"
   ]
  },
  {
   "cell_type": "code",
   "execution_count": 23,
   "id": "9bc18397-54f2-4c20-8f9e-437167c83a99",
   "metadata": {
    "execution": {
     "iopub.execute_input": "2021-10-25T12:23:34.129555Z",
     "iopub.status.busy": "2021-10-25T12:23:34.129126Z",
     "iopub.status.idle": "2021-10-25T12:23:34.146368Z",
     "shell.execute_reply": "2021-10-25T12:23:34.145349Z",
     "shell.execute_reply.started": "2021-10-25T12:23:34.129503Z"
    },
    "tags": []
   },
   "outputs": [
    {
     "ename": "ValidationError",
     "evalue": "1 validation error for Init\na\n  value is not a valid integer (type=type_error.integer)",
     "output_type": "error",
     "traceback": [
      "\u001b[0;31m---------------------------------------------------------------------------\u001b[0m",
      "\u001b[0;31mValidationError\u001b[0m                           Traceback (most recent call last)",
      "\u001b[0;32m/tmp/ipykernel_5636/3830502727.py\u001b[0m in \u001b[0;36m<module>\u001b[0;34m\u001b[0m\n\u001b[0;32m----> 1\u001b[0;31m \u001b[0mbar1\u001b[0m \u001b[0;34m=\u001b[0m \u001b[0mFooBar\u001b[0m\u001b[0;34m(\u001b[0m\u001b[0ma\u001b[0m\u001b[0;34m=\u001b[0m\u001b[0;34m\"a\"\u001b[0m\u001b[0;34m)\u001b[0m\u001b[0;34m\u001b[0m\u001b[0;34m\u001b[0m\u001b[0m\n\u001b[0m",
      "\u001b[0;32m~/miniconda3/envs/evidence-retrieval/lib/python3.8/site-packages/pydantic/decorator.cpython-38-x86_64-linux-gnu.so\u001b[0m in \u001b[0;36mpydantic.decorator.validate_arguments.validate.wrapper_function\u001b[0;34m()\u001b[0m\n",
      "\u001b[0;32m~/miniconda3/envs/evidence-retrieval/lib/python3.8/site-packages/pydantic/decorator.cpython-38-x86_64-linux-gnu.so\u001b[0m in \u001b[0;36mpydantic.decorator.ValidatedFunction.call\u001b[0;34m()\u001b[0m\n",
      "\u001b[0;32m~/miniconda3/envs/evidence-retrieval/lib/python3.8/site-packages/pydantic/decorator.cpython-38-x86_64-linux-gnu.so\u001b[0m in \u001b[0;36mpydantic.decorator.ValidatedFunction.init_model_instance\u001b[0;34m()\u001b[0m\n",
      "\u001b[0;32m~/miniconda3/envs/evidence-retrieval/lib/python3.8/site-packages/pydantic/main.cpython-38-x86_64-linux-gnu.so\u001b[0m in \u001b[0;36mpydantic.main.BaseModel.__init__\u001b[0;34m()\u001b[0m\n",
      "\u001b[0;31mValidationError\u001b[0m: 1 validation error for Init\na\n  value is not a valid integer (type=type_error.integer)"
     ]
    }
   ],
   "source": [
    "bar1 = FooBar(a=\"a\")"
   ]
  }
 ],
 "metadata": {
  "kernelspec": {
   "display_name": "Python 3 (ipykernel)",
   "language": "python",
   "name": "python3"
  },
  "language_info": {
   "codemirror_mode": {
    "name": "ipython",
    "version": 3
   },
   "file_extension": ".py",
   "mimetype": "text/x-python",
   "name": "python",
   "nbconvert_exporter": "python",
   "pygments_lexer": "ipython3",
   "version": "3.8.12"
  }
 },
 "nbformat": 4,
 "nbformat_minor": 5
}
